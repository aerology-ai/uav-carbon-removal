{
 "cells": [
  {
   "cell_type": "code",
   "execution_count": 103,
   "id": "initial_id",
   "metadata": {
    "collapsed": true,
    "ExecuteTime": {
     "end_time": "2024-03-25T13:11:20.640287Z",
     "start_time": "2024-03-25T13:11:20.627906Z"
    }
   },
   "outputs": [],
   "source": [
    "import math\n",
    "import pytz\n",
    "import pickle\n",
    "import folium\n",
    "import rasterio\n",
    "import requests\n",
    "import time\n",
    "\n",
    "import numpy as np\n",
    "import pandas as pd\n",
    "import geopandas as gpd\n",
    "import matplotlib.pyplot as plt\n",
    "\n",
    "from io import StringIO\n",
    "from Py6S import *\n",
    "from folium.plugins import HeatMap\n",
    "from datetime import datetime, timedelta\n",
    "from timezonefinder import TimezoneFinder"
   ]
  },
  {
   "cell_type": "code",
   "outputs": [],
   "source": [
    "q_table_path = 'q_table_2024-03-25-02-59-52.npy'\n",
    "q_table = np.load(q_table_path)"
   ],
   "metadata": {
    "collapsed": false,
    "ExecuteTime": {
     "end_time": "2024-03-25T13:11:20.767516Z",
     "start_time": "2024-03-25T13:11:20.713346Z"
    }
   },
   "id": "ef68de0ad2b5c3df",
   "execution_count": 104
  },
  {
   "cell_type": "code",
   "outputs": [],
   "source": [
    "with open('/Users/timothydonohue/Documents/Data/nasa_power_dict.pkl', 'rb') as pickle_file:\n",
    "    data_dict = pickle.load(pickle_file)"
   ],
   "metadata": {
    "collapsed": false,
    "ExecuteTime": {
     "end_time": "2024-03-25T13:11:26.390627Z",
     "start_time": "2024-03-25T13:11:20.769297Z"
    }
   },
   "id": "92c13fb8eea3d7a6",
   "execution_count": 105
  },
  {
   "cell_type": "code",
   "outputs": [],
   "source": [
    "speed = 13  # Speed in m/s\n",
    "time_step = 3\n",
    "\n",
    "earth_circumference_km = 40075\n",
    "degrees_per_latitude = earth_circumference_km / 360\n",
    "travel_distance_km = speed * time_step * 3600 / 1000\n",
    "\n",
    "lat_range = 61  # 0 to 60 degrees inclusive is 61 degrees\n",
    "degrees_per_step_lat = travel_distance_km / degrees_per_latitude\n",
    "num_lat_steps = int(lat_range / degrees_per_step_lat)\n",
    "\n",
    "lon_range = 31\n",
    "representative_lat = 30\n",
    "degrees_per_longitude_at_lat = np.cos(np.radians(representative_lat)) * degrees_per_latitude\n",
    "degrees_per_step_lon = travel_distance_km / degrees_per_longitude_at_lat\n",
    "num_lon_steps = int(lon_range / degrees_per_step_lon)\n",
    "\n",
    "num_days = int(365 / 4)  # 3 months\n",
    "num_daily_timesteps = int(24 / time_step)\n",
    "num_time_steps = num_days * num_daily_timesteps\n",
    "\n",
    "start_state = (22, 4, 0, 0)\n",
    "optimal_path = [start_state]"
   ],
   "metadata": {
    "collapsed": false,
    "ExecuteTime": {
     "end_time": "2024-03-25T13:11:26.398334Z",
     "start_time": "2024-03-25T13:11:26.392483Z"
    }
   },
   "id": "2fed4827078b4e1c",
   "execution_count": 106
  },
  {
   "cell_type": "code",
   "outputs": [],
   "source": [
    "def take_action(input_state, action_key):\n",
    "    lat_index, lon_index, day_index, hour_index = input_state\n",
    "\n",
    "    action_effects = {\n",
    "        0: (1, 0),  # 'N'\n",
    "        1: (1, 1),  # 'NE'\n",
    "        2: (0, 1),  # 'E'\n",
    "        3: (-1, 1),  # 'SE'\n",
    "        4: (-1, 0),  # 'S'\n",
    "        5: (-1, -1),  # 'SW'\n",
    "        6: (0, -1),  # 'W'\n",
    "        7: (1, -1),  # 'NW'\n",
    "        8: (0, 0),  # 'STAY'\n",
    "    }\n",
    "\n",
    "    lat_change, lon_change = action_effects[action_key]\n",
    "\n",
    "    new_lat_index = max(0, min(num_lat_steps - 1, lat_index + lat_change))\n",
    "    new_lon_index = max(0, min(num_lon_steps - 1, lon_index + lon_change))\n",
    "\n",
    "    new_time_index = min(day_index * num_daily_timesteps + hour_index + 1, num_time_steps - 1)\n",
    "    new_day_index = new_time_index // num_daily_timesteps\n",
    "    new_hour_index = new_time_index % num_daily_timesteps\n",
    "\n",
    "    return new_lat_index, new_lon_index, new_day_index, new_hour_index"
   ],
   "metadata": {
    "collapsed": false,
    "ExecuteTime": {
     "end_time": "2024-03-25T13:11:26.412662Z",
     "start_time": "2024-03-25T13:11:26.403029Z"
    }
   },
   "id": "4bd8700de42c076d",
   "execution_count": 107
  },
  {
   "cell_type": "code",
   "outputs": [],
   "source": [
    "for step in range(num_time_steps):\n",
    "    start_lat, start_lon, start_day, start_hour = start_state\n",
    "    action = np.argmax(q_table[start_lat, start_lon, start_day, start_hour])\n",
    "    next_state = take_action(start_state, action)\n",
    "    \n",
    "    optimal_path.append(next_state)\n",
    "    \n",
    "    start_state = next_state\n",
    "    \n",
    "    if start_state[2] == num_days - 1 and start_state[3] == num_daily_timesteps - 1:\n",
    "        break"
   ],
   "metadata": {
    "collapsed": false,
    "ExecuteTime": {
     "end_time": "2024-03-25T13:11:26.486951Z",
     "start_time": "2024-03-25T13:11:26.415112Z"
    }
   },
   "id": "af1e5c7f778b2e97",
   "execution_count": 108
  },
  {
   "cell_type": "code",
   "outputs": [
    {
     "data": {
      "text/plain": "[(22, 4, 0, 0),\n (23, 4, 0, 1),\n (22, 3, 0, 2),\n (22, 2, 0, 3),\n (22, 3, 0, 4),\n (22, 4, 0, 5),\n (22, 5, 0, 6),\n (23, 5, 0, 7),\n (24, 5, 1, 0),\n (23, 6, 1, 1)]"
     },
     "execution_count": 109,
     "metadata": {},
     "output_type": "execute_result"
    }
   ],
   "source": [
    "optimal_path[0:10]"
   ],
   "metadata": {
    "collapsed": false,
    "ExecuteTime": {
     "end_time": "2024-03-25T13:11:26.492291Z",
     "start_time": "2024-03-25T13:11:26.487808Z"
    }
   },
   "id": "467fcb3c01f995c7",
   "execution_count": 109
  },
  {
   "cell_type": "code",
   "outputs": [],
   "source": [
    "def est_dni_from_py6s(latitude, longitude, altitude, dthz):\n",
    "    s = SixS()\n",
    "    dthz_30 = dthz + timedelta(minutes=30)\n",
    "\n",
    "    datetime_str = dthz_30.strftime('%Y-%m-%dT%H:%M:%S')\n",
    "    s.atmos_profile = AtmosProfile.FromLatitudeAndDate(latitude, datetime_str)\n",
    "    s.altitudes.set_target_custom_altitude(altitude / 1000)\n",
    "\n",
    "    s.geometry = Geometry.User()\n",
    "    s.geometry.from_time_and_location(latitude, longitude, datetime_str, 0, 0)\n",
    "\n",
    "    if s.geometry.solar_z > 90:\n",
    "        return 0\n",
    "\n",
    "    s.run()\n",
    "\n",
    "    dni = s.outputs.direct_solar_irradiance / math.cos(math.radians(s.outputs.solar_z))\n",
    "\n",
    "    return dni\n",
    "\n",
    "\n",
    "def adjust_dni_for_altitude(lat, lon, dthz, interpolated_sfc_dni):\n",
    "    # Get DNI at 0m and 5400m\n",
    "    dni_at_0m = est_dni_from_py6s(lat, lon, 0, dthz)\n",
    "    dni_at_5400m = est_dni_from_py6s(lat, lon, 5400, dthz)\n",
    "\n",
    "    # If dni_at_0m is 0, set the adjustment factor to 1, so the original NASA DNI is used\n",
    "    if dni_at_0m == 0:\n",
    "        adjustment_factor = 1\n",
    "    else:\n",
    "        adjustment_factor = dni_at_5400m / dni_at_0m\n",
    "\n",
    "    # Calculate the adjusted DNI\n",
    "    adjusted_dni = adjustment_factor * interpolated_sfc_dni\n",
    "\n",
    "    return adjusted_dni\n",
    "\n",
    "\n",
    "def bilinear_interpolation(lat, lon, datetime_obj, latitude_range=(0, 60), longitude_range=(-50, -20)):\n",
    "    \"\"\"\n",
    "    Perform bilinear interpolation for a point (lat, lon) at a given datetime using a nested dictionary,\n",
    "    adjust the DNI value based on altitude, and add both interpolated and adjusted values to the dictionary.\n",
    "    lat - latitude, lon - longitude, datetime_obj - the specific datetime object for DNI values in UTC.\n",
    "    lat_range - Tuple indicating the range of latitude values (default is (0, 60)).\n",
    "    lon_range - Tuple indicating the range of longitude values (default is (-50, -20)).\n",
    "    data_dict - nested dictionary structure {latitude: {longitude: {unix_timestamp: {'sfc_dni': value}}}}\n",
    "    \"\"\"\n",
    "    unix_timestamp = int(datetime_obj.timestamp())\n",
    "\n",
    "    # Slight perturbation inward for boundary points\n",
    "    delta = 1e-6  # Small perturbation value\n",
    "    if lat == latitude_range[1]:\n",
    "        lat -= delta  # Slightly decrease lat if it's on the upper boundary\n",
    "    elif lat == latitude_range[0]:\n",
    "        lat += delta  # Slightly increase lat if it's on the lower boundary\n",
    "\n",
    "    if lon == longitude_range[0]:\n",
    "        lon += delta  # Slightly increase lon if it's on the left boundary\n",
    "    elif lon == longitude_range[1]:\n",
    "        lon -= delta  # Slightly decrease lon if it's on the right boundary\n",
    "\n",
    "    if data_dict.get(lat) and data_dict[lat].get(lon) and data_dict[lat][lon].get(unix_timestamp):\n",
    "        sfc_dni = data_dict[lat][lon][unix_timestamp].get('sfc_dni', float('nan'))\n",
    "\n",
    "        if 'alt_adj_dni' not in data_dict[lat][lon][unix_timestamp]:\n",
    "            data_dict[lat][lon][unix_timestamp]['alt_adj_dni'] = adjust_dni_for_altitude(lat,\n",
    "                                                                                         lon,\n",
    "                                                                                         datetime_obj,\n",
    "                                                                                         sfc_dni)\n",
    "        alt_adj_dni = data_dict[lat][lon][unix_timestamp]['alt_adj_dni']\n",
    "\n",
    "        return sfc_dni, alt_adj_dni\n",
    "\n",
    "    # Identify the grid cell boundaries\n",
    "    lat_lower = float(int(lat))\n",
    "    lat_upper = lat_lower + 1\n",
    "    lon_left = float(int(lon)) if lon > 0 else float(int(lon) - 1)\n",
    "    lon_right = lon_left + 1\n",
    "\n",
    "    values = {}\n",
    "    for lat_bound in ('lower', 'upper'):\n",
    "        for lon_bound in ('left', 'right'):\n",
    "            current_lat = lat_lower if lat_bound == 'lower' else lat_upper\n",
    "            current_lon = lon_left if lon_bound == 'left' else lon_right\n",
    "\n",
    "            key_name = f\"value_{lat_bound}_{lon_bound}\"\n",
    "            values[key_name] = data_dict.get(\n",
    "                current_lat, {}\n",
    "            ).get(\n",
    "                current_lon, {}\n",
    "            ).get(\n",
    "                unix_timestamp, {'sfc_dni': float('nan')}\n",
    "            )['sfc_dni']\n",
    "\n",
    "    # Normalized distances\n",
    "    lat_diff = lat - lat_lower\n",
    "    lon_diff = lon - lon_left\n",
    "\n",
    "    # Bilinear interpolation formula\n",
    "    interpolated_sfc_dni = (values['value_lower_left'] * (1 - lat_diff) * (1 - lon_diff) +\n",
    "                            values['value_lower_right'] * (1 - lat_diff) * lon_diff +\n",
    "                            values['value_upper_left'] * lat_diff * (1 - lon_diff) +\n",
    "                            values['value_upper_right'] * lat_diff * lon_diff)\n",
    "\n",
    "    alt_adj_dni = adjust_dni_for_altitude(lat, lon, datetime_obj, interpolated_sfc_dni)\n",
    "\n",
    "    data_dict.setdefault(lat, {}).setdefault(lon, {})[unix_timestamp] = {'sfc_dni': interpolated_sfc_dni,\n",
    "                                                                         'alt_adj_dni': alt_adj_dni}\n",
    "\n",
    "    return interpolated_sfc_dni, alt_adj_dni\n",
    "\n",
    "\n",
    "def convert_state_to_sensible_values(state_indices, latitude_range=(0, 60), longitude_range=(-50, -20)):\n",
    "    lat_index, lon_index, day_index, hour_index = state_indices\n",
    "\n",
    "    # Adjust geo_lat calculation based on the provided lat_range\n",
    "    geo_lat = ((lat_index / (num_lat_steps - 1)) * abs(latitude_range[0] - latitude_range[1])) + latitude_range[0]\n",
    "\n",
    "    # Adjust geo_lon calculation based on the provided lon_range\n",
    "    # Using abs() to ensure the correct step calculation for negative ranges\n",
    "    geo_lon = ((lon_index / (num_lon_steps - 1)) * abs(longitude_range[0] - longitude_range[1])) + longitude_range[0]\n",
    "\n",
    "    hours = day_index * 24 + hour_index * time_step\n",
    "    dthz = datetime(2022, 3, 20, tzinfo=pytz.utc) + timedelta(hours=hours)\n",
    "\n",
    "    tf = TimezoneFinder()\n",
    "    time_zone_str = tf.timezone_at(lat=geo_lat, lng=geo_lon)\n",
    "\n",
    "    if time_zone_str:\n",
    "        time_zone = pytz.timezone(time_zone_str)\n",
    "        dthl = dthz.astimezone(time_zone)\n",
    "    else:\n",
    "        # Calculate local time adjustment based on longitude\n",
    "        local_time_offset = timedelta(hours=geo_lon / 15)\n",
    "        dthl = dthz + local_time_offset\n",
    "\n",
    "    return geo_lat, geo_lon, dthz, dthl"
   ],
   "metadata": {
    "collapsed": false,
    "ExecuteTime": {
     "end_time": "2024-03-25T13:11:26.514871Z",
     "start_time": "2024-03-25T13:11:26.494841Z"
    }
   },
   "id": "1cd474711d6b66a9",
   "execution_count": 110
  },
  {
   "cell_type": "code",
   "outputs": [
    {
     "data": {
      "text/plain": "                  datehour_utc             datehour_local        lat   lon  \\\nstep                                                                         \n0    2022-03-20 00:00:00+00:00  2022-03-19 21:00:00-03:00  28.085106 -44.0   \n1    2022-03-20 03:00:00+00:00  2022-03-20 00:00:00-03:00  29.361702 -44.0   \n2    2022-03-20 06:00:00+00:00  2022-03-20 03:00:00-03:00  28.085106 -45.5   \n3    2022-03-20 09:00:00+00:00  2022-03-20 06:00:00-03:00  28.085106 -47.0   \n4    2022-03-20 12:00:00+00:00  2022-03-20 09:00:00-03:00  28.085106 -45.5   \n\n      surface_dni  altitude_adj_dni       q_value  \nstep                                               \n0        0.000000          0.000000   9151.856285  \n1        0.000000          0.000000   9633.532932  \n2        0.000000          0.000000  10140.560981  \n3      221.359149        885.436596   9742.236195  \n4      871.575532        965.883758   9238.265723  ",
      "text/html": "<div>\n<style scoped>\n    .dataframe tbody tr th:only-of-type {\n        vertical-align: middle;\n    }\n\n    .dataframe tbody tr th {\n        vertical-align: top;\n    }\n\n    .dataframe thead th {\n        text-align: right;\n    }\n</style>\n<table border=\"1\" class=\"dataframe\">\n  <thead>\n    <tr style=\"text-align: right;\">\n      <th></th>\n      <th>datehour_utc</th>\n      <th>datehour_local</th>\n      <th>lat</th>\n      <th>lon</th>\n      <th>surface_dni</th>\n      <th>altitude_adj_dni</th>\n      <th>q_value</th>\n    </tr>\n    <tr>\n      <th>step</th>\n      <th></th>\n      <th></th>\n      <th></th>\n      <th></th>\n      <th></th>\n      <th></th>\n      <th></th>\n    </tr>\n  </thead>\n  <tbody>\n    <tr>\n      <th>0</th>\n      <td>2022-03-20 00:00:00+00:00</td>\n      <td>2022-03-19 21:00:00-03:00</td>\n      <td>28.085106</td>\n      <td>-44.0</td>\n      <td>0.000000</td>\n      <td>0.000000</td>\n      <td>9151.856285</td>\n    </tr>\n    <tr>\n      <th>1</th>\n      <td>2022-03-20 03:00:00+00:00</td>\n      <td>2022-03-20 00:00:00-03:00</td>\n      <td>29.361702</td>\n      <td>-44.0</td>\n      <td>0.000000</td>\n      <td>0.000000</td>\n      <td>9633.532932</td>\n    </tr>\n    <tr>\n      <th>2</th>\n      <td>2022-03-20 06:00:00+00:00</td>\n      <td>2022-03-20 03:00:00-03:00</td>\n      <td>28.085106</td>\n      <td>-45.5</td>\n      <td>0.000000</td>\n      <td>0.000000</td>\n      <td>10140.560981</td>\n    </tr>\n    <tr>\n      <th>3</th>\n      <td>2022-03-20 09:00:00+00:00</td>\n      <td>2022-03-20 06:00:00-03:00</td>\n      <td>28.085106</td>\n      <td>-47.0</td>\n      <td>221.359149</td>\n      <td>885.436596</td>\n      <td>9742.236195</td>\n    </tr>\n    <tr>\n      <th>4</th>\n      <td>2022-03-20 12:00:00+00:00</td>\n      <td>2022-03-20 09:00:00-03:00</td>\n      <td>28.085106</td>\n      <td>-45.5</td>\n      <td>871.575532</td>\n      <td>965.883758</td>\n      <td>9238.265723</td>\n    </tr>\n  </tbody>\n</table>\n</div>"
     },
     "execution_count": 111,
     "metadata": {},
     "output_type": "execute_result"
    }
   ],
   "source": [
    "data = []\n",
    "\n",
    "for state in optimal_path:\n",
    "    action = np.argmax(q_table[state])\n",
    "    q_value = q_table[state + (action,)]\n",
    "\n",
    "    # Convert state indices to geographic coordinates and time\n",
    "    coord_lat, coord_lon, datehour_utc, datehour_local = convert_state_to_sensible_values(state)\n",
    "\n",
    "    # Get sfc_dni and alt_adj_dni using bilinear interpolation\n",
    "    surface_dni, altitude_adj_dni = bilinear_interpolation(coord_lat, coord_lon, datehour_utc, data_dict)\n",
    "\n",
    "    # Append data for this step\n",
    "    data.append({\n",
    "        'datehour_utc': datehour_utc,\n",
    "        'datehour_local': datehour_local,\n",
    "        'lat': coord_lat,\n",
    "        'lon': coord_lon,\n",
    "        'surface_dni': surface_dni,\n",
    "        'altitude_adj_dni': altitude_adj_dni,\n",
    "        'q_value': q_value\n",
    "    })\n",
    "\n",
    "# Create the DataFrame\n",
    "df = pd.DataFrame(data)\n",
    "df.index.name = 'step'\n",
    "df.head()"
   ],
   "metadata": {
    "collapsed": false,
    "ExecuteTime": {
     "end_time": "2024-03-25T13:15:10.800325Z",
     "start_time": "2024-03-25T13:11:26.517232Z"
    }
   },
   "id": "ff920af89a01f4ac",
   "execution_count": 111
  },
  {
   "cell_type": "code",
   "outputs": [
    {
     "data": {
      "text/plain": "count     728.000000\nmean      484.073401\nstd       435.375419\nmin         0.000000\n25%         0.000000\n50%       622.394681\n75%       923.656748\nmax      1060.431833\nName: altitude_adj_dni, dtype: float64"
     },
     "execution_count": 112,
     "metadata": {},
     "output_type": "execute_result"
    }
   ],
   "source": [
    "df['altitude_adj_dni'].describe()"
   ],
   "metadata": {
    "collapsed": false,
    "ExecuteTime": {
     "end_time": "2024-03-25T13:15:10.808546Z",
     "start_time": "2024-03-25T13:15:10.801543Z"
    }
   },
   "id": "87501746fc85a3bc",
   "execution_count": 112
  },
  {
   "cell_type": "code",
   "outputs": [
    {
     "data": {
      "text/plain": "count    728.000000\nmean     403.240724\nstd      394.169798\nmin        0.000000\n25%        0.000000\n50%      267.029662\n75%      838.386729\nmax      986.097646\nName: surface_dni, dtype: float64"
     },
     "execution_count": 113,
     "metadata": {},
     "output_type": "execute_result"
    }
   ],
   "source": [
    "df['surface_dni'].describe()"
   ],
   "metadata": {
    "collapsed": false,
    "ExecuteTime": {
     "end_time": "2024-03-25T13:15:10.815414Z",
     "start_time": "2024-03-25T13:15:10.811345Z"
    }
   },
   "id": "2e7bd39f57abf77f",
   "execution_count": 113
  },
  {
   "cell_type": "code",
   "outputs": [
    {
     "data": {
      "text/plain": "<folium.folium.Map at 0x312e99490>",
      "text/html": "<div style=\"width:100%;\"><div style=\"position:relative;width:100%;height:0;padding-bottom:60%;\"><span style=\"color:#565656\">Make this Notebook Trusted to load map: File -> Trust Notebook</span><iframe srcdoc=\"&lt;!DOCTYPE html&gt;\n&lt;html&gt;\n&lt;head&gt;\n    \n    &lt;meta http-equiv=&quot;content-type&quot; content=&quot;text/html; charset=UTF-8&quot; /&gt;\n    \n        &lt;script&gt;\n            L_NO_TOUCH = false;\n            L_DISABLE_3D = false;\n        &lt;/script&gt;\n    \n    &lt;style&gt;html, body {width: 100%;height: 100%;margin: 0;padding: 0;}&lt;/style&gt;\n    &lt;style&gt;#map {position:absolute;top:0;bottom:0;right:0;left:0;}&lt;/style&gt;\n    &lt;script src=&quot;https://cdn.jsdelivr.net/npm/leaflet@1.9.3/dist/leaflet.js&quot;&gt;&lt;/script&gt;\n    &lt;script src=&quot;https://code.jquery.com/jquery-1.12.4.min.js&quot;&gt;&lt;/script&gt;\n    &lt;script src=&quot;https://cdn.jsdelivr.net/npm/bootstrap@5.2.2/dist/js/bootstrap.bundle.min.js&quot;&gt;&lt;/script&gt;\n    &lt;script src=&quot;https://cdnjs.cloudflare.com/ajax/libs/Leaflet.awesome-markers/2.0.2/leaflet.awesome-markers.js&quot;&gt;&lt;/script&gt;\n    &lt;link rel=&quot;stylesheet&quot; href=&quot;https://cdn.jsdelivr.net/npm/leaflet@1.9.3/dist/leaflet.css&quot;/&gt;\n    &lt;link rel=&quot;stylesheet&quot; href=&quot;https://cdn.jsdelivr.net/npm/bootstrap@5.2.2/dist/css/bootstrap.min.css&quot;/&gt;\n    &lt;link rel=&quot;stylesheet&quot; href=&quot;https://netdna.bootstrapcdn.com/bootstrap/3.0.0/css/bootstrap.min.css&quot;/&gt;\n    &lt;link rel=&quot;stylesheet&quot; href=&quot;https://cdn.jsdelivr.net/npm/@fortawesome/fontawesome-free@6.2.0/css/all.min.css&quot;/&gt;\n    &lt;link rel=&quot;stylesheet&quot; href=&quot;https://cdnjs.cloudflare.com/ajax/libs/Leaflet.awesome-markers/2.0.2/leaflet.awesome-markers.css&quot;/&gt;\n    &lt;link rel=&quot;stylesheet&quot; href=&quot;https://cdn.jsdelivr.net/gh/python-visualization/folium/folium/templates/leaflet.awesome.rotate.min.css&quot;/&gt;\n    \n            &lt;meta name=&quot;viewport&quot; content=&quot;width=device-width,\n                initial-scale=1.0, maximum-scale=1.0, user-scalable=no&quot; /&gt;\n            &lt;style&gt;\n                #map_1ec0a18fed209d50aa9f428a064e7084 {\n                    position: relative;\n                    width: 100.0%;\n                    height: 100.0%;\n                    left: 0.0%;\n                    top: 0.0%;\n                }\n                .leaflet-container { font-size: 1rem; }\n            &lt;/style&gt;\n        \n    &lt;script src=&quot;https://cdn.jsdelivr.net/gh/python-visualization/folium@main/folium/templates/leaflet_heat.min.js&quot;&gt;&lt;/script&gt;\n&lt;/head&gt;\n&lt;body&gt;\n    \n    \n            &lt;div class=&quot;folium-map&quot; id=&quot;map_1ec0a18fed209d50aa9f428a064e7084&quot; &gt;&lt;/div&gt;\n        \n&lt;/body&gt;\n&lt;script&gt;\n    \n    \n            var map_1ec0a18fed209d50aa9f428a064e7084 = L.map(\n                &quot;map_1ec0a18fed209d50aa9f428a064e7084&quot;,\n                {\n                    center: [26.97509936871639, -44.61813186813187],\n                    crs: L.CRS.EPSG3857,\n                    zoom: 4,\n                    zoomControl: true,\n                    preferCanvas: false,\n                }\n            );\n\n            \n\n        \n    \n            var tile_layer_d6a260a24db6eca108a0eec12396507a = L.tileLayer(\n                &quot;https://{s}.tile.openstreetmap.org/{z}/{x}/{y}.png&quot;,\n                {&quot;attribution&quot;: &quot;Data by \\u0026copy; \\u003ca target=\\&quot;_blank\\&quot; href=\\&quot;http://openstreetmap.org\\&quot;\\u003eOpenStreetMap\\u003c/a\\u003e, under \\u003ca target=\\&quot;_blank\\&quot; href=\\&quot;http://www.openstreetmap.org/copyright\\&quot;\\u003eODbL\\u003c/a\\u003e.&quot;, &quot;detectRetina&quot;: false, &quot;maxNativeZoom&quot;: 18, &quot;maxZoom&quot;: 18, &quot;minZoom&quot;: 0, &quot;noWrap&quot;: false, &quot;opacity&quot;: 1, &quot;subdomains&quot;: &quot;abc&quot;, &quot;tms&quot;: false}\n            ).addTo(map_1ec0a18fed209d50aa9f428a064e7084);\n        \n    \n            var heat_map_decefca05cd2d8e9045a41b960a4e5a8 = L.heatLayer(\n                [[28.085106382978722, -44.0], [29.361702127659573, -44.0], [28.085106382978722, -45.5], [28.085106382978722, -47.0], [28.085106382978722, -45.5], [28.085106382978722, -44.0], [28.085106382978722, -42.5], [29.361702127659573, -42.5], [30.638297872340424, -42.5], [29.361702127659573, -41.0], [28.085106382978722, -39.5], [26.80851063829787, -41.0], [26.80851063829787, -42.5], [26.80851063829787, -41.0], [26.80851063829787, -39.5], [25.53191489361702, -41.0], [24.25531914893617, -42.5], [24.25531914893617, -44.0], [25.53191489361702, -45.5], [24.25531914893617, -47.0], [25.53191489361702, -47.0], [26.80851063829787, -47.0], [28.085106382978722, -47.0], [29.361702127659573, -45.5], [30.638297872340424, -44.0], [29.361702127659573, -42.5], [28.085106382978722, -41.0], [26.80851063829787, -39.5], [26.80851063829787, -41.0], [25.53191489361702, -42.5], [26.80851063829787, -41.0], [28.085106382978722, -41.0], [29.361702127659573, -41.0], [28.085106382978722, -39.5], [26.80851063829787, -38.0], [25.53191489361702, -39.5], [25.53191489361702, -39.5], [24.25531914893617, -38.0], [22.97872340425532, -38.0], [24.25531914893617, -38.0], [25.53191489361702, -38.0], [24.25531914893617, -38.0], [22.97872340425532, -39.5], [21.70212765957447, -38.0], [21.70212765957447, -39.5], [20.425531914893618, -41.0], [19.148936170212767, -42.5], [20.425531914893618, -42.5], [21.70212765957447, -42.5], [20.425531914893618, -41.0], [19.148936170212767, -39.5], [17.872340425531913, -38.0], [17.872340425531913, -36.5], [16.595744680851066, -35.0], [17.872340425531913, -33.5], [19.148936170212767, -33.5], [20.425531914893618, -33.5], [21.70212765957447, -35.0], [21.70212765957447, -36.5], [22.97872340425532, -38.0], [22.97872340425532, -38.0], [22.97872340425532, -38.0], [21.70212765957447, -38.0], [22.97872340425532, -38.0], [21.70212765957447, -39.5], [20.425531914893618, -41.0], [21.70212765957447, -42.5], [20.425531914893618, -42.5], [19.148936170212767, -41.0], [19.148936170212767, -42.5], [19.148936170212767, -41.0], [20.425531914893618, -42.5], [21.70212765957447, -44.0], [22.97872340425532, -45.5], [24.25531914893617, -47.0], [25.53191489361702, -48.5], [24.25531914893617, -50.0], [25.53191489361702, -50.0], [26.80851063829787, -48.5], [26.80851063829787, -50.0], [26.80851063829787, -48.5], [25.53191489361702, -47.0], [24.25531914893617, -45.5], [22.97872340425532, -47.0], [24.25531914893617, -47.0], [22.97872340425532, -48.5], [21.70212765957447, -50.0], [22.97872340425532, -50.0], [24.25531914893617, -50.0], [25.53191489361702, -50.0], [25.53191489361702, -48.5], [24.25531914893617, -48.5], [22.97872340425532, -50.0], [22.97872340425532, -50.0], [22.97872340425532, -50.0], [21.70212765957447, -50.0], [22.97872340425532, -50.0], [24.25531914893617, -50.0], [22.97872340425532, -48.5], [21.70212765957447, -50.0], [20.425531914893618, -48.5], [20.425531914893618, -50.0], [20.425531914893618, -50.0], [21.70212765957447, -50.0], [22.97872340425532, -50.0], [24.25531914893617, -50.0], [25.53191489361702, -50.0], [26.80851063829787, -50.0], [26.80851063829787, -50.0], [28.085106382978722, -48.5], [26.80851063829787, -47.0], [26.80851063829787, -48.5], [28.085106382978722, -48.5], [29.361702127659573, -48.5], [28.085106382978722, -47.0], [26.80851063829787, -47.0], [26.80851063829787, -47.0], [28.085106382978722, -48.5], [28.085106382978722, -47.0], [26.80851063829787, -48.5], [28.085106382978722, -48.5], [29.361702127659573, -48.5], [28.085106382978722, -47.0], [26.80851063829787, -45.5], [26.80851063829787, -45.5], [26.80851063829787, -47.0], [26.80851063829787, -48.5], [28.085106382978722, -50.0], [28.085106382978722, -48.5], [26.80851063829787, -47.0], [25.53191489361702, -48.5], [24.25531914893617, -50.0], [22.97872340425532, -50.0], [22.97872340425532, -48.5], [22.97872340425532, -48.5], [21.70212765957447, -50.0], [22.97872340425532, -50.0], [24.25531914893617, -50.0], [25.53191489361702, -50.0], [25.53191489361702, -50.0], [25.53191489361702, -48.5], [26.80851063829787, -50.0], [26.80851063829787, -50.0], [25.53191489361702, -50.0], [26.80851063829787, -50.0], [26.80851063829787, -48.5], [25.53191489361702, -47.0], [24.25531914893617, -45.5], [22.97872340425532, -47.0], [22.97872340425532, -48.5], [22.97872340425532, -50.0], [22.97872340425532, -50.0], [24.25531914893617, -48.5], [25.53191489361702, -47.0], [26.80851063829787, -45.5], [25.53191489361702, -44.0], [24.25531914893617, -45.5], [25.53191489361702, -47.0], [25.53191489361702, -48.5], [25.53191489361702, -50.0], [26.80851063829787, -48.5], [25.53191489361702, -47.0], [24.25531914893617, -45.5], [22.97872340425532, -44.0], [22.97872340425532, -44.0], [22.97872340425532, -44.0], [22.97872340425532, -45.5], [22.97872340425532, -47.0], [24.25531914893617, -45.5], [24.25531914893617, -44.0], [22.97872340425532, -42.5], [22.97872340425532, -41.0], [22.97872340425532, -41.0], [21.70212765957447, -42.5], [21.70212765957447, -44.0], [22.97872340425532, -45.5], [24.25531914893617, -45.5], [25.53191489361702, -45.5], [24.25531914893617, -44.0], [22.97872340425532, -44.0], [21.70212765957447, -45.5], [20.425531914893618, -47.0], [20.425531914893618, -47.0], [20.425531914893618, -48.5], [21.70212765957447, -48.5], [22.97872340425532, -48.5], [22.97872340425532, -47.0], [21.70212765957447, -47.0], [20.425531914893618, -48.5], [19.148936170212767, -48.5], [19.148936170212767, -50.0], [19.148936170212767, -50.0], [20.425531914893618, -50.0], [21.70212765957447, -48.5], [21.70212765957447, -47.0], [20.425531914893618, -45.5], [20.425531914893618, -47.0], [20.425531914893618, -47.0], [19.148936170212767, -47.0], [19.148936170212767, -47.0], [20.425531914893618, -45.5], [21.70212765957447, -44.0], [21.70212765957447, -42.5], [20.425531914893618, -41.0], [21.70212765957447, -39.5], [22.97872340425532, -38.0], [22.97872340425532, -38.0], [24.25531914893617, -36.5], [25.53191489361702, -36.5], [25.53191489361702, -38.0], [26.80851063829787, -38.0], [28.085106382978722, -38.0], [28.085106382978722, -38.0], [26.80851063829787, -39.5], [28.085106382978722, -39.5], [28.085106382978722, -38.0], [26.80851063829787, -39.5], [25.53191489361702, -41.0], [24.25531914893617, -42.5], [22.97872340425532, -44.0], [22.97872340425532, -45.5], [22.97872340425532, -47.0], [22.97872340425532, -48.5], [22.97872340425532, -50.0], [24.25531914893617, -48.5], [24.25531914893617, -47.0], [22.97872340425532, -45.5], [21.70212765957447, -44.0], [21.70212765957447, -44.0], [21.70212765957447, -42.5], [20.425531914893618, -41.0], [21.70212765957447, -41.0], [22.97872340425532, -41.0], [24.25531914893617, -41.0], [22.97872340425532, -39.5], [21.70212765957447, -38.0], [21.70212765957447, -38.0], [21.70212765957447, -39.5], [21.70212765957447, -38.0], [22.97872340425532, -38.0], [24.25531914893617, -38.0], [22.97872340425532, -39.5], [21.70212765957447, -39.5], [20.425531914893618, -39.5], [20.425531914893618, -39.5], [21.70212765957447, -38.0], [20.425531914893618, -38.0], [21.70212765957447, -38.0], [22.97872340425532, -38.0], [21.70212765957447, -36.5], [20.425531914893618, -38.0], [19.148936170212767, -39.5], [19.148936170212767, -39.5], [19.148936170212767, -39.5], [19.148936170212767, -38.0], [20.425531914893618, -38.0], [19.148936170212767, -38.0], [17.872340425531913, -39.5], [16.595744680851066, -41.0], [17.872340425531913, -42.5], [17.872340425531913, -42.5], [17.872340425531913, -44.0], [17.872340425531913, -44.0], [19.148936170212767, -45.5], [20.425531914893618, -45.5], [21.70212765957447, -44.0], [20.425531914893618, -42.5], [19.148936170212767, -41.0], [17.872340425531913, -42.5], [16.595744680851066, -44.0], [15.319148936170212, -45.5], [14.042553191489361, -47.0], [15.319148936170212, -45.5], [16.595744680851066, -44.0], [17.872340425531913, -42.5], [19.148936170212767, -41.0], [19.148936170212767, -41.0], [17.872340425531913, -42.5], [17.872340425531913, -42.5], [19.148936170212767, -42.5], [20.425531914893618, -42.5], [21.70212765957447, -42.5], [22.97872340425532, -41.0], [24.25531914893617, -39.5], [24.25531914893617, -39.5], [22.97872340425532, -39.5], [24.25531914893617, -38.0], [25.53191489361702, -38.0], [24.25531914893617, -38.0], [24.25531914893617, -36.5], [24.25531914893617, -35.0], [24.25531914893617, -35.0], [24.25531914893617, -33.5], [24.25531914893617, -35.0], [24.25531914893617, -33.5], [25.53191489361702, -33.5], [24.25531914893617, -35.0], [25.53191489361702, -35.0], [26.80851063829787, -36.5], [28.085106382978722, -36.5], [29.361702127659573, -36.5], [28.085106382978722, -38.0], [28.085106382978722, -38.0], [26.80851063829787, -39.5], [25.53191489361702, -41.0], [24.25531914893617, -42.5], [24.25531914893617, -44.0], [25.53191489361702, -45.5], [24.25531914893617, -47.0], [22.97872340425532, -48.5], [21.70212765957447, -50.0], [20.425531914893618, -50.0], [21.70212765957447, -50.0], [21.70212765957447, -48.5], [20.425531914893618, -48.5], [19.148936170212767, -50.0], [20.425531914893618, -48.5], [21.70212765957447, -50.0], [22.97872340425532, -50.0], [24.25531914893617, -50.0], [25.53191489361702, -48.5], [24.25531914893617, -47.0], [22.97872340425532, -45.5], [21.70212765957447, -44.0], [21.70212765957447, -45.5], [21.70212765957447, -47.0], [22.97872340425532, -48.5], [24.25531914893617, -50.0], [25.53191489361702, -50.0], [26.80851063829787, -50.0], [26.80851063829787, -48.5], [25.53191489361702, -50.0], [26.80851063829787, -50.0], [28.085106382978722, -48.5], [28.085106382978722, -50.0], [28.085106382978722, -50.0], [29.361702127659573, -50.0], [30.638297872340424, -50.0], [30.638297872340424, -48.5], [29.361702127659573, -47.0], [30.638297872340424, -45.5], [31.914893617021278, -44.0], [31.914893617021278, -44.0], [31.914893617021278, -45.5], [33.19148936170213, -45.5], [31.914893617021278, -47.0], [31.914893617021278, -48.5], [33.19148936170213, -50.0], [31.914893617021278, -50.0], [33.19148936170213, -50.0], [34.46808510638298, -48.5], [34.46808510638298, -50.0], [35.744680851063826, -50.0], [35.744680851063826, -48.5], [34.46808510638298, -47.0], [33.19148936170213, -48.5], [33.19148936170213, -47.0], [33.19148936170213, -45.5], [33.19148936170213, -45.5], [31.914893617021278, -47.0], [33.19148936170213, -47.0], [34.46808510638298, -47.0], [35.744680851063826, -47.0], [37.02127659574468, -47.0], [37.02127659574468, -48.5], [38.297872340425535, -50.0], [37.02127659574468, -50.0], [37.02127659574468, -50.0], [38.297872340425535, -50.0], [37.02127659574468, -48.5], [35.744680851063826, -48.5], [34.46808510638298, -50.0], [34.46808510638298, -50.0], [33.19148936170213, -50.0], [31.914893617021278, -50.0], [30.638297872340424, -48.5], [31.914893617021278, -48.5], [33.19148936170213, -48.5], [31.914893617021278, -47.0], [30.638297872340424, -47.0], [29.361702127659573, -47.0], [30.638297872340424, -47.0], [29.361702127659573, -47.0], [30.638297872340424, -47.0], [31.914893617021278, -47.0], [33.19148936170213, -45.5], [33.19148936170213, -44.0], [31.914893617021278, -42.5], [30.638297872340424, -42.5], [30.638297872340424, -44.0], [29.361702127659573, -45.5], [30.638297872340424, -47.0], [31.914893617021278, -45.5], [33.19148936170213, -44.0], [33.19148936170213, -42.5], [31.914893617021278, -41.0], [33.19148936170213, -39.5], [34.46808510638298, -41.0], [35.744680851063826, -42.5], [37.02127659574468, -44.0], [35.744680851063826, -45.5], [34.46808510638298, -47.0], [33.19148936170213, -48.5], [34.46808510638298, -50.0], [33.19148936170213, -50.0], [34.46808510638298, -48.5], [33.19148936170213, -47.0], [33.19148936170213, -45.5], [34.46808510638298, -45.5], [35.744680851063826, -45.5], [35.744680851063826, -45.5], [37.02127659574468, -44.0], [37.02127659574468, -44.0], [37.02127659574468, -44.0], [37.02127659574468, -45.5], [37.02127659574468, -44.0], [35.744680851063826, -42.5], [34.46808510638298, -42.5], [33.19148936170213, -44.0], [31.914893617021278, -45.5], [33.19148936170213, -47.0], [33.19148936170213, -47.0], [31.914893617021278, -47.0], [31.914893617021278, -48.5], [33.19148936170213, -48.5], [34.46808510638298, -48.5], [34.46808510638298, -47.0], [33.19148936170213, -48.5], [33.19148936170213, -50.0], [33.19148936170213, -48.5], [31.914893617021278, -47.0], [31.914893617021278, -45.5], [30.638297872340424, -45.5], [29.361702127659573, -47.0], [29.361702127659573, -48.5], [28.085106382978722, -50.0], [28.085106382978722, -50.0], [29.361702127659573, -48.5], [28.085106382978722, -50.0], [26.80851063829787, -50.0], [28.085106382978722, -50.0], [29.361702127659573, -48.5], [29.361702127659573, -47.0], [28.085106382978722, -45.5], [26.80851063829787, -45.5], [25.53191489361702, -47.0], [24.25531914893617, -47.0], [24.25531914893617, -48.5], [25.53191489361702, -47.0], [25.53191489361702, -45.5], [24.25531914893617, -44.0], [22.97872340425532, -42.5], [24.25531914893617, -42.5], [24.25531914893617, -44.0], [25.53191489361702, -45.5], [26.80851063829787, -47.0], [28.085106382978722, -47.0], [26.80851063829787, -45.5], [25.53191489361702, -45.5], [24.25531914893617, -47.0], [22.97872340425532, -48.5], [22.97872340425532, -50.0], [22.97872340425532, -50.0], [22.97872340425532, -48.5], [24.25531914893617, -48.5], [25.53191489361702, -48.5], [24.25531914893617, -47.0], [22.97872340425532, -45.5], [22.97872340425532, -47.0], [22.97872340425532, -48.5], [22.97872340425532, -48.5], [22.97872340425532, -50.0], [24.25531914893617, -50.0], [25.53191489361702, -50.0], [24.25531914893617, -48.5], [22.97872340425532, -50.0], [22.97872340425532, -50.0], [22.97872340425532, -50.0], [22.97872340425532, -48.5], [22.97872340425532, -48.5], [24.25531914893617, -47.0], [22.97872340425532, -45.5], [24.25531914893617, -44.0], [22.97872340425532, -42.5], [22.97872340425532, -44.0], [22.97872340425532, -44.0], [22.97872340425532, -44.0], [21.70212765957447, -44.0], [22.97872340425532, -44.0], [24.25531914893617, -44.0], [25.53191489361702, -42.5], [25.53191489361702, -41.0], [25.53191489361702, -39.5], [26.80851063829787, -39.5], [26.80851063829787, -39.5], [25.53191489361702, -41.0], [24.25531914893617, -42.5], [24.25531914893617, -44.0], [25.53191489361702, -45.5], [26.80851063829787, -47.0], [26.80851063829787, -47.0], [26.80851063829787, -47.0], [28.085106382978722, -47.0], [29.361702127659573, -45.5], [28.085106382978722, -47.0], [26.80851063829787, -47.0], [25.53191489361702, -48.5], [24.25531914893617, -50.0], [22.97872340425532, -48.5], [22.97872340425532, -50.0], [24.25531914893617, -48.5], [25.53191489361702, -47.0], [26.80851063829787, -47.0], [25.53191489361702, -47.0], [24.25531914893617, -48.5], [22.97872340425532, -50.0], [21.70212765957447, -48.5], [21.70212765957447, -50.0], [21.70212765957447, -50.0], [21.70212765957447, -48.5], [22.97872340425532, -48.5], [24.25531914893617, -48.5], [22.97872340425532, -47.0], [21.70212765957447, -48.5], [20.425531914893618, -48.5], [20.425531914893618, -48.5], [20.425531914893618, -50.0], [21.70212765957447, -48.5], [22.97872340425532, -48.5], [22.97872340425532, -47.0], [21.70212765957447, -48.5], [20.425531914893618, -50.0], [20.425531914893618, -48.5], [21.70212765957447, -47.0], [22.97872340425532, -47.0], [24.25531914893617, -47.0], [25.53191489361702, -47.0], [25.53191489361702, -45.5], [24.25531914893617, -44.0], [22.97872340425532, -42.5], [22.97872340425532, -42.5], [22.97872340425532, -44.0], [22.97872340425532, -45.5], [24.25531914893617, -47.0], [25.53191489361702, -47.0], [26.80851063829787, -47.0], [26.80851063829787, -45.5], [26.80851063829787, -44.0], [28.085106382978722, -44.0], [26.80851063829787, -44.0], [26.80851063829787, -44.0], [26.80851063829787, -45.5], [28.085106382978722, -45.5], [29.361702127659573, -45.5], [29.361702127659573, -44.0], [28.085106382978722, -44.0], [26.80851063829787, -45.5], [26.80851063829787, -47.0], [26.80851063829787, -47.0], [26.80851063829787, -45.5], [28.085106382978722, -45.5], [29.361702127659573, -45.5], [30.638297872340424, -45.5], [31.914893617021278, -47.0], [31.914893617021278, -45.5], [31.914893617021278, -45.5], [31.914893617021278, -47.0], [31.914893617021278, -48.5], [33.19148936170213, -48.5], [34.46808510638298, -48.5], [33.19148936170213, -47.0], [31.914893617021278, -47.0], [30.638297872340424, -47.0], [31.914893617021278, -47.0], [33.19148936170213, -48.5], [33.19148936170213, -47.0], [33.19148936170213, -45.5], [31.914893617021278, -44.0], [30.638297872340424, -45.5], [29.361702127659573, -47.0], [29.361702127659573, -47.0], [29.361702127659573, -47.0], [28.085106382978722, -47.0], [26.80851063829787, -45.5], [28.085106382978722, -45.5], [29.361702127659573, -44.0], [29.361702127659573, -42.5], [28.085106382978722, -41.0], [28.085106382978722, -41.0], [28.085106382978722, -41.0], [29.361702127659573, -42.5], [29.361702127659573, -44.0], [30.638297872340424, -44.0], [31.914893617021278, -44.0], [30.638297872340424, -42.5], [29.361702127659573, -41.0], [28.085106382978722, -41.0], [26.80851063829787, -42.5], [26.80851063829787, -44.0], [25.53191489361702, -45.5], [26.80851063829787, -44.0], [28.085106382978722, -42.5], [28.085106382978722, -41.0], [26.80851063829787, -39.5], [25.53191489361702, -41.0], [24.25531914893617, -42.5], [24.25531914893617, -44.0], [25.53191489361702, -45.5], [26.80851063829787, -45.5], [28.085106382978722, -44.0], [26.80851063829787, -42.5], [25.53191489361702, -41.0], [25.53191489361702, -41.0], [26.80851063829787, -41.0], [26.80851063829787, -42.5], [28.085106382978722, -44.0], [29.361702127659573, -44.0], [29.361702127659573, -42.5], [28.085106382978722, -42.5], [28.085106382978722, -44.0], [28.085106382978722, -45.5], [29.361702127659573, -47.0], [29.361702127659573, -45.5], [28.085106382978722, -44.0], [29.361702127659573, -44.0], [30.638297872340424, -44.0], [29.361702127659573, -42.5], [28.085106382978722, -42.5], [28.085106382978722, -41.0], [29.361702127659573, -39.5], [30.638297872340424, -41.0], [30.638297872340424, -42.5], [31.914893617021278, -42.5], [33.19148936170213, -41.0], [34.46808510638298, -39.5], [33.19148936170213, -38.0], [31.914893617021278, -38.0], [33.19148936170213, -38.0], [34.46808510638298, -39.5], [33.19148936170213, -41.0], [34.46808510638298, -41.0], [35.744680851063826, -41.0], [34.46808510638298, -39.5], [33.19148936170213, -38.0], [31.914893617021278, -39.5], [30.638297872340424, -41.0], [29.361702127659573, -42.5], [28.085106382978722, -44.0], [29.361702127659573, -44.0], [30.638297872340424, -44.0], [30.638297872340424, -42.5], [31.914893617021278, -41.0], [31.914893617021278, -42.5], [31.914893617021278, -42.5], [31.914893617021278, -41.0], [30.638297872340424, -42.5], [31.914893617021278, -42.5], [33.19148936170213, -42.5], [31.914893617021278, -42.5], [31.914893617021278, -44.0], [30.638297872340424, -42.5], [29.361702127659573, -44.0], [28.085106382978722, -44.0], [26.80851063829787, -44.0], [28.085106382978722, -44.0], [29.361702127659573, -44.0], [30.638297872340424, -44.0], [30.638297872340424, -44.0], [30.638297872340424, -44.0], [31.914893617021278, -42.5], [31.914893617021278, -44.0], [30.638297872340424, -42.5], [31.914893617021278, -42.5], [33.19148936170213, -42.5], [34.46808510638298, -42.5], [33.19148936170213, -44.0], [31.914893617021278, -45.5], [31.914893617021278, -45.5], [30.638297872340424, -47.0], [30.638297872340424, -47.0], [31.914893617021278, -47.0], [33.19148936170213, -47.0], [33.19148936170213, -45.5], [31.914893617021278, -44.0], [30.638297872340424, -45.5], [31.914893617021278, -47.0], [31.914893617021278, -48.5], [31.914893617021278, -50.0], [33.19148936170213, -50.0], [33.19148936170213, -48.5], [31.914893617021278, -47.0], [30.638297872340424, -48.5], [31.914893617021278, -48.5], [33.19148936170213, -48.5], [34.46808510638298, -48.5], [34.46808510638298, -50.0], [34.46808510638298, -48.5], [35.744680851063826, -47.0], [35.744680851063826, -45.5], [34.46808510638298, -44.0], [35.744680851063826, -44.0], [35.744680851063826, -42.5], [35.744680851063826, -41.0], [34.46808510638298, -39.5], [35.744680851063826, -39.5], [37.02127659574468, -39.5], [35.744680851063826, -38.0], [35.744680851063826, -38.0], [37.02127659574468, -38.0], [35.744680851063826, -39.5], [35.744680851063826, -38.0], [37.02127659574468, -38.0], [38.297872340425535, -38.0], [39.57446808510638, -38.0], [38.297872340425535, -36.5], [37.02127659574468, -36.5], [37.02127659574468, -38.0], [37.02127659574468, -38.0], [38.297872340425535, -39.5], [37.02127659574468, -38.0], [38.297872340425535, -38.0], [39.57446808510638, -38.0], [39.57446808510638, -36.5], [40.851063829787236, -35.0], [39.57446808510638, -36.5], [40.851063829787236, -36.5], [40.851063829787236, -36.5], [39.57446808510638, -36.5]],\n                {&quot;blur&quot;: 15, &quot;maxZoom&quot;: 18, &quot;minOpacity&quot;: 0.5, &quot;radius&quot;: 15}\n            ).addTo(map_1ec0a18fed209d50aa9f428a064e7084);\n        \n&lt;/script&gt;\n&lt;/html&gt;\" style=\"position:absolute;width:100%;height:100%;left:0;top:0;border:none !important;\" allowfullscreen webkitallowfullscreen mozallowfullscreen></iframe></div></div>"
     },
     "execution_count": 114,
     "metadata": {},
     "output_type": "execute_result"
    }
   ],
   "source": [
    "# Convert the DataFrame to a GeoDataFrame\n",
    "gdf = gpd.GeoDataFrame(df, geometry=gpd.points_from_xy(df.lon, df.lat))\n",
    "\n",
    "# Initialize the map at the mean location\n",
    "m = folium.Map(location=[gdf['lat'].mean(), gdf['lon'].mean()], zoom_start=4)\n",
    "\n",
    "# Prepare data for the HeatMap\n",
    "# If you have specific duration data, use it. Otherwise, consider each point as a single occurrence.\n",
    "heat_data = [[row['lat'], row['lon']] for index, row in gdf.iterrows()]\n",
    "\n",
    "# Add HeatMap to the map\n",
    "HeatMap(heat_data, radius=15).add_to(m)\n",
    "\n",
    "# Display the map\n",
    "m\n"
   ],
   "metadata": {
    "collapsed": false,
    "ExecuteTime": {
     "end_time": "2024-03-25T13:15:10.867711Z",
     "start_time": "2024-03-25T13:15:10.816393Z"
    }
   },
   "id": "10dd0dd1151acdfc",
   "execution_count": 114
  },
  {
   "cell_type": "code",
   "outputs": [
    {
     "data": {
      "text/plain": "count    728.000000\nmean      26.975099\nstd        5.105198\nmin       14.042553\n25%       22.978723\n50%       26.808511\n75%       30.638298\nmax       40.851064\nName: lat, dtype: float64"
     },
     "execution_count": 115,
     "metadata": {},
     "output_type": "execute_result"
    }
   ],
   "source": [
    "df['lat'].describe()"
   ],
   "metadata": {
    "collapsed": false,
    "ExecuteTime": {
     "end_time": "2024-03-25T13:15:10.873127Z",
     "start_time": "2024-03-25T13:15:10.868543Z"
    }
   },
   "id": "a58119100f994a98",
   "execution_count": 115
  },
  {
   "cell_type": "code",
   "outputs": [
    {
     "data": {
      "text/plain": "count    728.000000\nmean     -44.618132\nstd        4.071547\nmin      -50.000000\n25%      -48.500000\n50%      -45.500000\n75%      -42.500000\nmax      -33.500000\nName: lon, dtype: float64"
     },
     "execution_count": 116,
     "metadata": {},
     "output_type": "execute_result"
    }
   ],
   "source": [
    "df['lon'].describe()"
   ],
   "metadata": {
    "collapsed": false,
    "ExecuteTime": {
     "end_time": "2024-03-25T13:15:10.878311Z",
     "start_time": "2024-03-25T13:15:10.873958Z"
    }
   },
   "id": "81465eedc79bc89d",
   "execution_count": 116
  },
  {
   "cell_type": "code",
   "outputs": [
    {
     "data": {
      "text/plain": "         latitude  longitude    dni\n2858111     30.97    -115.54  9.000\n2862052     30.93    -115.50  9.000\n2858115     30.97    -115.38  8.976\n2858114     30.97    -115.42  8.976\n2865995     30.89    -115.38  8.904\n2862051     30.93    -115.54  8.904\n2865991     30.89    -115.54  8.904\n2862054     30.93    -115.42  8.880\n2865992     30.89    -115.50  8.880\n2858112     30.97    -115.50  8.880\n2858110     30.97    -115.58  8.856\n2862055     30.93    -115.38  8.856\n2858113     30.97    -115.46  8.856\n2869933     30.85    -115.46  8.832\n2869934     30.85    -115.42  8.832\n2881757     30.73    -115.30  8.832\n2877817     30.77    -115.30  8.832\n2854173     31.01    -115.46  8.832\n2885697     30.69    -115.30  8.832\n2865993     30.89    -115.46  8.832\n2865994     30.89    -115.42  8.832\n2862053     30.93    -115.46  8.808\n2854170     31.01    -115.58  8.808\n2869935     30.85    -115.38  8.808\n2869932     30.85    -115.50  8.808",
      "text/html": "<div>\n<style scoped>\n    .dataframe tbody tr th:only-of-type {\n        vertical-align: middle;\n    }\n\n    .dataframe tbody tr th {\n        vertical-align: top;\n    }\n\n    .dataframe thead th {\n        text-align: right;\n    }\n</style>\n<table border=\"1\" class=\"dataframe\">\n  <thead>\n    <tr style=\"text-align: right;\">\n      <th></th>\n      <th>latitude</th>\n      <th>longitude</th>\n      <th>dni</th>\n    </tr>\n  </thead>\n  <tbody>\n    <tr>\n      <th>2858111</th>\n      <td>30.97</td>\n      <td>-115.54</td>\n      <td>9.000</td>\n    </tr>\n    <tr>\n      <th>2862052</th>\n      <td>30.93</td>\n      <td>-115.50</td>\n      <td>9.000</td>\n    </tr>\n    <tr>\n      <th>2858115</th>\n      <td>30.97</td>\n      <td>-115.38</td>\n      <td>8.976</td>\n    </tr>\n    <tr>\n      <th>2858114</th>\n      <td>30.97</td>\n      <td>-115.42</td>\n      <td>8.976</td>\n    </tr>\n    <tr>\n      <th>2865995</th>\n      <td>30.89</td>\n      <td>-115.38</td>\n      <td>8.904</td>\n    </tr>\n    <tr>\n      <th>2862051</th>\n      <td>30.93</td>\n      <td>-115.54</td>\n      <td>8.904</td>\n    </tr>\n    <tr>\n      <th>2865991</th>\n      <td>30.89</td>\n      <td>-115.54</td>\n      <td>8.904</td>\n    </tr>\n    <tr>\n      <th>2862054</th>\n      <td>30.93</td>\n      <td>-115.42</td>\n      <td>8.880</td>\n    </tr>\n    <tr>\n      <th>2865992</th>\n      <td>30.89</td>\n      <td>-115.50</td>\n      <td>8.880</td>\n    </tr>\n    <tr>\n      <th>2858112</th>\n      <td>30.97</td>\n      <td>-115.50</td>\n      <td>8.880</td>\n    </tr>\n    <tr>\n      <th>2858110</th>\n      <td>30.97</td>\n      <td>-115.58</td>\n      <td>8.856</td>\n    </tr>\n    <tr>\n      <th>2862055</th>\n      <td>30.93</td>\n      <td>-115.38</td>\n      <td>8.856</td>\n    </tr>\n    <tr>\n      <th>2858113</th>\n      <td>30.97</td>\n      <td>-115.46</td>\n      <td>8.856</td>\n    </tr>\n    <tr>\n      <th>2869933</th>\n      <td>30.85</td>\n      <td>-115.46</td>\n      <td>8.832</td>\n    </tr>\n    <tr>\n      <th>2869934</th>\n      <td>30.85</td>\n      <td>-115.42</td>\n      <td>8.832</td>\n    </tr>\n    <tr>\n      <th>2881757</th>\n      <td>30.73</td>\n      <td>-115.30</td>\n      <td>8.832</td>\n    </tr>\n    <tr>\n      <th>2877817</th>\n      <td>30.77</td>\n      <td>-115.30</td>\n      <td>8.832</td>\n    </tr>\n    <tr>\n      <th>2854173</th>\n      <td>31.01</td>\n      <td>-115.46</td>\n      <td>8.832</td>\n    </tr>\n    <tr>\n      <th>2885697</th>\n      <td>30.69</td>\n      <td>-115.30</td>\n      <td>8.832</td>\n    </tr>\n    <tr>\n      <th>2865993</th>\n      <td>30.89</td>\n      <td>-115.46</td>\n      <td>8.832</td>\n    </tr>\n    <tr>\n      <th>2865994</th>\n      <td>30.89</td>\n      <td>-115.42</td>\n      <td>8.832</td>\n    </tr>\n    <tr>\n      <th>2862053</th>\n      <td>30.93</td>\n      <td>-115.46</td>\n      <td>8.808</td>\n    </tr>\n    <tr>\n      <th>2854170</th>\n      <td>31.01</td>\n      <td>-115.58</td>\n      <td>8.808</td>\n    </tr>\n    <tr>\n      <th>2869935</th>\n      <td>30.85</td>\n      <td>-115.38</td>\n      <td>8.808</td>\n    </tr>\n    <tr>\n      <th>2869932</th>\n      <td>30.85</td>\n      <td>-115.50</td>\n      <td>8.808</td>\n    </tr>\n  </tbody>\n</table>\n</div>"
     },
     "execution_count": 117,
     "metadata": {},
     "output_type": "execute_result"
    }
   ],
   "source": [
    "file_path = \"/Users/timothydonohue/Documents/Data/nsrdbv3_dni/Annual DNI/nsrdb3_dni.tif\"\n",
    "\n",
    "# Define the CONUS bounding box\n",
    "lat_north = 49.384358\n",
    "lat_south = 24.396308\n",
    "lon_east = -66.93457\n",
    "lon_west = -124.848974\n",
    "\n",
    "# Open the raster file\n",
    "with rasterio.open(file_path) as src:\n",
    "    # Read the data\n",
    "    data = src.read(1)  # Read the first band\n",
    "\n",
    "    # Get the affine transformation for the raster\n",
    "    transform = src.transform\n",
    "\n",
    "    # Replace any nodata values with NaNs\n",
    "    data[data == src.nodata] = np.nan\n",
    "\n",
    "    # Create an array of latitudes and longitudes\n",
    "    cols, rows = np.meshgrid(np.arange(data.shape[1]), np.arange(data.shape[0]))\n",
    "    xs, ys = rasterio.transform.xy(transform, rows, cols, offset='center')\n",
    "\n",
    "    # Flatten all arrays to enable DataFrame creation\n",
    "    flat_data = data.flatten()\n",
    "    flat_xs = np.array(xs).flatten()\n",
    "    flat_ys = np.array(ys).flatten()\n",
    "\n",
    "    # Create a DataFrame\n",
    "    df = pd.DataFrame({\n",
    "        'latitude': flat_ys,\n",
    "        'longitude': flat_xs,\n",
    "        'dni': flat_data\n",
    "    })\n",
    "\n",
    "    # Drop rows with NaN values (if any)\n",
    "    df.dropna(subset=['dni'], inplace=True)\n",
    "\n",
    "    # Filter for points within the CONUS bounding box\n",
    "    conus_df = df[(df['latitude'] >= lat_south) & (df['latitude'] <= lat_north) &\n",
    "                  (df['longitude'] >= lon_west) & (df['longitude'] <= lon_east)]\n",
    "\n",
    "    # Sort the DataFrame based on DNI values in descending order\n",
    "    df_sorted = conus_df.sort_values(by='dni', ascending=False)\n",
    "\n",
    "    # Select the top 100 DNI locations\n",
    "    top_100_dni = df_sorted.head(100)\n",
    "    \n",
    "top_100_dni.head(25)"
   ],
   "metadata": {
    "collapsed": false,
    "ExecuteTime": {
     "end_time": "2024-03-25T13:15:12.014582Z",
     "start_time": "2024-03-25T13:15:10.879173Z"
    }
   },
   "id": "509db227b888b84",
   "execution_count": 117
  },
  {
   "cell_type": "code",
   "outputs": [],
   "source": [
    "def fetch_data(lat_min, lon_min): \n",
    "    lat_max = lat_min + 10\n",
    "    lon_max = lon_min + 10\n",
    "    url = f\"https://power.larc.nasa.gov/api/temporal/monthly/regional?start=2022&end=2022&latitude-min={lat_min}&latitude-max={lat_max}&longitude-min={lon_min}&longitude-max={lon_max}&community=sb&parameters=ALLSKY_SFC_SW_DNI&format=csv&header=true\"\n",
    "    response = requests.get(url, headers={\"accept\": \"application/json\"})\n",
    "    if response.status_code == 200:\n",
    "        data = response.content.decode('utf-8')\n",
    "\n",
    "        # Find the end of the header\n",
    "        end_of_header = data.find(\"-END HEADER-\") + len(\"-END HEADER-\\n\")\n",
    "        data_no_header = data[end_of_header:]\n",
    "\n",
    "        try:\n",
    "            df = pd.read_csv(StringIO(data_no_header))\n",
    "            return df\n",
    "        except Exception as e:\n",
    "            print(f\"Error parsing data for {lat_min}-{lat_max}, {lon_min}-{lon_max}\")\n",
    "            return pd.DataFrame()\n",
    "    else:\n",
    "        print(f\"Failed to fetch data for {lat_min}-{lat_max}, {lon_min}-{lon_max}\")\n",
    "        return pd.DataFrame()"
   ],
   "metadata": {
    "collapsed": false,
    "ExecuteTime": {
     "end_time": "2024-03-25T13:15:12.021859Z",
     "start_time": "2024-03-25T13:15:12.016227Z"
    }
   },
   "id": "a758f3de1beafe4f",
   "execution_count": 118
  },
  {
   "cell_type": "markdown",
   "source": [
    "conus_2022_df = pd.DataFrame()\n",
    "\n",
    "for lon in range(-70, -111, -10):  # Step is -1 because we're moving from east to west\n",
    "    for lat in range(25, 36, 10):\n",
    "        df = fetch_data(lat, lon)\n",
    "        if not df.empty:\n",
    "            conus_2022_df = pd.concat([conus_2022_df, df], ignore_index=True)\n",
    "\n",
    "conus_2022_df.to_csv(\"/Users/timothydonohue/Downloads/nasa_power_conus_ann.csv\", index=False)\n",
    "conus_2022_df.head()"
   ],
   "metadata": {
    "collapsed": false
   },
   "id": "ebc60f9ecba33eef"
  },
  {
   "cell_type": "code",
   "outputs": [
    {
     "data": {
      "text/plain": "(4000, 17)"
     },
     "execution_count": 119,
     "metadata": {},
     "output_type": "execute_result"
    }
   ],
   "source": [
    "conus_2022_df = pd.read_csv(\"/Users/timothydonohue/Downloads/nasa_power_conus_ann.csv\")\n",
    "conus_2022_df.shape"
   ],
   "metadata": {
    "collapsed": false,
    "ExecuteTime": {
     "end_time": "2024-03-25T13:15:12.042427Z",
     "start_time": "2024-03-25T13:15:12.024037Z"
    }
   },
   "id": "f3d0fc03b04ae679",
   "execution_count": 119
  },
  {
   "cell_type": "code",
   "outputs": [
    {
     "data": {
      "text/plain": "count    4000.000000\nmean      212.851420\nstd        45.613674\nmin       122.090000\n25%       180.547500\n50%       212.070000\n75%       232.755000\nmax       322.500000\nName: ANN, dtype: float64"
     },
     "execution_count": 120,
     "metadata": {},
     "output_type": "execute_result"
    }
   ],
   "source": [
    "conus_2022_df['ANN'].describe()"
   ],
   "metadata": {
    "collapsed": false,
    "ExecuteTime": {
     "end_time": "2024-03-25T13:15:12.053474Z",
     "start_time": "2024-03-25T13:15:12.043511Z"
    }
   },
   "id": "4e8f5a3c29d64b7a",
   "execution_count": 120
  },
  {
   "cell_type": "code",
   "outputs": [
    {
     "data": {
      "text/plain": "              PARAMETER  YEAR    LAT     LON     JAN     FEB     MAR     APR  \\\n3499  ALLSKY_SFC_SW_DNI  2022  32.25 -109.75  269.09  362.41  359.34  429.16   \n3519  ALLSKY_SFC_SW_DNI  2022  32.75 -109.75  269.09  362.41  359.34  429.16   \n3498  ALLSKY_SFC_SW_DNI  2022  32.25 -109.25  269.09  362.41  359.34  429.16   \n3518  ALLSKY_SFC_SW_DNI  2022  32.75 -109.25  269.09  362.41  359.34  429.16   \n3296  ALLSKY_SFC_SW_DNI  2022  27.25 -108.25  302.44  354.11  408.34  421.55   \n3297  ALLSKY_SFC_SW_DNI  2022  27.25 -108.75  302.44  354.11  408.34  421.55   \n3317  ALLSKY_SFC_SW_DNI  2022  27.75 -108.75  302.44  354.11  408.34  421.55   \n3316  ALLSKY_SFC_SW_DNI  2022  27.75 -108.25  302.44  354.11  408.34  421.55   \n3358  ALLSKY_SFC_SW_DNI  2022  28.75 -109.25  286.73  351.91  392.34  424.45   \n3359  ALLSKY_SFC_SW_DNI  2022  28.75 -109.75  286.73  351.91  392.34  424.45   \n3338  ALLSKY_SFC_SW_DNI  2022  28.25 -109.25  286.73  351.91  392.34  424.45   \n3339  ALLSKY_SFC_SW_DNI  2022  28.25 -109.75  286.73  351.91  392.34  424.45   \n3496  ALLSKY_SFC_SW_DNI  2022  32.25 -108.25  271.80  356.43  352.95  430.45   \n3517  ALLSKY_SFC_SW_DNI  2022  32.75 -108.75  271.80  356.43  352.95  430.45   \n3516  ALLSKY_SFC_SW_DNI  2022  32.75 -108.25  271.80  356.43  352.95  430.45   \n3497  ALLSKY_SFC_SW_DNI  2022  32.25 -108.75  271.80  356.43  352.95  430.45   \n3399  ALLSKY_SFC_SW_DNI  2022  29.75 -109.75  276.85  348.95  389.59  430.92   \n3379  ALLSKY_SFC_SW_DNI  2022  29.25 -109.75  276.85  348.95  389.59  430.92   \n3378  ALLSKY_SFC_SW_DNI  2022  29.25 -109.25  276.85  348.95  389.59  430.92   \n3398  ALLSKY_SFC_SW_DNI  2022  29.75 -109.25  276.85  348.95  389.59  430.92   \n3459  ALLSKY_SFC_SW_DNI  2022  31.25 -109.75  278.43  359.27  365.45  435.38   \n3458  ALLSKY_SFC_SW_DNI  2022  31.25 -109.25  278.43  359.27  365.45  435.38   \n3479  ALLSKY_SFC_SW_DNI  2022  31.75 -109.75  278.43  359.27  365.45  435.38   \n3478  ALLSKY_SFC_SW_DNI  2022  31.75 -109.25  278.43  359.27  365.45  435.38   \n3457  ALLSKY_SFC_SW_DNI  2022  31.25 -108.75  288.12  357.98  359.34  438.22   \n\n         MAY     JUN     JUL     AUG     SEP     OCT     NOV     DEC     ANN  \n3499  448.09  312.84  282.04  266.34  308.66  290.34  319.61  228.54  322.50  \n3519  448.09  312.84  282.04  266.34  308.66  290.34  319.61  228.54  322.50  \n3498  448.09  312.84  282.04  266.34  308.66  290.34  319.61  228.54  322.50  \n3518  448.09  312.84  282.04  266.34  308.66  290.34  319.61  228.54  322.50  \n3296  449.32  295.45  195.83  175.37  241.23  360.01  362.38  287.38  320.74  \n3297  449.32  295.45  195.83  175.37  241.23  360.01  362.38  287.38  320.74  \n3317  449.32  295.45  195.83  175.37  241.23  360.01  362.38  287.38  320.74  \n3316  449.32  295.45  195.83  175.37  241.23  360.01  362.38  287.38  320.74  \n3358  442.16  311.56  220.90  197.19  245.63  343.90  338.70  268.43  318.26  \n3359  442.16  311.56  220.90  197.19  245.63  343.90  338.70  268.43  318.26  \n3338  442.16  311.56  220.90  197.19  245.63  343.90  338.70  268.43  318.26  \n3339  442.16  311.56  220.90  197.19  245.63  343.90  338.70  268.43  318.26  \n3496  447.74  310.92  285.94  243.06  306.62  274.09  308.07  229.95  317.62  \n3517  447.74  310.92  285.94  243.06  306.62  274.09  308.07  229.95  317.62  \n3516  447.74  310.92  285.94  243.06  306.62  274.09  308.07  229.95  317.62  \n3497  447.74  310.92  285.94  243.06  306.62  274.09  308.07  229.95  317.62  \n3399  435.99  316.01  250.71  222.01  257.80  316.30  318.33  250.41  317.42  \n3379  435.99  316.01  250.71  222.01  257.80  316.30  318.33  250.41  317.42  \n3378  435.99  316.01  250.71  222.01  257.80  316.30  318.33  250.41  317.42  \n3398  435.99  316.01  250.71  222.01  257.80  316.30  318.33  250.41  317.42  \n3459  446.27  301.77  262.28  234.87  265.79  281.76  322.02  248.77  316.33  \n3458  446.27  301.77  262.28  234.87  265.79  281.76  322.02  248.77  316.33  \n3479  446.27  301.77  262.28  234.87  265.79  281.76  322.02  248.77  316.33  \n3478  446.27  301.77  262.28  234.87  265.79  281.76  322.02  248.77  316.33  \n3457  450.05  292.07  279.71  232.45  280.29  266.05  305.52  249.48  316.13  ",
      "text/html": "<div>\n<style scoped>\n    .dataframe tbody tr th:only-of-type {\n        vertical-align: middle;\n    }\n\n    .dataframe tbody tr th {\n        vertical-align: top;\n    }\n\n    .dataframe thead th {\n        text-align: right;\n    }\n</style>\n<table border=\"1\" class=\"dataframe\">\n  <thead>\n    <tr style=\"text-align: right;\">\n      <th></th>\n      <th>PARAMETER</th>\n      <th>YEAR</th>\n      <th>LAT</th>\n      <th>LON</th>\n      <th>JAN</th>\n      <th>FEB</th>\n      <th>MAR</th>\n      <th>APR</th>\n      <th>MAY</th>\n      <th>JUN</th>\n      <th>JUL</th>\n      <th>AUG</th>\n      <th>SEP</th>\n      <th>OCT</th>\n      <th>NOV</th>\n      <th>DEC</th>\n      <th>ANN</th>\n    </tr>\n  </thead>\n  <tbody>\n    <tr>\n      <th>3499</th>\n      <td>ALLSKY_SFC_SW_DNI</td>\n      <td>2022</td>\n      <td>32.25</td>\n      <td>-109.75</td>\n      <td>269.09</td>\n      <td>362.41</td>\n      <td>359.34</td>\n      <td>429.16</td>\n      <td>448.09</td>\n      <td>312.84</td>\n      <td>282.04</td>\n      <td>266.34</td>\n      <td>308.66</td>\n      <td>290.34</td>\n      <td>319.61</td>\n      <td>228.54</td>\n      <td>322.50</td>\n    </tr>\n    <tr>\n      <th>3519</th>\n      <td>ALLSKY_SFC_SW_DNI</td>\n      <td>2022</td>\n      <td>32.75</td>\n      <td>-109.75</td>\n      <td>269.09</td>\n      <td>362.41</td>\n      <td>359.34</td>\n      <td>429.16</td>\n      <td>448.09</td>\n      <td>312.84</td>\n      <td>282.04</td>\n      <td>266.34</td>\n      <td>308.66</td>\n      <td>290.34</td>\n      <td>319.61</td>\n      <td>228.54</td>\n      <td>322.50</td>\n    </tr>\n    <tr>\n      <th>3498</th>\n      <td>ALLSKY_SFC_SW_DNI</td>\n      <td>2022</td>\n      <td>32.25</td>\n      <td>-109.25</td>\n      <td>269.09</td>\n      <td>362.41</td>\n      <td>359.34</td>\n      <td>429.16</td>\n      <td>448.09</td>\n      <td>312.84</td>\n      <td>282.04</td>\n      <td>266.34</td>\n      <td>308.66</td>\n      <td>290.34</td>\n      <td>319.61</td>\n      <td>228.54</td>\n      <td>322.50</td>\n    </tr>\n    <tr>\n      <th>3518</th>\n      <td>ALLSKY_SFC_SW_DNI</td>\n      <td>2022</td>\n      <td>32.75</td>\n      <td>-109.25</td>\n      <td>269.09</td>\n      <td>362.41</td>\n      <td>359.34</td>\n      <td>429.16</td>\n      <td>448.09</td>\n      <td>312.84</td>\n      <td>282.04</td>\n      <td>266.34</td>\n      <td>308.66</td>\n      <td>290.34</td>\n      <td>319.61</td>\n      <td>228.54</td>\n      <td>322.50</td>\n    </tr>\n    <tr>\n      <th>3296</th>\n      <td>ALLSKY_SFC_SW_DNI</td>\n      <td>2022</td>\n      <td>27.25</td>\n      <td>-108.25</td>\n      <td>302.44</td>\n      <td>354.11</td>\n      <td>408.34</td>\n      <td>421.55</td>\n      <td>449.32</td>\n      <td>295.45</td>\n      <td>195.83</td>\n      <td>175.37</td>\n      <td>241.23</td>\n      <td>360.01</td>\n      <td>362.38</td>\n      <td>287.38</td>\n      <td>320.74</td>\n    </tr>\n    <tr>\n      <th>3297</th>\n      <td>ALLSKY_SFC_SW_DNI</td>\n      <td>2022</td>\n      <td>27.25</td>\n      <td>-108.75</td>\n      <td>302.44</td>\n      <td>354.11</td>\n      <td>408.34</td>\n      <td>421.55</td>\n      <td>449.32</td>\n      <td>295.45</td>\n      <td>195.83</td>\n      <td>175.37</td>\n      <td>241.23</td>\n      <td>360.01</td>\n      <td>362.38</td>\n      <td>287.38</td>\n      <td>320.74</td>\n    </tr>\n    <tr>\n      <th>3317</th>\n      <td>ALLSKY_SFC_SW_DNI</td>\n      <td>2022</td>\n      <td>27.75</td>\n      <td>-108.75</td>\n      <td>302.44</td>\n      <td>354.11</td>\n      <td>408.34</td>\n      <td>421.55</td>\n      <td>449.32</td>\n      <td>295.45</td>\n      <td>195.83</td>\n      <td>175.37</td>\n      <td>241.23</td>\n      <td>360.01</td>\n      <td>362.38</td>\n      <td>287.38</td>\n      <td>320.74</td>\n    </tr>\n    <tr>\n      <th>3316</th>\n      <td>ALLSKY_SFC_SW_DNI</td>\n      <td>2022</td>\n      <td>27.75</td>\n      <td>-108.25</td>\n      <td>302.44</td>\n      <td>354.11</td>\n      <td>408.34</td>\n      <td>421.55</td>\n      <td>449.32</td>\n      <td>295.45</td>\n      <td>195.83</td>\n      <td>175.37</td>\n      <td>241.23</td>\n      <td>360.01</td>\n      <td>362.38</td>\n      <td>287.38</td>\n      <td>320.74</td>\n    </tr>\n    <tr>\n      <th>3358</th>\n      <td>ALLSKY_SFC_SW_DNI</td>\n      <td>2022</td>\n      <td>28.75</td>\n      <td>-109.25</td>\n      <td>286.73</td>\n      <td>351.91</td>\n      <td>392.34</td>\n      <td>424.45</td>\n      <td>442.16</td>\n      <td>311.56</td>\n      <td>220.90</td>\n      <td>197.19</td>\n      <td>245.63</td>\n      <td>343.90</td>\n      <td>338.70</td>\n      <td>268.43</td>\n      <td>318.26</td>\n    </tr>\n    <tr>\n      <th>3359</th>\n      <td>ALLSKY_SFC_SW_DNI</td>\n      <td>2022</td>\n      <td>28.75</td>\n      <td>-109.75</td>\n      <td>286.73</td>\n      <td>351.91</td>\n      <td>392.34</td>\n      <td>424.45</td>\n      <td>442.16</td>\n      <td>311.56</td>\n      <td>220.90</td>\n      <td>197.19</td>\n      <td>245.63</td>\n      <td>343.90</td>\n      <td>338.70</td>\n      <td>268.43</td>\n      <td>318.26</td>\n    </tr>\n    <tr>\n      <th>3338</th>\n      <td>ALLSKY_SFC_SW_DNI</td>\n      <td>2022</td>\n      <td>28.25</td>\n      <td>-109.25</td>\n      <td>286.73</td>\n      <td>351.91</td>\n      <td>392.34</td>\n      <td>424.45</td>\n      <td>442.16</td>\n      <td>311.56</td>\n      <td>220.90</td>\n      <td>197.19</td>\n      <td>245.63</td>\n      <td>343.90</td>\n      <td>338.70</td>\n      <td>268.43</td>\n      <td>318.26</td>\n    </tr>\n    <tr>\n      <th>3339</th>\n      <td>ALLSKY_SFC_SW_DNI</td>\n      <td>2022</td>\n      <td>28.25</td>\n      <td>-109.75</td>\n      <td>286.73</td>\n      <td>351.91</td>\n      <td>392.34</td>\n      <td>424.45</td>\n      <td>442.16</td>\n      <td>311.56</td>\n      <td>220.90</td>\n      <td>197.19</td>\n      <td>245.63</td>\n      <td>343.90</td>\n      <td>338.70</td>\n      <td>268.43</td>\n      <td>318.26</td>\n    </tr>\n    <tr>\n      <th>3496</th>\n      <td>ALLSKY_SFC_SW_DNI</td>\n      <td>2022</td>\n      <td>32.25</td>\n      <td>-108.25</td>\n      <td>271.80</td>\n      <td>356.43</td>\n      <td>352.95</td>\n      <td>430.45</td>\n      <td>447.74</td>\n      <td>310.92</td>\n      <td>285.94</td>\n      <td>243.06</td>\n      <td>306.62</td>\n      <td>274.09</td>\n      <td>308.07</td>\n      <td>229.95</td>\n      <td>317.62</td>\n    </tr>\n    <tr>\n      <th>3517</th>\n      <td>ALLSKY_SFC_SW_DNI</td>\n      <td>2022</td>\n      <td>32.75</td>\n      <td>-108.75</td>\n      <td>271.80</td>\n      <td>356.43</td>\n      <td>352.95</td>\n      <td>430.45</td>\n      <td>447.74</td>\n      <td>310.92</td>\n      <td>285.94</td>\n      <td>243.06</td>\n      <td>306.62</td>\n      <td>274.09</td>\n      <td>308.07</td>\n      <td>229.95</td>\n      <td>317.62</td>\n    </tr>\n    <tr>\n      <th>3516</th>\n      <td>ALLSKY_SFC_SW_DNI</td>\n      <td>2022</td>\n      <td>32.75</td>\n      <td>-108.25</td>\n      <td>271.80</td>\n      <td>356.43</td>\n      <td>352.95</td>\n      <td>430.45</td>\n      <td>447.74</td>\n      <td>310.92</td>\n      <td>285.94</td>\n      <td>243.06</td>\n      <td>306.62</td>\n      <td>274.09</td>\n      <td>308.07</td>\n      <td>229.95</td>\n      <td>317.62</td>\n    </tr>\n    <tr>\n      <th>3497</th>\n      <td>ALLSKY_SFC_SW_DNI</td>\n      <td>2022</td>\n      <td>32.25</td>\n      <td>-108.75</td>\n      <td>271.80</td>\n      <td>356.43</td>\n      <td>352.95</td>\n      <td>430.45</td>\n      <td>447.74</td>\n      <td>310.92</td>\n      <td>285.94</td>\n      <td>243.06</td>\n      <td>306.62</td>\n      <td>274.09</td>\n      <td>308.07</td>\n      <td>229.95</td>\n      <td>317.62</td>\n    </tr>\n    <tr>\n      <th>3399</th>\n      <td>ALLSKY_SFC_SW_DNI</td>\n      <td>2022</td>\n      <td>29.75</td>\n      <td>-109.75</td>\n      <td>276.85</td>\n      <td>348.95</td>\n      <td>389.59</td>\n      <td>430.92</td>\n      <td>435.99</td>\n      <td>316.01</td>\n      <td>250.71</td>\n      <td>222.01</td>\n      <td>257.80</td>\n      <td>316.30</td>\n      <td>318.33</td>\n      <td>250.41</td>\n      <td>317.42</td>\n    </tr>\n    <tr>\n      <th>3379</th>\n      <td>ALLSKY_SFC_SW_DNI</td>\n      <td>2022</td>\n      <td>29.25</td>\n      <td>-109.75</td>\n      <td>276.85</td>\n      <td>348.95</td>\n      <td>389.59</td>\n      <td>430.92</td>\n      <td>435.99</td>\n      <td>316.01</td>\n      <td>250.71</td>\n      <td>222.01</td>\n      <td>257.80</td>\n      <td>316.30</td>\n      <td>318.33</td>\n      <td>250.41</td>\n      <td>317.42</td>\n    </tr>\n    <tr>\n      <th>3378</th>\n      <td>ALLSKY_SFC_SW_DNI</td>\n      <td>2022</td>\n      <td>29.25</td>\n      <td>-109.25</td>\n      <td>276.85</td>\n      <td>348.95</td>\n      <td>389.59</td>\n      <td>430.92</td>\n      <td>435.99</td>\n      <td>316.01</td>\n      <td>250.71</td>\n      <td>222.01</td>\n      <td>257.80</td>\n      <td>316.30</td>\n      <td>318.33</td>\n      <td>250.41</td>\n      <td>317.42</td>\n    </tr>\n    <tr>\n      <th>3398</th>\n      <td>ALLSKY_SFC_SW_DNI</td>\n      <td>2022</td>\n      <td>29.75</td>\n      <td>-109.25</td>\n      <td>276.85</td>\n      <td>348.95</td>\n      <td>389.59</td>\n      <td>430.92</td>\n      <td>435.99</td>\n      <td>316.01</td>\n      <td>250.71</td>\n      <td>222.01</td>\n      <td>257.80</td>\n      <td>316.30</td>\n      <td>318.33</td>\n      <td>250.41</td>\n      <td>317.42</td>\n    </tr>\n    <tr>\n      <th>3459</th>\n      <td>ALLSKY_SFC_SW_DNI</td>\n      <td>2022</td>\n      <td>31.25</td>\n      <td>-109.75</td>\n      <td>278.43</td>\n      <td>359.27</td>\n      <td>365.45</td>\n      <td>435.38</td>\n      <td>446.27</td>\n      <td>301.77</td>\n      <td>262.28</td>\n      <td>234.87</td>\n      <td>265.79</td>\n      <td>281.76</td>\n      <td>322.02</td>\n      <td>248.77</td>\n      <td>316.33</td>\n    </tr>\n    <tr>\n      <th>3458</th>\n      <td>ALLSKY_SFC_SW_DNI</td>\n      <td>2022</td>\n      <td>31.25</td>\n      <td>-109.25</td>\n      <td>278.43</td>\n      <td>359.27</td>\n      <td>365.45</td>\n      <td>435.38</td>\n      <td>446.27</td>\n      <td>301.77</td>\n      <td>262.28</td>\n      <td>234.87</td>\n      <td>265.79</td>\n      <td>281.76</td>\n      <td>322.02</td>\n      <td>248.77</td>\n      <td>316.33</td>\n    </tr>\n    <tr>\n      <th>3479</th>\n      <td>ALLSKY_SFC_SW_DNI</td>\n      <td>2022</td>\n      <td>31.75</td>\n      <td>-109.75</td>\n      <td>278.43</td>\n      <td>359.27</td>\n      <td>365.45</td>\n      <td>435.38</td>\n      <td>446.27</td>\n      <td>301.77</td>\n      <td>262.28</td>\n      <td>234.87</td>\n      <td>265.79</td>\n      <td>281.76</td>\n      <td>322.02</td>\n      <td>248.77</td>\n      <td>316.33</td>\n    </tr>\n    <tr>\n      <th>3478</th>\n      <td>ALLSKY_SFC_SW_DNI</td>\n      <td>2022</td>\n      <td>31.75</td>\n      <td>-109.25</td>\n      <td>278.43</td>\n      <td>359.27</td>\n      <td>365.45</td>\n      <td>435.38</td>\n      <td>446.27</td>\n      <td>301.77</td>\n      <td>262.28</td>\n      <td>234.87</td>\n      <td>265.79</td>\n      <td>281.76</td>\n      <td>322.02</td>\n      <td>248.77</td>\n      <td>316.33</td>\n    </tr>\n    <tr>\n      <th>3457</th>\n      <td>ALLSKY_SFC_SW_DNI</td>\n      <td>2022</td>\n      <td>31.25</td>\n      <td>-108.75</td>\n      <td>288.12</td>\n      <td>357.98</td>\n      <td>359.34</td>\n      <td>438.22</td>\n      <td>450.05</td>\n      <td>292.07</td>\n      <td>279.71</td>\n      <td>232.45</td>\n      <td>280.29</td>\n      <td>266.05</td>\n      <td>305.52</td>\n      <td>249.48</td>\n      <td>316.13</td>\n    </tr>\n  </tbody>\n</table>\n</div>"
     },
     "execution_count": 121,
     "metadata": {},
     "output_type": "execute_result"
    }
   ],
   "source": [
    "conus_2022_df.sort_values(by='ANN', ascending=False).head(25)"
   ],
   "metadata": {
    "collapsed": false,
    "ExecuteTime": {
     "end_time": "2024-03-25T13:15:12.072774Z",
     "start_time": "2024-03-25T13:15:12.055615Z"
    }
   },
   "id": "f2af0ec16bf70f2f",
   "execution_count": 121
  },
  {
   "cell_type": "code",
   "outputs": [
    {
     "data": {
      "text/plain": "1.496145919379845"
     },
     "execution_count": 122,
     "metadata": {},
     "output_type": "execute_result"
    }
   ],
   "source": [
    "482.507059 / 322.50 "
   ],
   "metadata": {
    "collapsed": false,
    "ExecuteTime": {
     "end_time": "2024-03-25T13:15:12.078255Z",
     "start_time": "2024-03-25T13:15:12.074145Z"
    }
   },
   "id": "12337d22372fcd4f",
   "execution_count": 122
  }
 ],
 "metadata": {
  "kernelspec": {
   "display_name": "Python 3",
   "language": "python",
   "name": "python3"
  },
  "language_info": {
   "codemirror_mode": {
    "name": "ipython",
    "version": 2
   },
   "file_extension": ".py",
   "mimetype": "text/x-python",
   "name": "python",
   "nbconvert_exporter": "python",
   "pygments_lexer": "ipython2",
   "version": "2.7.6"
  }
 },
 "nbformat": 4,
 "nbformat_minor": 5
}
