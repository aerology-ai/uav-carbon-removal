{
 "cells": [
  {
   "cell_type": "code",
   "source": [
    "import math\n",
    "\n",
    "import pandas as pd\n",
    "import numpy as np\n",
    "\n",
    "import matplotlib.pyplot as plt\n",
    "import scipy.constants as const\n",
    "\n",
    "from sklearn.linear_model import LinearRegression\n",
    "from scipy.interpolate import interp1d\n",
    "from astral.sun import sun\n",
    "from astral import LocationInfo\n",
    "from datetime import datetime, timedelta\n",
    "from thermo.chemical import Chemical\n",
    "from CoolProp.CoolProp import PropsSI\n"
   ],
   "metadata": {
    "collapsed": false,
    "ExecuteTime": {
     "end_time": "2024-04-19T12:09:26.349929Z",
     "start_time": "2024-04-19T12:09:26.344058Z"
    }
   },
   "id": "370d1f806b21af7d",
   "outputs": [],
   "execution_count": 805
  },
  {
   "cell_type": "markdown",
   "source": [
    "## Establish baseline costs\n",
    "Largely dervied from [this paper](https://www.researchgate.net/publication/341420273_Cost_Analysis_of_Direct_Air_Capture_and_Sequestration_Coupled_to_Low-Carbon_Thermal_Energy_in_the_US)"
   ],
   "metadata": {
    "collapsed": false
   },
   "id": "31d428e6eae09ccc"
  },
  {
   "cell_type": "code",
   "id": "initial_id",
   "metadata": {
    "collapsed": true,
    "ExecuteTime": {
     "end_time": "2024-04-19T12:09:26.634637Z",
     "start_time": "2024-04-19T12:09:26.624246Z"
    }
   },
   "source": [
    "costs = {\n",
    "    \"capex\": {\n",
    "        \"2018\": {\n",
    "            \"contactor\": 111.48,\n",
    "            \"fan\": 6.48,\n",
    "            \"vacuum_pump\": 5.07,\n",
    "            \"heat_exchanger\": 1.97\n",
    "        }\n",
    "    },\n",
    "    \"opex\": {\n",
    "        \"2018\": {\n",
    "            \"fan\": 16.26,\n",
    "            \"vacuum_pump\": 12.20,\n",
    "            \"compression\": 6.63,\n",
    "            \"maintenance\": 23.96,\n",
    "            \"labor\": 7.27,\n",
    "            \"steam\": 22.68\n",
    "        }\n",
    "    }\n",
    "}\n",
    "\n",
    "compression_capex = 6.00 # McQueen et al 2020 supplement pg 21\n",
    "trucking_capex = 9.00 - compression_capex\n",
    "\n",
    "costs[\"capex\"][\"2018\"][\"compression\"] = compression_capex\n",
    "costs[\"capex\"][\"2018\"][\"trucking\"] = trucking_capex\n",
    "\n",
    "base_capex_2018 = sum(costs[\"capex\"][\"2018\"].values())\n",
    "base_opex_2018 = sum(costs[\"opex\"][\"2018\"].values())\n",
    "\n",
    "print(f\"Verified: ${base_capex_2018:.2f} capex, ${base_opex_2018:.2f} opex (to gate) matches McQueen et al 2020\")\n",
    "\n",
    "# McQueen et al 2020 doesn't include storage costs \n",
    "# midpoint of DOE, 2014 estimate ($7-13) used (see ch.7 http://nap.nationalacademies.org/25259)\n",
    "costs[\"opex\"][\"2018\"][\"storage\"] = 11.00\n",
    "\n",
    "base_opex_2018_to_grave = sum(costs[\"opex\"][\"2018\"].values())\n",
    "print(f\"To grave opex is ${base_opex_2018_to_grave:.2f}\")"
   ],
   "outputs": [
    {
     "name": "stdout",
     "output_type": "stream",
     "text": [
      "Verified: $134.00 capex, $89.00 opex (to gate) matches McQueen et al 2020\n",
      "To grave opex is $100.00\n"
     ]
    }
   ],
   "execution_count": 806
  },
  {
   "cell_type": "markdown",
   "source": [
    "#### Forecast baseline to 2030"
   ],
   "metadata": {
    "collapsed": false
   },
   "id": "afd27c726484b832"
  },
  {
   "cell_type": "code",
   "source": [
    "def forecast_improvement(initial_value, rate, reference_year, direction=\"decrease\", target_year=2030):\n",
    "    if direction == \"decrease\":\n",
    "        end_value = initial_value * (1 - rate) ** (target_year - reference_year)\n",
    "    else:\n",
    "        end_value = initial_value * (1 + rate) ** (target_year - reference_year)\n",
    "    return end_value\n",
    "\n",
    "# Unless otherwise specified, all improvement rates are from supplement to\n",
    "# https://pubs.rsc.org/en/content/articlelanding/2019/ee/c9ee01526d \n",
    "adsorption_ir_lower = 0.033097\n",
    "adsorption_ir_mean = 0.1172984\n",
    "adsorption_ir = (adsorption_ir_lower + adsorption_ir_mean) / 2\n",
    "\n",
    "contactor_capex_2030 = forecast_improvement(costs[\"capex\"][\"2018\"][\"contactor\"], adsorption_ir, 2018)\n",
    "\n",
    "costs[\"capex\"][\"2030\"] = {\n",
    "    \"contactor\": contactor_capex_2030,\n",
    "    \"fan\": costs[\"capex\"][\"2018\"][\"fan\"],\n",
    "    \"vacuum_pump\": costs[\"capex\"][\"2018\"][\"vacuum_pump\"],\n",
    "    \"heat_exchanger\": costs[\"capex\"][\"2018\"][\"heat_exchanger\"],\n",
    "    \"compression\": costs[\"capex\"][\"2018\"][\"compression\"],\n",
    "    \"trucking\": costs[\"capex\"][\"2018\"][\"trucking\"]\n",
    "}\n",
    "\n",
    "print(f\"Contactor capex forecast to decrease to ${contactor_capex_2030:.2f} in 2030, given improvement \"\n",
    "      f\"rate of {adsorption_ir:.2%}.\")\n",
    "print(f\"No improvement assumed for other capex categories; baseline 2030 capex estimated at \"\n",
    "      f\"${sum(costs['capex']['2030'].values()):.2f}.\")"
   ],
   "metadata": {
    "collapsed": false,
    "ExecuteTime": {
     "end_time": "2024-04-19T12:09:26.655368Z",
     "start_time": "2024-04-19T12:09:26.649408Z"
    }
   },
   "id": "9e66da397fbcc7b7",
   "outputs": [
    {
     "name": "stdout",
     "output_type": "stream",
     "text": [
      "Contactor capex forecast to decrease to $43.63 in 2030, given improvement rate of 7.52%.\n",
      "No improvement assumed for other capex categories; baseline 2030 capex estimated at $66.15.\n"
     ]
    }
   ],
   "execution_count": 807
  },
  {
   "cell_type": "code",
   "source": [
    "thermal_requirement_2030 = 3.4 # GJ/ton ch. 5 http://nap.nationalacademies.org/25259\n",
    "steam_price = 2.9\n",
    "base_steam_opex_2030 = thermal_requirement_2030 * steam_price\n",
    "print(f\"2030 baseline steam opex forecast to be ${base_steam_opex_2030:.2f}, given thermal \"\n",
    "      f\"requirement of {thermal_requirement_2030:.2f} GJ/ton.\")\n",
    "\n",
    "capex_2018 = sum(costs[\"capex\"][\"2018\"].values())\n",
    "\n",
    "mtc_fraction = costs[\"opex\"][\"2018\"][\"maintenance\"] / capex_2018\n",
    "base_mtc_opex_2030 = mtc_fraction * sum(costs[\"capex\"][\"2030\"].values())\n",
    "\n",
    "labor_fraction = costs[\"opex\"][\"2018\"][\"labor\"] / capex_2018\n",
    "base_labor_opex_2030 = labor_fraction * sum(costs[\"capex\"][\"2030\"].values())\n",
    "print(f\"2030 baseline maintenance opex forecast to be ${base_mtc_opex_2030:.2f}, labor opex forecast \"\n",
    "      f\"to be ${base_labor_opex_2030:.2f} (uses 2018 \"\n",
    "      f\"fractions).\")\n",
    "\n",
    "storage_ir = 0.013336 \n",
    "base_storage_opex_2030 = forecast_improvement(costs[\"opex\"][\"2018\"][\"storage\"], storage_ir, 2013)\n",
    "print(f\"2030 baseline storage opex forecast to be ${base_storage_opex_2030:.2f}, given improvement rate \"\n",
    "      f\"of {storage_ir:.2%}.\")\n",
    "\n",
    "costs[\"opex\"][\"2030\"] = {\n",
    "    \"fan\": costs[\"opex\"][\"2018\"][\"fan\"],\n",
    "    \"vacuum_pump\": costs[\"opex\"][\"2018\"][\"vacuum_pump\"],\n",
    "    \"compression\": costs[\"opex\"][\"2018\"][\"compression\"],\n",
    "    \"maintenance\": base_mtc_opex_2030,\n",
    "    \"labor\": base_labor_opex_2030,\n",
    "    \"steam\": base_steam_opex_2030,\n",
    "    \"storage\": base_storage_opex_2030\n",
    "}\n",
    "\n",
    "print(f\"2030 baseline opex forecast to be ${sum(costs['opex']['2030'].values()):.2f}.\")\n"
   ],
   "metadata": {
    "collapsed": false,
    "ExecuteTime": {
     "end_time": "2024-04-19T12:09:26.717507Z",
     "start_time": "2024-04-19T12:09:26.711611Z"
    }
   },
   "id": "d0ba6f8d7a30d111",
   "outputs": [
    {
     "name": "stdout",
     "output_type": "stream",
     "text": [
      "2030 baseline steam opex forecast to be $9.86, given thermal requirement of 3.40 GJ/ton.\n",
      "2030 baseline maintenance opex forecast to be $11.83, labor opex forecast to be $3.59 (uses 2018 fractions).\n",
      "2030 baseline storage opex forecast to be $8.76, given improvement rate of 1.33%.\n",
      "2030 baseline opex forecast to be $69.12.\n"
     ]
    }
   ],
   "execution_count": 808
  },
  {
   "cell_type": "code",
   "source": [
    "total_base_cost_2018 = sum(costs[\"capex\"][\"2018\"].values()) + sum(costs[\"opex\"][\"2018\"].values())\n",
    "total_base_cost_2030 = sum(costs[\"capex\"][\"2030\"].values()) + sum(costs[\"opex\"][\"2030\"].values())\n",
    "print(f\"Baseline 2018 total gross cost: ${total_base_cost_2018:.2f}, 2030 total gross cost: \"\n",
    "      f\"${total_base_cost_2030:.2f}\")"
   ],
   "metadata": {
    "collapsed": false,
    "ExecuteTime": {
     "end_time": "2024-04-19T12:09:26.751685Z",
     "start_time": "2024-04-19T12:09:26.748164Z"
    }
   },
   "id": "bf350961c0fe128d",
   "outputs": [
    {
     "name": "stdout",
     "output_type": "stream",
     "text": [
      "Baseline 2018 total gross cost: $234.00, 2030 total gross cost: $135.27\n"
     ]
    }
   ],
   "execution_count": 809
  },
  {
   "cell_type": "markdown",
   "source": [
    "## Estimate baseline cost net of CO2 emissions from capture process"
   ],
   "metadata": {
    "collapsed": false
   },
   "id": "d91430202e1a4136"
  },
  {
   "cell_type": "code",
   "source": [
    "# US average electricity emissions from https://www.epa.gov/climateleadership/ghg-emission-factors-hub \n",
    "grid_intensities = {\n",
    "    2014: 1232.35,\n",
    "    2015: 1136.53,\n",
    "    2018: 998.4,\n",
    "    2020: 947.2,\n",
    "    2021: 884.2,\n",
    "    2022: 818.3,\n",
    "    2023: 852.3,\n",
    "    2024: 823.1\n",
    "}\n",
    "\n",
    "grid_intensities_df = pd.DataFrame(list(grid_intensities.items()), columns=[\"year\", \"grid_intensity_lb_per_MWh\"])\n",
    "grid_intensities_df[\"grid_intensity_g_per_kWh\"] = (\n",
    "        grid_intensities_df[\"grid_intensity_lb_per_MWh\"] * 453.592 / 1000\n",
    ")\n",
    "grid_intensities_df\n"
   ],
   "metadata": {
    "collapsed": false,
    "ExecuteTime": {
     "end_time": "2024-04-19T12:09:26.815561Z",
     "start_time": "2024-04-19T12:09:26.800638Z"
    }
   },
   "id": "6a4cabecdbb8f0d5",
   "outputs": [
    {
     "data": {
      "text/plain": [
       "   year  grid_intensity_lb_per_MWh  grid_intensity_g_per_kWh\n",
       "0  2014                    1232.35                558.984101\n",
       "1  2015                    1136.53                515.520916\n",
       "2  2018                     998.40                452.866253\n",
       "3  2020                     947.20                429.642342\n",
       "4  2021                     884.20                401.066046\n",
       "5  2022                     818.30                371.174334\n",
       "6  2023                     852.30                386.596462\n",
       "7  2024                     823.10                373.351575"
      ],
      "text/html": [
       "<div>\n",
       "<style scoped>\n",
       "    .dataframe tbody tr th:only-of-type {\n",
       "        vertical-align: middle;\n",
       "    }\n",
       "\n",
       "    .dataframe tbody tr th {\n",
       "        vertical-align: top;\n",
       "    }\n",
       "\n",
       "    .dataframe thead th {\n",
       "        text-align: right;\n",
       "    }\n",
       "</style>\n",
       "<table border=\"1\" class=\"dataframe\">\n",
       "  <thead>\n",
       "    <tr style=\"text-align: right;\">\n",
       "      <th></th>\n",
       "      <th>year</th>\n",
       "      <th>grid_intensity_lb_per_MWh</th>\n",
       "      <th>grid_intensity_g_per_kWh</th>\n",
       "    </tr>\n",
       "  </thead>\n",
       "  <tbody>\n",
       "    <tr>\n",
       "      <th>0</th>\n",
       "      <td>2014</td>\n",
       "      <td>1232.35</td>\n",
       "      <td>558.984101</td>\n",
       "    </tr>\n",
       "    <tr>\n",
       "      <th>1</th>\n",
       "      <td>2015</td>\n",
       "      <td>1136.53</td>\n",
       "      <td>515.520916</td>\n",
       "    </tr>\n",
       "    <tr>\n",
       "      <th>2</th>\n",
       "      <td>2018</td>\n",
       "      <td>998.40</td>\n",
       "      <td>452.866253</td>\n",
       "    </tr>\n",
       "    <tr>\n",
       "      <th>3</th>\n",
       "      <td>2020</td>\n",
       "      <td>947.20</td>\n",
       "      <td>429.642342</td>\n",
       "    </tr>\n",
       "    <tr>\n",
       "      <th>4</th>\n",
       "      <td>2021</td>\n",
       "      <td>884.20</td>\n",
       "      <td>401.066046</td>\n",
       "    </tr>\n",
       "    <tr>\n",
       "      <th>5</th>\n",
       "      <td>2022</td>\n",
       "      <td>818.30</td>\n",
       "      <td>371.174334</td>\n",
       "    </tr>\n",
       "    <tr>\n",
       "      <th>6</th>\n",
       "      <td>2023</td>\n",
       "      <td>852.30</td>\n",
       "      <td>386.596462</td>\n",
       "    </tr>\n",
       "    <tr>\n",
       "      <th>7</th>\n",
       "      <td>2024</td>\n",
       "      <td>823.10</td>\n",
       "      <td>373.351575</td>\n",
       "    </tr>\n",
       "  </tbody>\n",
       "</table>\n",
       "</div>"
      ]
     },
     "execution_count": 810,
     "metadata": {},
     "output_type": "execute_result"
    }
   ],
   "execution_count": 810
  },
  {
   "cell_type": "markdown",
   "source": [
    "#### Forecast 2030 grid intensities\n",
    "Opted for linear regression over power law"
   ],
   "metadata": {
    "collapsed": false
   },
   "id": "9eb90e364e230fd"
  },
  {
   "cell_type": "code",
   "source": [
    "factors_X_log = np.log(grid_intensities_df['year'])\n",
    "factors_y_log = np.log(grid_intensities_df['grid_intensity_g_per_kWh'])\n",
    "\n",
    "model = LinearRegression()\n",
    "model.fit(factors_X_log.values.reshape(-1, 1), factors_y_log.values)\n",
    "\n",
    "future_years = np.array([2025, 2026, 2027, 2028, 2029, 2030])\n",
    "log_predictions = model.predict(np.log(future_years).reshape(-1, 1))\n",
    "\n",
    "transformed_predictions = np.exp(log_predictions)\n",
    "unused_2030_grid_intensity = transformed_predictions[-1]\n",
    "print(f\"Discarded: 2030 grid intensity forecasted to be {unused_2030_grid_intensity:.2f} g/kWh using \"\n",
    "      f\"power law across 8 interrupted observations.\")\n",
    "\n",
    "plt.figure(figsize=(10, 6))\n",
    "plt.scatter(grid_intensities_df['year'], grid_intensities_df['grid_intensity_g_per_kWh'], color='blue')\n",
    "plt.plot(future_years, transformed_predictions, color='red')\n",
    "plt.title('Grid Intensity Over Years (with Power Law Prediction)')\n",
    "plt.xlabel('Year')\n",
    "plt.ylabel('Grid Intensity (g/kWh)')\n",
    "plt.grid(True)\n",
    "plt.show()"
   ],
   "metadata": {
    "collapsed": false,
    "ExecuteTime": {
     "end_time": "2024-04-19T12:09:27.033230Z",
     "start_time": "2024-04-19T12:09:26.857376Z"
    }
   },
   "id": "b96f4ff54dd22a27",
   "outputs": [
    {
     "name": "stdout",
     "output_type": "stream",
     "text": [
      "Discarded: 2030 grid intensity forecasted to be 283.25 g/kWh using power law across 8 interrupted observations.\n"
     ]
    },
    {
     "data": {
      "text/plain": [
       "<Figure size 1000x600 with 1 Axes>"
      ],
      "image/png": "[encoded data removed]"
     },
     "metadata": {},
     "output_type": "display_data"
    }
   ],
   "execution_count": 811
  },
  {
   "cell_type": "code",
   "source": [
    "recent_grid_intensities_df = grid_intensities_df[grid_intensities_df['year'] >= 2020]\n",
    "\n",
    "factors_X = recent_grid_intensities_df['year'].values.reshape(-1, 1)\n",
    "factors_y = recent_grid_intensities_df['grid_intensity_g_per_kWh'].values\n",
    "\n",
    "model = LinearRegression()\n",
    "model.fit(factors_X, factors_y)\n",
    "\n",
    "# Predict the value for 2030\n",
    "pred_2030_grid_intensity = model.predict(np.array([[2030]]))[0]\n",
    "print(f\"2030 grid intensity forecasted to be {pred_2030_grid_intensity:.2f} g/kWh using linear regression \"\n",
    "      f\"on 5 most recent, uninterrupted observations.\")\n",
    "\n",
    "plt.figure(figsize=(10, 6))\n",
    "plt.scatter(recent_grid_intensities_df['year'],\n",
    "            recent_grid_intensities_df['grid_intensity_g_per_kWh'],\n",
    "            color='blue')\n",
    "plt.plot(future_years, model.predict(future_years.reshape(-1, 1)), color='red')\n",
    "plt.title('Grid Intensity Over Years (with Linear Regression Prediction)')\n",
    "plt.xlabel('Year')\n",
    "plt.ylabel('Grid Intensity (g/kWh)')\n",
    "plt.grid(True)\n",
    "plt.show()"
   ],
   "metadata": {
    "collapsed": false,
    "ExecuteTime": {
     "end_time": "2024-04-19T12:09:27.190948Z",
     "start_time": "2024-04-19T12:09:27.037562Z"
    }
   },
   "id": "d00e987bad77310c",
   "outputs": [
    {
     "name": "stdout",
     "output_type": "stream",
     "text": [
      "2030 grid intensity forecasted to be 290.73 g/kWh using linear regression on 5 most recent, uninterrupted observations.\n"
     ]
    },
    {
     "data": {
      "text/plain": [
       "<Figure size 1000x600 with 1 Axes>"
      ],
      "image/png": "[encoded data removed]"
     },
     "metadata": {},
     "output_type": "display_data"
    }
   ],
   "execution_count": 812
  },
  {
   "cell_type": "markdown",
   "source": [
    "#### Apply forecasted 2030 emissions factors"
   ],
   "metadata": {
    "collapsed": false
   },
   "id": "e42acdcf047cd8a5"
  },
  {
   "cell_type": "code",
   "source": [
    "electrical_requirement = 1.5 # GJ/ton\n",
    "gj_to_kwh = 277.778\n",
    "electrical_requirement_kwh = electrical_requirement * gj_to_kwh\n",
    "paper_grid_intensity = 490 # g/kWh\n",
    "\n",
    "paper_electric_co2_footprint = (paper_grid_intensity * electrical_requirement_kwh) / 1000000 # ton/ton\n",
    "print(f\"Paper's electric CO2 footprint: {paper_electric_co2_footprint:.2f} ton-CO2 emitted/ton-CO2 captured, \"\n",
    "      f\"given grid intensity of {paper_grid_intensity:.2f} g/kWh.\")\n",
    "base_electric_co2_footprint_2030 = (pred_2030_grid_intensity * electrical_requirement_kwh) / 1000000 # ton/ton\n",
    "print(f\"Baseline 2030 e-CO2 footprint forecasted to be {base_electric_co2_footprint_2030:.2f} t-CO2 \" \n",
    "      f\"emit/t-CO2 captured, given forecasted grid intensity of {pred_2030_grid_intensity:.2f} g/kWh.\")\n"
   ],
   "metadata": {
    "collapsed": false,
    "ExecuteTime": {
     "end_time": "2024-04-19T12:09:27.201131Z",
     "start_time": "2024-04-19T12:09:27.194408Z"
    }
   },
   "id": "c4092c30938ecd61",
   "outputs": [
    {
     "name": "stdout",
     "output_type": "stream",
     "text": [
      "Paper's electric CO2 footprint: 0.20 ton-CO2 emitted/ton-CO2 captured, given grid intensity of 490.00 g/kWh.\n",
      "Baseline 2030 e-CO2 footprint forecasted to be 0.12 t-CO2 emit/t-CO2 captured, given forecasted grid intensity of 290.73 g/kWh.\n"
     ]
    }
   ],
   "execution_count": 813
  },
  {
   "cell_type": "code",
   "source": [
    "heat_intensity = 227 # g/kWh\n",
    "heat_requirement_kwh = thermal_requirement_2030 * gj_to_kwh\n",
    "paper_thermal_requirement = 6.0 # GJ/ton\n",
    "paper_heat_requirement_kwh = paper_thermal_requirement * gj_to_kwh\n",
    "\n",
    "paper_heat_co2_footprint = (heat_intensity * paper_heat_requirement_kwh) / 1000000 # ton/ton\n",
    "print(f\"Paper's heat CO2 footprint: {paper_heat_co2_footprint:.2f} ton-CO2 emitted/ton-CO2 captured, \"\n",
    "      f\"given thermal requirement of {paper_thermal_requirement:.2f} GJ/ton\")\n",
    "base_heat_co2_footprint_2030 = (heat_intensity * heat_requirement_kwh) / 1000000 # ton/ton\n",
    "print(f\"Baseline 2030 h-CO2 footprint forecasted to be {base_heat_co2_footprint_2030:.2f} ton-CO2 \"\n",
    "      f\"emit/ton-CO2 captured, given forecasted thermal requirement of {thermal_requirement_2030:.2f} GJ/ton.\")\n"
   ],
   "metadata": {
    "collapsed": false,
    "ExecuteTime": {
     "end_time": "2024-04-19T12:09:27.222362Z",
     "start_time": "2024-04-19T12:09:27.218025Z"
    }
   },
   "id": "5da5e1aabf55721d",
   "outputs": [
    {
     "name": "stdout",
     "output_type": "stream",
     "text": [
      "Paper's heat CO2 footprint: 0.38 ton-CO2 emitted/ton-CO2 captured, given thermal requirement of 6.00 GJ/ton\n",
      "Baseline 2030 h-CO2 footprint forecasted to be 0.21 ton-CO2 emit/ton-CO2 captured, given forecasted thermal requirement of 3.40 GJ/ton.\n"
     ]
    }
   ],
   "execution_count": 814
  },
  {
   "cell_type": "code",
   "source": [
    "trucking_intensity = 0.168 # kg/ton-mile\n",
    "trucking_unit_costs = 0.14 # $/ton-mile, from McQueen supplement pg. 21\n",
    "trucking_units = trucking_capex / trucking_unit_costs\n",
    "\n",
    "paper_trucking_footprint = trucking_intensity * trucking_units / 1000\n",
    "print(f\"Paper's trucking CO2 footprint: {paper_trucking_footprint:.3f} ton-CO2 emitted/ton-CO2 captured, \"\n",
    "      f\"given {trucking_units:.2f} ton-miles of trucking and intensity of {trucking_intensity:.3f} kg/ton-mile.\")\n",
    "\n",
    "# Balance of DAC emissions footprint assumed to be from embodied materials\n",
    "paper_base_co2_footprint = .65\n",
    "paper_embodied_material_emissions = (paper_base_co2_footprint - paper_electric_co2_footprint - \n",
    "                                     paper_heat_co2_footprint - paper_trucking_footprint)\n",
    "print(f\"Implies embodied material emissions of {paper_embodied_material_emissions:.3f} ton-CO2 emitted/ton-CO2 \"\n",
    "      f\"captured (paper's total CO2 footprint is {paper_base_co2_footprint:.2f} t-CO2 emit/t-CO2 captured \"\n",
    "      f\"less electric, heat, and trucking footprints).\")\n"
   ],
   "metadata": {
    "collapsed": false,
    "ExecuteTime": {
     "end_time": "2024-04-19T12:09:27.246620Z",
     "start_time": "2024-04-19T12:09:27.239505Z"
    }
   },
   "id": "fb61086fa0814fe2",
   "outputs": [
    {
     "name": "stdout",
     "output_type": "stream",
     "text": [
      "Paper's trucking CO2 footprint: 0.004 ton-CO2 emitted/ton-CO2 captured, given 21.43 ton-miles of trucking and intensity of 0.168 kg/ton-mile.\n",
      "Implies embodied material emissions of 0.064 ton-CO2 emitted/ton-CO2 captured (paper's total CO2 footprint is 0.65 t-CO2 emit/t-CO2 captured less electric, heat, and trucking footprints).\n"
     ]
    }
   ],
   "execution_count": 815
  },
  {
   "cell_type": "code",
   "source": [
    "base_co2_footprint_2030 = (base_electric_co2_footprint_2030 + base_heat_co2_footprint_2030 + \n",
    "                           paper_trucking_footprint + paper_embodied_material_emissions)\n",
    "\n",
    "base_net_cost_2030 = total_base_cost_2030 / (1 - base_co2_footprint_2030)\n",
    "base_net_cost_2018 = total_base_cost_2018 / (1 - paper_base_co2_footprint)\n",
    "print(f\"Baseline 2030 net cost forecasted to be ${base_net_cost_2030:.2f} given forecast \"\n",
    "      f\"CO2 footprint of {base_co2_footprint_2030:.2f} t-CO2 emitted/ton-CO2 captured (2018 net cost: \"\n",
    "        f\"${base_net_cost_2018:.2f}, {paper_base_co2_footprint:.2f} footprint).\")\n",
    "\n",
    "costs[\"net\"] = {\n",
    "    \"2018\": base_net_cost_2018,\n",
    "    \"2030\": base_net_cost_2030\n",
    "}\n",
    "\n",
    "costs\n"
   ],
   "metadata": {
    "collapsed": false,
    "ExecuteTime": {
     "end_time": "2024-04-19T12:09:27.415937Z",
     "start_time": "2024-04-19T12:09:27.410680Z"
    }
   },
   "id": "34c633b39f24d888",
   "outputs": [
    {
     "name": "stdout",
     "output_type": "stream",
     "text": [
      "Baseline 2030 net cost forecasted to be $226.60 given forecast CO2 footprint of 0.40 t-CO2 emitted/ton-CO2 captured (2018 net cost: $668.57, 0.65 footprint).\n"
     ]
    },
    {
     "data": {
      "text/plain": [
       "{'capex': {'2018': {'contactor': 111.48,\n",
       "   'fan': 6.48,\n",
       "   'vacuum_pump': 5.07,\n",
       "   'heat_exchanger': 1.97,\n",
       "   'compression': 6.0,\n",
       "   'trucking': 3.0},\n",
       "  '2030': {'contactor': 43.62985545245635,\n",
       "   'fan': 6.48,\n",
       "   'vacuum_pump': 5.07,\n",
       "   'heat_exchanger': 1.97,\n",
       "   'compression': 6.0,\n",
       "   'trucking': 3.0}},\n",
       " 'opex': {'2018': {'fan': 16.26,\n",
       "   'vacuum_pump': 12.2,\n",
       "   'compression': 6.63,\n",
       "   'maintenance': 23.96,\n",
       "   'labor': 7.27,\n",
       "   'steam': 22.68,\n",
       "   'storage': 11.0},\n",
       "  '2030': {'fan': 16.26,\n",
       "   'vacuum_pump': 12.2,\n",
       "   'compression': 6.63,\n",
       "   'maintenance': 11.827989079409356,\n",
       "   'labor': 3.5888764861146085,\n",
       "   'steam': 9.86,\n",
       "   'storage': 8.755289054652255}},\n",
       " 'net': {'2018': 668.5714285714287, '2030': 226.59547243909452}}"
      ]
     },
     "execution_count": 816,
     "metadata": {},
     "output_type": "execute_result"
    }
   ],
   "execution_count": 816
  },
  {
   "cell_type": "markdown",
   "source": [
    "## Model Aerology costs"
   ],
   "metadata": {
    "collapsed": false
   },
   "id": "f291724fa536c6e0"
  },
  {
   "cell_type": "code",
   "source": [
    "# Starting point for Aerology costs is the baseline 2030 costs\n",
    "costs[\"opex\"][\"aero\"] = {\n",
    "    \"fan\": costs[\"opex\"][\"2030\"][\"fan\"],\n",
    "    \"vacuum_pump\": costs[\"opex\"][\"2030\"][\"vacuum_pump\"],\n",
    "    \"compression\": costs[\"opex\"][\"2030\"][\"compression\"],\n",
    "    \"maintenance\": costs[\"opex\"][\"2030\"][\"maintenance\"],\n",
    "    \"labor\": costs[\"opex\"][\"2030\"][\"labor\"],\n",
    "    \"steam\": costs[\"opex\"][\"2030\"][\"steam\"],\n",
    "    \"storage\": costs[\"opex\"][\"2030\"][\"storage\"]\n",
    "}\n",
    "costs[\"capex\"][\"aero\"] = {\n",
    "    \"contactor\": costs[\"capex\"][\"2030\"][\"contactor\"],\n",
    "    \"fan\": costs[\"capex\"][\"2030\"][\"fan\"],\n",
    "    \"vacuum_pump\": costs[\"capex\"][\"2030\"][\"vacuum_pump\"],\n",
    "    \"heat_exchanger\": costs[\"capex\"][\"2030\"][\"heat_exchanger\"],\n",
    "    \"compression\": costs[\"capex\"][\"2030\"][\"compression\"],\n",
    "    \"trucking\": costs[\"capex\"][\"2030\"][\"trucking\"]\n",
    "}\n",
    "\n",
    "# sorbent propelled through air, rather than using fan to push air through sorbent\n",
    "del costs[\"capex\"][\"aero\"][\"fan\"]\n",
    "del costs[\"opex\"][\"aero\"][\"fan\"]\n",
    "\n",
    "# already operating in mild vacuum\n",
    "del costs[\"capex\"][\"aero\"][\"vacuum_pump\"]\n",
    "del costs[\"opex\"][\"aero\"][\"vacuum_pump\"]\n",
    "\n",
    "# energy cost shifted to capex/plant mod (i.e. solar power) \n",
    "del costs[\"opex\"][\"aero\"][\"steam\"]\n",
    "del costs[\"opex\"][\"aero\"][\"compression\"]\n",
    "\n",
    "# transport to subsea storage, subsea storage modeled separately\n",
    "del costs[\"opex\"][\"aero\"][\"storage\"]\n",
    "del costs[\"capex\"][\"aero\"][\"trucking\"]\n",
    "\n",
    "# will recalculate maintenance and labor with increased capex\n",
    "del costs[\"opex\"][\"aero\"][\"maintenance\"]\n",
    "del costs[\"opex\"][\"aero\"][\"labor\"]\n",
    "\n",
    "stripped_aero_capex = sum(costs[\"capex\"][\"aero\"].values())\n",
    "stripped_aero_opex = sum(costs[\"opex\"][\"aero\"].values())\n",
    "stripped_aero_tot_gross_cost = stripped_aero_capex + stripped_aero_opex\n",
    "print(f\"Stripped Aerology 2030 total gross cost: ${stripped_aero_tot_gross_cost:.2f} (capex: \"\n",
    "      f\"${stripped_aero_capex:.2f}, opex: ${stripped_aero_opex:.2f}) before adding \\\"plant mod\\\"\"\n",
    "      f\" and subsea storage, transport to costs.\")\n",
    "\n",
    "costs"
   ],
   "metadata": {
    "collapsed": false,
    "ExecuteTime": {
     "end_time": "2024-04-19T12:09:27.457457Z",
     "start_time": "2024-04-19T12:09:27.450033Z"
    }
   },
   "id": "43d513de424de2ed",
   "outputs": [
    {
     "name": "stdout",
     "output_type": "stream",
     "text": [
      "Stripped Aerology 2030 total gross cost: $51.60 (capex: $51.60, opex: $0.00) before adding \"plant mod\" and subsea storage, transport to costs.\n"
     ]
    },
    {
     "data": {
      "text/plain": [
       "{'capex': {'2018': {'contactor': 111.48,\n",
       "   'fan': 6.48,\n",
       "   'vacuum_pump': 5.07,\n",
       "   'heat_exchanger': 1.97,\n",
       "   'compression': 6.0,\n",
       "   'trucking': 3.0},\n",
       "  '2030': {'contactor': 43.62985545245635,\n",
       "   'fan': 6.48,\n",
       "   'vacuum_pump': 5.07,\n",
       "   'heat_exchanger': 1.97,\n",
       "   'compression': 6.0,\n",
       "   'trucking': 3.0},\n",
       "  'aero': {'contactor': 43.62985545245635,\n",
       "   'heat_exchanger': 1.97,\n",
       "   'compression': 6.0}},\n",
       " 'opex': {'2018': {'fan': 16.26,\n",
       "   'vacuum_pump': 12.2,\n",
       "   'compression': 6.63,\n",
       "   'maintenance': 23.96,\n",
       "   'labor': 7.27,\n",
       "   'steam': 22.68,\n",
       "   'storage': 11.0},\n",
       "  '2030': {'fan': 16.26,\n",
       "   'vacuum_pump': 12.2,\n",
       "   'compression': 6.63,\n",
       "   'maintenance': 11.827989079409356,\n",
       "   'labor': 3.5888764861146085,\n",
       "   'steam': 9.86,\n",
       "   'storage': 8.755289054652255},\n",
       "  'aero': {}},\n",
       " 'net': {'2018': 668.5714285714287, '2030': 226.59547243909452}}"
      ]
     },
     "execution_count": 817,
     "metadata": {},
     "output_type": "execute_result"
    }
   ],
   "execution_count": 817
  },
  {
   "cell_type": "markdown",
   "source": [
    "#### Model energy efficiencies for Aerology loitering flight vehicle (LFV)\n",
    "LFV distinguished from presumed drone-like solution to transport captured CO2 from airship to sea surface"
   ],
   "metadata": {
    "collapsed": false
   },
   "id": "c5ccf1b82d015a80"
  },
  {
   "cell_type": "code",
   "source": [
    "q_learned_dni_at_5400m = 484.073401 # W/m², approximate floor of Class A airspace\n",
    "q_learned_dni_at_sea_level = 403.240724\n",
    "# average surface irradiance for Americas is 197.66233023551354 W/m² (from NREL, not NASA Power)\n",
    "avg_irradiance = 484.073401\n",
    "\n",
    "unscaled_thermal_eff = { # pixels from https://www.sciencedirect.com/science/article/pii/S1876610214015604\n",
    "    0: 0, # x-axis: y-axis\n",
    "    18: 65,\n",
    "    34: 117,\n",
    "    50: 134,\n",
    "    68: 143,\n",
    "    85: 148,\n",
    "    102: 152,\n",
    "    119: 154,\n",
    "    136: 156,\n",
    "    152: 158,\n",
    "    169: 159,\n",
    "    186: 160,\n",
    "    203: 161,\n",
    "    253: 162    \n",
    "}\n"
   ],
   "metadata": {
    "collapsed": false,
    "ExecuteTime": {
     "end_time": "2024-04-19T12:09:27.497325Z",
     "start_time": "2024-04-19T12:09:27.495088Z"
    }
   },
   "id": "b0ac51f17d457608",
   "outputs": [],
   "execution_count": 818
  },
  {
   "cell_type": "code",
   "source": [
    "def scale_values(value, old_min, old_max, new_min, new_max):\n",
    "    return (value - old_min) / (old_max - old_min) * (new_max - new_min) + new_min\n",
    "\n",
    "def estimate_efficiency(irradiance):\n",
    "    return spline_interpolator(irradiance)\n",
    "\n",
    "# Scale the data from measured pixels to axis values (0-1500 W/m2 for irradiance, 0-0.8 for efficiency) \n",
    "px_x_vals = np.array(list(unscaled_thermal_eff.keys()))\n",
    "px_y_vals = np.array(list(unscaled_thermal_eff.values()))\n",
    "x_vals_scaled = scale_values(px_x_vals, 0, 253, 0, 1500)\n",
    "y_vals_scaled = scale_values(px_y_vals, 0, 174, 0.0, 0.8)\n",
    "\n",
    "spline_interpolator = interp1d(x_vals_scaled, y_vals_scaled, kind='cubic', fill_value=\"extrapolate\")\n",
    "\n",
    "est_solar_thermal_efficiency_2024 = estimate_efficiency(avg_irradiance)\n",
    "print(f\"Starting solar-thermal efficiency: {est_solar_thermal_efficiency_2024:.2%}, given daily irradiance \"\n",
    "      f\"of {avg_irradiance:.2f} W/m².\")\n",
    "\n",
    "x_line = np.linspace(min(x_vals_scaled), max(x_vals_scaled), 500)\n",
    "y_line = spline_interpolator(x_line)\n",
    "\n",
    "plt.figure(figsize=(8, 5))\n",
    "plt.scatter(x_vals_scaled, y_vals_scaled, color='blue', label='Siqueira et al data points')\n",
    "plt.scatter(avg_irradiance, est_solar_thermal_efficiency_2024, color='red', label='Starting efficiency')\n",
    "plt.plot(x_line, y_line, color='green', label='Cubic spline interpolation')\n",
    "plt.title('Heat Transfer and Analyis... Reproduction')\n",
    "plt.xlabel('Irradiance (W/m²)')\n",
    "plt.ylabel('Efficiency')\n",
    "plt.legend()\n",
    "plt.grid(True)\n",
    "plt.show()\n"
   ],
   "metadata": {
    "collapsed": false,
    "ExecuteTime": {
     "end_time": "2024-04-19T12:09:27.681567Z",
     "start_time": "2024-04-19T12:09:27.540318Z"
    }
   },
   "id": "2876bbf92776fe01",
   "outputs": [
    {
     "name": "stdout",
     "output_type": "stream",
     "text": [
      "Starting solar-thermal efficiency: 67.66%, given daily irradiance of 484.07 W/m².\n"
     ]
    },
    {
     "data": {
      "text/plain": [
       "<Figure size 800x500 with 1 Axes>"
      ],
      "image/png": "[encoded data removed]"
     },
     "metadata": {},
     "output_type": "display_data"
    }
   ],
   "execution_count": 819
  },
  {
   "cell_type": "code",
   "source": [
    "# Applying linear improvement rate to thermal efficiency results in efficiency > 100%\n",
    "# Used logistic growth instead and assumed growth rate equal to improvement rate\n",
    "def logistic_growth(t, max_limit, k, t_0):\n",
    "    return max_limit / (1 + np.exp(-k * (t - t_0)))\n",
    "\n",
    "upper_bound = .90  # https://www.osti.gov/biblio/1090218\n",
    "solar_ir = 0.09  # https://www.sciencedirect.com/science/article/abs/pii/S0960148114001451\n",
    "calibrated_t0 = 2012 # calibrated to intersect ~68% at 2024 (i.e. starting efficiency modeled above)\n",
    "start_year = 2024\n",
    "end_year = 2030\n",
    "\n",
    "years = np.arange(start_year, end_year + 1)\n",
    "efficiencies = [logistic_growth(t, upper_bound, solar_ir, calibrated_t0) for t in years]\n",
    "\n",
    "csp_thermal_eff_2030 = efficiencies[-1]\n",
    "print(f\"2030 solar-thermal efficiency forecasted to be {csp_thermal_eff_2030:.2%}.\")\n",
    "\n",
    "# Plotting the results\n",
    "plt.figure(figsize=(8, 5))\n",
    "plt.plot(years, efficiencies, marker='o')\n",
    "plt.title('Thermal Efficiency Projection Using Logistic Growth Model')\n",
    "plt.xlabel('Year')\n",
    "plt.ylabel('Efficiency (%)')\n",
    "plt.grid(True)\n",
    "plt.show()"
   ],
   "metadata": {
    "collapsed": false,
    "ExecuteTime": {
     "end_time": "2024-04-19T12:09:27.808545Z",
     "start_time": "2024-04-19T12:09:27.683612Z"
    }
   },
   "id": "7fc0bab6590aaddc",
   "outputs": [
    {
     "name": "stdout",
     "output_type": "stream",
     "text": [
      "2030 solar-thermal efficiency forecasted to be 75.13%.\n"
     ]
    },
    {
     "data": {
      "text/plain": [
       "<Figure size 800x500 with 1 Axes>"
      ],
      "image/png": "[encoded data removed]"
     },
     "metadata": {},
     "output_type": "display_data"
    }
   ],
   "execution_count": 820
  },
  {
   "cell_type": "code",
   "source": [
    "unscaled_pv_eff = { # pixels from https://ieeexplore.ieee.org/abstract/document/6861716\n",
    "    221: 245,\n",
    "    248: 252,\n",
    "    280: 257,\n",
    "    307: 260,\n",
    "    332: 263\n",
    "}\n",
    "\n",
    "pv_px_x_vals = np.array(list(unscaled_pv_eff.keys()))\n",
    "pv_px_y_vals = np.array(list(unscaled_pv_eff.values()))\n",
    "\n",
    "# Scale the data from measured pixels to axis values (0-600 W/m2 for irradiance, 0-0.18 for efficiency)\n",
    "pv_x_vals = scale_values(pv_px_x_vals, 0, 332, 0, 600)\n",
    "pv_y_vals = scale_values(pv_px_y_vals, 0, 349, 0.0, 0.18)\n",
    "\n",
    "pv_x_vals_reshaped = np.array(pv_x_vals).reshape(-1, 1)\n",
    "model = LinearRegression()\n",
    "model.fit(pv_x_vals_reshaped, pv_y_vals)\n",
    "y_pred = model.predict(pv_x_vals_reshaped)\n",
    "\n",
    "stc_irradiance = 1000 # standard test conditions, 1000 W/m²\n",
    "islam_et_al_pv_stc_eff = model.predict(np.array([[stc_irradiance]]))[0]\n",
    "pv_x_vals = np.append(pv_x_vals, stc_irradiance)\n",
    "pv_y_vals = np.append(pv_y_vals, islam_et_al_pv_stc_eff)\n",
    "y_ext_pred = model.predict(np.array(pv_x_vals).reshape(-1, 1))\n",
    "\n",
    "# https://maxeon.com/us/sites/default/files/2024-03/sp_max6_66c_res_440_435_425_dc_ds_en_ltr_552142.pdf\n",
    "commercial_sota_stc_eff = .228 \n",
    "\n",
    "pv_improvement_shift = commercial_sota_stc_eff - islam_et_al_pv_stc_eff \n",
    "commercial_sota_curve = y_ext_pred + pv_improvement_shift\n",
    "\n",
    "est_pv_efficiency = model.predict(np.array([[avg_irradiance]]))[0] + pv_improvement_shift\n",
    "print(f\"PV (i.e. solar-electric) efficiency forecasted to be {est_pv_efficiency:.2%}, given daily irradiance \"\n",
    "      f\"of {avg_irradiance:.2f} W/m².\")\n",
    "\n",
    "plt.scatter(pv_x_vals, pv_y_vals, color='blue', label='Islam et al data points')\n",
    "plt.scatter(avg_irradiance, est_pv_efficiency, color='red', label='Assumed PV efficiency')\n",
    "plt.plot(pv_x_vals, y_ext_pred, color='green', label='Islam et al linear extrapolation')\n",
    "plt.plot(pv_x_vals, commercial_sota_curve, color='grey', label='Commercial SOTA curve')\n",
    "plt.xlabel('Irradiance (W/m²)')\n",
    "plt.ylabel('Efficency')\n",
    "plt.title('Linear Regression')\n",
    "plt.legend()\n",
    "plt.show()"
   ],
   "metadata": {
    "collapsed": false,
    "ExecuteTime": {
     "end_time": "2024-04-19T12:09:27.933358Z",
     "start_time": "2024-04-19T12:09:27.810342Z"
    }
   },
   "id": "e974bc89f0bea3b1",
   "outputs": [
    {
     "name": "stdout",
     "output_type": "stream",
     "text": [
      "PV (i.e. solar-electric) efficiency forecasted to be 20.49%, given daily irradiance of 484.07 W/m².\n"
     ]
    },
    {
     "data": {
      "text/plain": [
       "<Figure size 640x480 with 1 Axes>"
      ],
      "image/png": "[encoded data removed]"
     },
     "metadata": {},
     "output_type": "display_data"
    }
   ],
   "execution_count": 821
  },
  {
   "cell_type": "code",
   "source": [
    "# Using logistic growth model for PV efficiency again so as to not overestimate terminal efficiency\n",
    "pv_upper_bound = .339 # Perovskite/Si tandem cell https://www.nrel.gov/pv/cell-efficiency.html\n",
    "pv_calibrated_t0 = 2019 # calibrated to intersect ~21% at 2024 (i.e. starting efficiency modeled above)\n",
    "pv_start_year = 2024\n",
    "pv_end_year = 2030\n",
    "\n",
    "pv_years = np.arange(pv_start_year, pv_end_year + 1)\n",
    "pv_efficiencies = [logistic_growth(t, pv_upper_bound, solar_ir, pv_calibrated_t0) for t in pv_years]\n",
    "\n",
    "pv_eff_2030 = pv_efficiencies[-1]\n",
    "print(f\"2030 PV efficiency forecasted to be {pv_eff_2030:.2%}.\")\n",
    "\n",
    "plt.plot(pv_years, pv_efficiencies, marker='o')\n",
    "plt.title('PV Efficiency Projection Using Logistic Growth Model')\n",
    "plt.xlabel('Year')\n",
    "plt.ylabel('Efficiency (%)')\n",
    "plt.grid(True)\n",
    "plt.show()\n"
   ],
   "metadata": {
    "collapsed": false,
    "ExecuteTime": {
     "end_time": "2024-04-19T12:09:28.052178Z",
     "start_time": "2024-04-19T12:09:27.935768Z"
    }
   },
   "id": "ff77a6ec72fe5af8",
   "outputs": [
    {
     "name": "stdout",
     "output_type": "stream",
     "text": [
      "2030 PV efficiency forecasted to be 24.72%.\n"
     ]
    },
    {
     "data": {
      "text/plain": [
       "<Figure size 640x480 with 1 Axes>"
      ],
      "image/png": "[encoded data removed]"
     },
     "metadata": {},
     "output_type": "display_data"
    }
   ],
   "execution_count": 822
  },
  {
   "cell_type": "markdown",
   "source": [
    "#### Estimate Aerology energy and associated weight per m² of CSP panels"
   ],
   "metadata": {
    "collapsed": false
   },
   "id": "54eaaf0bd22901bc"
  },
  {
   "cell_type": "code",
   "source": [
    "csp_wh_per_m2 = avg_irradiance * csp_thermal_eff_2030 * 24\n",
    "annual_operating_days = 330\n",
    "csp_ann_gj_per_m2 = csp_wh_per_m2 * 3.6e-6 * annual_operating_days\n",
    "csp_ann_t_co2_per_m2 = csp_ann_gj_per_m2 / thermal_requirement_2030\n",
    "print(f\"Each m² of CSP estimated to generate {csp_ann_gj_per_m2:.2f} GJ/yr thermal engergy \"\n",
    "      f\"({csp_wh_per_m2:.0f} Wh/m²/day): provides thermal requirement for {csp_ann_t_co2_per_m2:.2f} \"\n",
    "      f\"tons of CO2 capture annually (given {annual_operating_days} operating days/year).\")\n"
   ],
   "metadata": {
    "collapsed": false,
    "ExecuteTime": {
     "end_time": "2024-04-19T12:09:28.058229Z",
     "start_time": "2024-04-19T12:09:28.053910Z"
    }
   },
   "id": "b28e2c3ecb4e9087",
   "outputs": [
    {
     "name": "stdout",
     "output_type": "stream",
     "text": [
      "Each m² of CSP estimated to generate 10.37 GJ/yr thermal engergy (8729 Wh/m²/day): provides thermal requirement for 3.05 tons of CO2 capture annually (given 330 operating days/year).\n"
     ]
    }
   ],
   "execution_count": 823
  },
  {
   "cell_type": "code",
   "source": [
    "csp_frame_kg_per_m2 = 15.0 # https://www.osti.gov/biblio/1888029\n",
    "csp_mirror_kg_per_m2 = 7.5\n",
    "csp_weight_kg_per_m2 = csp_frame_kg_per_m2 + csp_mirror_kg_per_m2\n",
    "print(f\"Each m² of CSP carries {csp_weight_kg_per_m2:.2f}kg of mirror and frame associated with CSP itself.\")"
   ],
   "metadata": {
    "collapsed": false,
    "ExecuteTime": {
     "end_time": "2024-04-19T12:09:28.064035Z",
     "start_time": "2024-04-19T12:09:28.060841Z"
    }
   },
   "id": "c6841ff98a67292d",
   "outputs": [
    {
     "name": "stdout",
     "output_type": "stream",
     "text": [
      "Each m² of CSP carries 22.50kg of mirror and frame associated with CSP itself.\n"
     ]
    }
   ],
   "execution_count": 824
  },
  {
   "cell_type": "code",
   "source": [
    "sorbent_efficiency = 7.5 # kg sorbent/ton-CO2 https://iopscience.iop.org/article/10.1088/2516-1083/abf1ce/pdf\n",
    "sorbent_efficiency_2030 = forecast_improvement(sorbent_efficiency, adsorption_ir, 2021)\n",
    "print(f\"Sorbent efficiency forecasted to be {sorbent_efficiency_2030:.2f} kg sorbent/ton-CO2 in 2030.\")\n",
    "\n",
    "monolith_ratio = 0.2 # McQueen et al 2020 table S1\n",
    "kg_monolith_per_ton_co2 = sorbent_efficiency_2030 * monolith_ratio\n",
    "kg_contactor_per_ton_co2 = sorbent_efficiency_2030 + kg_monolith_per_ton_co2\n",
    "\n",
    "contactor_kg_per_m2_csp = kg_contactor_per_ton_co2 * csp_ann_t_co2_per_m2\n",
    "print(f\"Incl. sorbent support structures, {kg_contactor_per_ton_co2:.2f}kg carried for contactor \"\n",
    "      f\"per ton-CO2: each m² of CSP estimated to require {contactor_kg_per_m2_csp:.2f}kg of contactor \"\n",
    "      f\"material annually.\")\n"
   ],
   "metadata": {
    "collapsed": false,
    "ExecuteTime": {
     "end_time": "2024-04-19T12:09:28.069279Z",
     "start_time": "2024-04-19T12:09:28.065449Z"
    }
   },
   "id": "90316f3841b0069c",
   "outputs": [
    {
     "name": "stdout",
     "output_type": "stream",
     "text": [
      "Sorbent efficiency forecasted to be 3.71 kg sorbent/ton-CO2 in 2030.\n",
      "Incl. sorbent support structures, 4.45kg carried for contactor per ton-CO2: each m² of CSP estimated to require 13.58kg of contactor material annually.\n"
     ]
    }
   ],
   "execution_count": 825
  },
  {
   "cell_type": "code",
   "source": [
    "# Assumes compression entirely accomplished on sea platform\n",
    "# TODO - investigate partial compression on airship to reduce air-sea surface CO2 transport volumes\n",
    "\n",
    "def average_day_length(latitude, start_date, end_date):\n",
    "    location = LocationInfo(latitude=latitude, longitude=0)\n",
    "    \n",
    "    total_day_length = timedelta()\n",
    "    days_counted = 0\n",
    "\n",
    "    current_date = start_date\n",
    "    while current_date <= end_date:\n",
    "        sun_times = sun(location.observer, date=current_date)\n",
    "        sunrise = sun_times['sunrise']\n",
    "        sunset = sun_times['sunset']\n",
    "        day_length = sunset - sunrise\n",
    "        total_day_length += day_length\n",
    "        days_counted += 1\n",
    "        current_date += timedelta(days=1)\n",
    "\n",
    "    average_length_seconds = total_day_length.total_seconds() / days_counted\n",
    "    average_length_minutes = average_length_seconds / 60\n",
    "    return average_length_minutes\n",
    "\n",
    "average_lat = 26.975099\n",
    "q_start_date = datetime(2023, 3, 20)\n",
    "q_end_date = q_start_date + timedelta(days=91)\n",
    "average_daylight = average_day_length(average_lat, q_start_date, q_end_date) # minutes\n",
    "\n",
    "g_co2_capture_per_min_per_m2_csp = (csp_ann_t_co2_per_m2 * 1000 * 1000 /\n",
    "                                    (annual_operating_days * average_daylight))\n",
    "molar_mass_co2 = 44.01  \n",
    "molar_volume_at_stp = 22.4\n",
    "\n",
    "cycle_time = 16 # minutes, see ch. 5 http://nap.nationalacademies.org/25259\n",
    "\n",
    "moles_co2_per_minute_per_m2 = g_co2_capture_per_min_per_m2_csp / molar_mass_co2\n",
    "stp_liter_co2_per_cycle_per_m2 = moles_co2_per_minute_per_m2 * molar_volume_at_stp * cycle_time\n",
    "\n",
    "sea_level_temp = 288.15  # K\n",
    "slp = 101325  # Pa\n",
    "g = const.g\n",
    "lapse_rate = 0.0065  # K/m\n",
    "R = 287.058  # Specific gas constant for dry air in J/(kg*K)\n",
    "\n",
    "temp_at_5400m = sea_level_temp - lapse_rate * 5400\n",
    "press_at_5400m = slp * (temp_at_5400m / sea_level_temp) ** (g / (lapse_rate * R))\n",
    "\n",
    "liter_co2_per_cycle_per_m2_5400m = ((stp_liter_co2_per_cycle_per_m2 * (slp / 1000) / (press_at_5400m / 1000)) *\n",
    "                                (temp_at_5400m / 273.15))\n",
    "print(f\"Each m² of CSP estimated to produce {liter_co2_per_cycle_per_m2_5400m:.2f} liters of \"\n",
    "      f\"uncompressed CO2 per {cycle_time}m-cycle ({average_daylight:.0f}m daily operation) at 5400m.\")\n"
   ],
   "metadata": {
    "collapsed": false,
    "ExecuteTime": {
     "end_time": "2024-04-19T12:09:28.081329Z",
     "start_time": "2024-04-19T12:09:28.071383Z"
    }
   },
   "id": "b59e9469e5152cdb",
   "outputs": [
    {
     "name": "stdout",
     "output_type": "stream",
     "text": [
      "Each m² of CSP estimated to produce 174.82 liters of uncompressed CO2 per 16m-cycle (789m daily operation) at 5400m.\n"
     ]
    }
   ],
   "execution_count": 826
  },
  {
   "cell_type": "code",
   "source": [
    "hdpe_density = 0.95  # g/cm^3, recycled high-density polyethylene\n",
    "wall_thickness_cm = 0.2  # cm\n",
    "ratio_diameter_height = 3.5 / 27.5  # A220 fuselage dimensions\n",
    "\n",
    "cycle_cc_co2_per_m2_csp = liter_co2_per_cycle_per_m2_5400m * 1000  # cubic cm\n",
    "\n",
    "# Calculate the inner height (H) of the cylinder using the cubic root\n",
    "# Rearranged formula: H = [(4 * V) / (π * ratio^2)]^(1/3)\n",
    "inner_height_cm = ((4 * cycle_cc_co2_per_m2_csp) / (math.pi * (ratio_diameter_height ** 2))) ** (1/3)\n",
    "inner_diameter_cm = inner_height_cm * ratio_diameter_height\n",
    "\n",
    "# Calculate the outer dimensions\n",
    "outer_diameter_cm = inner_diameter_cm + 2 * wall_thickness_cm\n",
    "outer_height_cm = inner_height_cm + 2 * wall_thickness_cm\n",
    "\n",
    "# Volume of HDPE = Volume of outer cylinder - Volume of inner cylinder\n",
    "vol_hdpe_per_m2 = (math.pi * (outer_diameter_cm/2)**2 * outer_height_cm) - cycle_cc_co2_per_m2_csp # cm^3\n",
    "\n",
    "# Calculate the mass of HDPE needed\n",
    "hdpe_kg_per_m2_csp = (hdpe_density * vol_hdpe_per_m2) / 1000  # converting grams to kilograms\n",
    "print(f\"To contain CO2 produced by each m² of CSP, {hdpe_kg_per_m2_csp:.2f}kg of HDPE is required.\")"
   ],
   "metadata": {
    "collapsed": false,
    "ExecuteTime": {
     "end_time": "2024-04-19T12:09:28.086221Z",
     "start_time": "2024-04-19T12:09:28.082471Z"
    }
   },
   "id": "44b11e4c004778d2",
   "outputs": [
    {
     "name": "stdout",
     "output_type": "stream",
     "text": [
      "To contain CO2 produced by each m² of CSP, 4.67kg of HDPE is required.\n"
     ]
    }
   ],
   "execution_count": 827
  },
  {
   "cell_type": "markdown",
   "source": [
    "#### Estimate LFV dimensions\n",
    "Assumes envelope size of Loon's Quail balloon (i.e. v1.6) and lifting capability of Raptor (i.e. Hammerhead \n",
    "Gen 1). Loon specifications available at [Loon Library](https://storage.googleapis.com/x-prod.appspot.com/files/The%20Loon%20Library.pdf)."
   ],
   "metadata": {
    "collapsed": false
   },
   "id": "974eef9097b7b6dd"
  },
  {
   "cell_type": "code",
   "source": [
    "# https://vimeo.com/389506892?utm_campaign=2470763&utm_source=affiliate&utm_channel=affiliate&cjevent=c37b9631eb7411ee82ea00660a82b839&clickid=c37b9631eb7411ee82ea00660a82b839\n",
    "battery_density_2019 = 250 # Wh/kg\n",
    "quail_storage_capacity = 4146 # Wh\n",
    "quail_battery_weight = quail_storage_capacity / battery_density_2019\n",
    "\n",
    "# https://maxeon.com/us/sites/default/files/2024-03/sp_max6_66c_res_440_435_425_dc_ds_en_ltr_552142.pdf\n",
    "pv_panel_h = 1.872 # m\n",
    "pv_panel_w = 1.032 \n",
    "pv_sgl_panel_area = pv_panel_h * pv_panel_w\n",
    "pv_panel_weight = 20.9 # kg\n",
    "pv_panel_kg_per_m2 = pv_panel_weight / pv_sgl_panel_area\n",
    "\n",
    "quail_panel_area = 4.6\n",
    "quail_panel_weight = quail_panel_area * pv_panel_kg_per_m2\n",
    "quail_electric_weight = quail_battery_weight + quail_panel_weight\n",
    "print(f\"Quail estimated to carry {quail_electric_weight:.2f}kg assoc. with power (battery and solar panels).\")\n",
    "\n",
    "quail_max_lifting_weight = 261.2\n",
    "quail_balloon_and_flight_sys_weight = quail_max_lifting_weight - quail_electric_weight\n",
    "print(f\"Quail balloon and flight systems estimated to weigh {quail_balloon_and_flight_sys_weight:.2f}kg \"\n",
    "      f\"(includes and henceforth ignores weight of Loon communication payload).\")\n"
   ],
   "metadata": {
    "collapsed": false,
    "ExecuteTime": {
     "end_time": "2024-04-19T12:09:28.093239Z",
     "start_time": "2024-04-19T12:09:28.089458Z"
    }
   },
   "id": "3a21bc0339d6d404",
   "outputs": [
    {
     "name": "stdout",
     "output_type": "stream",
     "text": [
      "Quail estimated to carry 66.35kg assoc. with power (battery and solar panels).\n",
      "Quail balloon and flight systems estimated to weigh 194.85kg (includes and henceforth ignores weight of Loon communication payload).\n"
     ]
    }
   ],
   "execution_count": 828
  },
  {
   "cell_type": "code",
   "source": [
    "raptor_daily_harvest = 129000  # Wh\n",
    "raptor_speed = 5.25  # m/s\n",
    "raptor_propulsion_power = raptor_daily_harvest * .3 / 24 \n",
    "\n",
    "target_speed = 3.0\n",
    "# Propulsion power required proportional to velocity cubed\n",
    "propulsion_power_req = raptor_propulsion_power * (target_speed / raptor_speed) ** 3 # W\n",
    "propulsion_energy_req = propulsion_power_req * 24 # Wh\n",
    "\n",
    "# Assume flight systems electric requirement equal to half of Plover daily harvest\n",
    "flight_sys_energy_req = 9267 / 2  # Wh\n",
    "total_electric_energy_req = propulsion_energy_req + flight_sys_energy_req\n",
    "\n",
    "daily_solar_electric_harvest_per_m2_pv = avg_irradiance * pv_eff_2030 * 24 # Wh\n",
    "pv_panel_area = total_electric_energy_req / daily_solar_electric_harvest_per_m2_pv\n",
    "print(f\"Each m² PV generates {daily_solar_electric_harvest_per_m2_pv / 1000:.2f} kWh/day: requires \"\n",
    "      f\"{pv_panel_area:.2f}m² to meet electric demand of {total_electric_energy_req / 1000:.2f} kWh \"\n",
    "      f\"({propulsion_energy_req / 1000:.2f} kWh propulsion, {flight_sys_energy_req / 1000:.2f} kWh flight \"\n",
    "      f\"systems).\")\n",
    "\n",
    "pv_panel_weight = pv_panel_kg_per_m2 * pv_panel_area\n",
    "\n",
    "quail_daily_harvest = 9730 # Wh\n",
    "# Using Quail ignores v3 relationship but assumes offset by carrying comms payload demand\n",
    "quail_storage_pct_of_harvest = quail_storage_capacity / quail_daily_harvest\n",
    "battery_storage_capacity = quail_storage_pct_of_harvest * total_electric_energy_req\n",
    "battery_density = 500 # Wh/kg https://amprius.com/the-all-new-amprius-500-wh-kg-battery-platform-is-here/\n",
    "battery_weight = battery_storage_capacity / battery_density\n",
    "\n",
    "electric_weight = battery_weight + pv_panel_weight\n",
    "print(f\"Electric weight estimated to be {electric_weight:.2f}kg ({battery_weight:.2f}kg battery, \"\n",
    "      f\"{pv_panel_weight:.2f}kg PV panel).\")\n"
   ],
   "metadata": {
    "collapsed": false,
    "ExecuteTime": {
     "end_time": "2024-04-19T12:09:28.098379Z",
     "start_time": "2024-04-19T12:09:28.094432Z"
    }
   },
   "id": "f92d5b01e43a9866",
   "outputs": [
    {
     "name": "stdout",
     "output_type": "stream",
     "text": [
      "Each m² PV generates 2.87 kWh/day: requires 4.13m² to meet electric demand of 11.85 kWh (7.22 kWh propulsion, 4.63 kWh flight systems).\n",
      "Electric weight estimated to be 54.76kg (10.10kg battery, 44.66kg PV panel).\n"
     ]
    }
   ],
   "execution_count": 829
  },
  {
   "cell_type": "code",
   "source": [
    "M_air = 28.97e-3  # Molar mass of air (kg/mol)\n",
    "M_hydrogen = 2.016e-3  # Molar mass of hydrogen (kg/mol)\n",
    "\n",
    "density_air = (press_at_5400m * M_air) / (const.R * temp_at_5400m)\n",
    "density_hydrogen = (press_at_5400m * M_hydrogen) / (const.R * temp_at_5400m)\n",
    "density_diff = density_air - density_hydrogen\n",
    "\n",
    "quail_envelope_vol = 2713\n",
    "mass_lifted = quail_envelope_vol * density_diff\n",
    "print(f\"Envelope with volume {quail_envelope_vol}m³ (equal to Quail) estimated to lift \"\n",
    "      f\"{mass_lifted:.2f}kg to 5400m.\")"
   ],
   "metadata": {
    "collapsed": false,
    "ExecuteTime": {
     "end_time": "2024-04-19T12:09:28.104164Z",
     "start_time": "2024-04-19T12:09:28.099699Z"
    }
   },
   "id": "4fe445b70e0b00cc",
   "outputs": [
    {
     "name": "stdout",
     "output_type": "stream",
     "text": [
      "Envelope with volume 2713m³ (equal to Quail) estimated to lift 1779.34kg to 5400m.\n"
     ]
    }
   ],
   "execution_count": 830
  },
  {
   "cell_type": "code",
   "source": [
    "kg_per_m2_csp = csp_weight_kg_per_m2 + contactor_kg_per_m2_csp + hdpe_kg_per_m2_csp\n",
    "print(f\"Each m² of CSP estimated to entail {kg_per_m2_csp:.2f}kg of material associated with CO2 capture.\")\n",
    "\n",
    "available_lifted_mass = mass_lifted - quail_balloon_and_flight_sys_weight\n",
    "payload_capacity = available_lifted_mass - electric_weight\n",
    "print(f\"{available_lifted_mass:.1f} kg of lifted mass available after balloon and flight systems; \"\n",
    "      f\"{payload_capacity:.1f} kg available after PV and battery.\")\n",
    "\n",
    "m2_csp = payload_capacity / kg_per_m2_csp\n",
    "annual_fv_co2_capture = m2_csp * csp_ann_t_co2_per_m2\n",
    "print(f\"{payload_capacity:.1f} kg payload permits {m2_csp:.2f}m² of CSP, capturing \"\n",
    "      f\"{annual_fv_co2_capture:.2f} tons of CO2 annually \"\n",
    "      f\"({annual_fv_co2_capture / annual_operating_days:.3f} tons/day).\")\n"
   ],
   "metadata": {
    "collapsed": false,
    "ExecuteTime": {
     "end_time": "2024-04-19T12:09:28.110992Z",
     "start_time": "2024-04-19T12:09:28.106568Z"
    }
   },
   "id": "a39f743d776a0f9e",
   "outputs": [
    {
     "name": "stdout",
     "output_type": "stream",
     "text": [
      "Each m² of CSP estimated to entail 40.75kg of material associated with CO2 capture.\n",
      "1584.5 kg of lifted mass available after balloon and flight systems; 1529.7 kg available after PV and battery.\n",
      "1529.7 kg payload permits 37.54m² of CSP, capturing 114.48 tons of CO2 annually (0.347 tons/day).\n"
     ]
    }
   ],
   "execution_count": 831
  },
  {
   "cell_type": "markdown",
   "source": [
    "#### Estimate LFV costs"
   ],
   "metadata": {
    "collapsed": false
   },
   "id": "b81b8e07c1a568ff"
  },
  {
   "cell_type": "code",
   "source": [
    "q_cells_m2 = 1722 * 1134 / 1000000 # https://ressupply.com/q-cells?sort=p.price&order=DESC\n",
    "q_cells_price = 315.0\n",
    "pv_panel_price_per_m2_2030 = forecast_improvement(q_cells_price, solar_ir, 2024) / q_cells_m2\n",
    "# nrel_2023_mpp = 2.68 # https://www.nrel.gov/docs/fy23osti/87303.pdf\n",
    "# nrel_2022_mpp = 3.18\n",
    "# nrel_2021_mpp = nrel_2022_mpp / 1.02\n",
    "# pv_panel_price_2021 = nrel_2021_mpp / nrel_2023_mpp * q_cells_price\n",
    "quail_2030_pv_cost = quail_panel_area * pv_panel_price_per_m2_2030\n",
    "\n",
    "# https://about.bnef.com/blog/battery-pack-prices-fall-to-an-average-of-132-kwh-but-rising-commodity-prices-start-to-bite\n",
    "# battery_price_2021 = 132 # $/kWh \n",
    "# https://about.bnef.com/blog/lithium-ion-battery-pack-prices-hit-record-low-of-139-kwh/\n",
    "battery_price_2030 = 80.0 # $/kWh \n",
    "quail_2030_battery_cost = quail_storage_capacity / 1000 * battery_price_2030\n",
    "quail_power_cost = quail_2030_pv_cost + quail_2030_battery_cost\n",
    "print(f\"Quail power cost at shutdown in 2021 estimated at ${quail_power_cost:.2f} (${quail_2030_pv_cost:.2f} \"\n",
    "      f\"PV panels, ${quail_2030_battery_cost:.2f} battery).\")\n",
    "\n",
    "# https://www.pcworld.com/article/428013/two-years-on-googles-project-loon-drifts-into-focus.html\n",
    "quail_target_cost = 10000\n",
    "# https://www.datacenterdynamics.com/en/analysis/connecting-world-balloon/\n",
    "quail_quoted_cost = 40000\n",
    "assumed_quail_vehicle_cost = (quail_target_cost + quail_quoted_cost) / 2\n",
    " \n",
    "balloon_and_flight_systems_cost = assumed_quail_vehicle_cost - quail_power_cost\n",
    "print(f\"Quail flight vehicle total cost assumed to be ${assumed_quail_vehicle_cost:.2f}: less power, \"\n",
    "      f\"will use ${balloon_and_flight_systems_cost:.2f} as cost of balloon and flight systems henceforth \"\n",
    "      f\"(ignores cost of Loon comms payload).\")"
   ],
   "metadata": {
    "collapsed": false,
    "ExecuteTime": {
     "end_time": "2024-04-19T12:09:28.116415Z",
     "start_time": "2024-04-19T12:09:28.112745Z"
    }
   },
   "id": "cc46a7e38ce7f97c",
   "outputs": [
    {
     "name": "stdout",
     "output_type": "stream",
     "text": [
      "Quail power cost at shutdown in 2021 estimated at $753.06 ($421.38 PV panels, $331.68 battery).\n",
      "Quail flight vehicle total cost assumed to be $25000.00: less power, will use $24246.94 as cost of balloon and flight systems henceforth (ignores cost of Loon comms payload).\n"
     ]
    }
   ],
   "execution_count": 832
  },
  {
   "cell_type": "code",
   "source": [
    "csp_cost_per_m2 = 152.0 # https://www.nrel.gov/docs/fy21osti/77829.pdf\n",
    "csp_cost_2030 = csp_cost_per_m2 * m2_csp\n",
    "print(f\"CSP cost in 2030: ${csp_cost_2030:.2f} ({m2_csp:.2f} m² of CSP panels, {csp_cost_per_m2:.2f} $/m²)\")\n",
    "\n",
    "pv_cost_2030 = pv_panel_price_per_m2_2030 * pv_panel_area\n",
    "print(f\"PV panel cost in 2030: ${pv_cost_2030:.2f} ({pv_panel_area:.2f} m² of PV panels, \"\n",
    "      f\"{pv_panel_price_per_m2_2030:.2f} $/m²)\")\n",
    "\n",
    "battery_cost_2030 = battery_storage_capacity / 1000 * battery_price_2030\n",
    "print(f\"Battery cost in 2030: ${battery_cost_2030:.2f} ({battery_storage_capacity / 1000:.2f} kWh battery, \"\n",
    "      f\"{battery_price_2030:.2f} $/kWh)\")\n",
    "\n",
    "# https://www.spglobal.com/commodityinsights/en/our-methodology/price-assessments/chemicals/us-recycled-hdpe\n",
    "rhdpe_price = .78 * 2.20462 # $/kg (converted from $/lb; retrieved on 11 Apr 2024)\n",
    "tank_weight_kg = hdpe_kg_per_m2_csp * m2_csp\n",
    "lfv_co2_m3_per_cycle = liter_co2_per_cycle_per_m2_5400m * m2_csp / 1000\n",
    "tank_cost = tank_weight_kg * rhdpe_price\n",
    "print(f\"Tank cost in 2030: ${tank_cost:.2f} ({tank_weight_kg:.2f} kg of HDPE to store \"\n",
    "      f\"{lfv_co2_m3_per_cycle:.2f} m³ of CO2)\")\n",
    "\n",
    "payload_and_electric_cost = csp_cost_2030 + pv_cost_2030 + battery_cost_2030 + tank_cost\n",
    "lfv_cost = balloon_and_flight_systems_cost + payload_and_electric_cost\n",
    "print(f\"Payload & electrical cost in 2030: ${payload_and_electric_cost:.2f}; LFV cost estimated to be \"\n",
    "      f\"${lfv_cost:.2f}\")\n",
    "balloon_lifetime = 5 # years\n",
    "payload_and_electric_lifetime = 20\n",
    "\n",
    "fv_lifetime_values = np.array([balloon_lifetime, payload_and_electric_lifetime])\n",
    "fv_lifetime_weights = np.array([balloon_and_flight_systems_cost, payload_and_electric_cost])\n",
    "\n",
    "lfv_lifetime = np.average(fv_lifetime_values, weights=fv_lifetime_weights)\n",
    "lfv_cost_per_ton_co2 = lfv_cost / (annual_fv_co2_capture * lfv_lifetime)\n",
    "print(f\"Loitering flight vehicle cost per ton-CO2 captured: ${lfv_cost_per_ton_co2:.2f} (blended LFV \"\n",
    "      f\"lifetime: {lfv_lifetime:.2f} years).\")\n",
    "costs[\"capex\"][\"aero\"][\"loitering_flight_vehicle\"] = lfv_cost_per_ton_co2\n"
   ],
   "metadata": {
    "collapsed": false,
    "ExecuteTime": {
     "end_time": "2024-04-19T12:09:28.122435Z",
     "start_time": "2024-04-19T12:09:28.117956Z"
    }
   },
   "id": "394b7138de3df21a",
   "outputs": [
    {
     "name": "stdout",
     "output_type": "stream",
     "text": [
      "CSP cost in 2030: $5705.44 (37.54 m² of CSP panels, 152.00 $/m²)\n",
      "PV panel cost in 2030: $378.18 (4.13 m² of PV panels, 91.60 $/m²)\n",
      "Battery cost in 2030: $404.10 (5.05 kWh battery, 80.00 $/kWh)\n",
      "Tank cost in 2030: $301.54 (175.35 kg of HDPE to store 6.56 m³ of CO2)\n",
      "Payload & electrical cost in 2030: $6789.25; LFV cost estimated to be $31036.20\n",
      "Loitering flight vehicle cost per ton-CO2 captured: $32.74 (blended LFV lifetime: 8.28 years).\n"
     ]
    }
   ],
   "execution_count": 833
  },
  {
   "cell_type": "markdown",
   "source": [
    "#### Estimate subsea storage, sea surface costs"
   ],
   "metadata": {
    "collapsed": false
   },
   "id": "b18e4cbdf783a72f"
  },
  {
   "cell_type": "code",
   "source": [
    "scus_cost_2021 = 20.0 # ocean (ship) https://www.sciencedirect.com/science/article/pii/S2772970223000032\n",
    "scus_cost_2030 = forecast_improvement(scus_cost_2021, storage_ir, 2021)\n",
    "\n",
    "# conservatively assumed to be capex so assoc. mtc, labor are included but may be opex\n",
    "costs[\"capex\"][\"aero\"][\"storage\"] = scus_cost_2030\n",
    "print(f\"Subsea carbon storage (SCUS) cost in 2030: ${scus_cost_2030:.2f}.\")\n",
    "\n",
    "paper_electricity_price = 0.06 # $/kWh, pg. 11 from McQueen et al 2020 supplement\n",
    "compression_energy_req_per_ton = costs[\"opex\"][\"2018\"][\"compression\"] / paper_electricity_price * 1000 # Wh\n",
    "\n",
    "surface_daily_irradiance = avg_irradiance * (q_learned_dni_at_sea_level / q_learned_dni_at_5400m)\n",
    "est_surface_pv_efficiency = model.predict(np.array([[surface_daily_irradiance]]))[0] + pv_improvement_shift\n",
    "altitude_pv_improvement = pv_eff_2030 - est_pv_efficiency\n",
    "sfc_pv_eff_2030 = est_surface_pv_efficiency + altitude_pv_improvement\n",
    "daily_sfc_harvest_per_m2_pv = surface_daily_irradiance * sfc_pv_eff_2030 * 24\n",
    "print(f\"Daily irradiance at sea level: {surface_daily_irradiance:.2f} W/m²; each m² of PV \"\n",
    "      f\"generates {daily_sfc_harvest_per_m2_pv / 1000:.2f} kWh/day ({sfc_pv_eff_2030:.2%} efficiency).\")\n",
    "\n",
    "daily_co2_capture_per_lfv = annual_fv_co2_capture / annual_operating_days # tons/day\n",
    "daily_compression_energy_req_per_lfv = daily_co2_capture_per_lfv * compression_energy_req_per_ton\n",
    "sfc_compression_panel_area = daily_compression_energy_req_per_lfv / daily_sfc_harvest_per_m2_pv\n",
    "print(f\"Each airship requires {daily_compression_energy_req_per_lfv / 1000:.2f} kWh to compress \"\n",
    "      f\"{daily_co2_capture_per_lfv:.2f} tons co2/day: needs {sfc_compression_panel_area:.2f}m² of PV \"\n",
    "      f\"panels to meet demand.\")\n",
    "\n",
    "sfc_pv_panel_cost = pv_panel_price_per_m2_2030 * sfc_compression_panel_area\n",
    "sfc_pv_panel_lifetime = 20 # years\n",
    "sfc_pv_panel_cost_per_ton_co2 = sfc_pv_panel_cost / annual_fv_co2_capture / sfc_pv_panel_lifetime\n",
    "costs[\"capex\"][\"aero\"][\"compression_pv\"] = sfc_pv_panel_cost_per_ton_co2\n",
    "print(f\"Sea surface PV panel cost in 2030: ${sfc_pv_panel_cost:.2f}; cost per ton-CO2 captured: \"\n",
    "      f\"${sfc_pv_panel_cost_per_ton_co2:.2f}.\")\n"
   ],
   "metadata": {
    "collapsed": false,
    "ExecuteTime": {
     "end_time": "2024-04-19T12:09:28.130038Z",
     "start_time": "2024-04-19T12:09:28.125008Z"
    }
   },
   "id": "274ee1b34122cd63",
   "outputs": [
    {
     "name": "stdout",
     "output_type": "stream",
     "text": [
      "Subsea carbon storage (SCUS) cost in 2030: $17.72.\n",
      "Daily irradiance at sea level: 403.24 W/m²; each m² of PV generates 2.36 kWh/day (24.35% efficiency).\n",
      "Each airship requires 38.33 kWh to compress 0.35 tons co2/day: needs 16.26m² of PV panels to meet demand.\n",
      "Sea surface PV panel cost in 2030: $1489.86; cost per ton-CO2 captured: $0.65.\n"
     ]
    }
   ],
   "execution_count": 834
  },
  {
   "cell_type": "code",
   "source": [
    "# https://www.iea.org/policies/16255-inflation-reduction-act-2022-sec-13104-extension-and-modification-of-credit-for-carbon-oxide-sequestration\n",
    "federal_45q_store_credit = 180 * .95 # $/ton-CO2\n",
    "costs[\"net\"][\"aero\"] = federal_45q_store_credit\n",
    "aero_gross_cost_target = federal_45q_store_credit * (1 - paper_embodied_material_emissions)\n",
    "print(f\"45Q credit (storage) is ${federal_45q_store_credit}/t-CO2; accounting for intractable \"\n",
    "      f\"process emissions ({paper_embodied_material_emissions:.2f} t-CO2 footprint/t-CO2 capture), \"\n",
    "      f\"Aerology's gross cost target is ${aero_gross_cost_target:.2f}.\")\n",
    "\n",
    "# gross cost = capex + opex = capex + mtc opex + labor opex = capex + (mtc frac * capex) + (labor frac * capex)\n",
    "# gross cost = capex * (1 + mtc frac + labor frac)... capex = gross cost / (1 + mtc frac + labor frac)\n",
    "aero_capex = aero_gross_cost_target / (1 + mtc_fraction + labor_fraction)\n",
    "aero_mtc_opex = mtc_fraction * aero_capex\n",
    "costs[\"opex\"][\"aero\"][\"maintenance\"] = aero_mtc_opex\n",
    "aero_labor_opex = labor_fraction * aero_capex\n",
    "costs[\"opex\"][\"aero\"][\"labor\"] = aero_labor_opex\n",
    "print(f\"Aerology maintenance opex: ${aero_mtc_opex:.2f}; labor opex: ${aero_labor_opex:.2f}.\")\n",
    "\n",
    "aero_cost_ex_transport = sum(costs[\"capex\"][\"aero\"].values()) + sum(costs[\"opex\"][\"aero\"].values())\n",
    "print(f\"Aerology gross cost excluding transport: ${aero_cost_ex_transport:.2f}.\")\n",
    "\n",
    "# transpo may be airship-to-sea surface, sea surface-to-subsea storage \"gate\" OR airship direct to SCUS\n",
    "transport_budget_per_ton = aero_gross_cost_target - aero_cost_ex_transport \n",
    "costs[\"capex\"][\"aero\"][\"transport\"] = transport_budget_per_ton\n",
    "transport_lifetime = 20 # years\n",
    "transport_budget = transport_lifetime * annual_fv_co2_capture * transport_budget_per_ton\n",
    "print(f\"Allows for ${transport_budget_per_ton:.2f}/ton transport costs (LFV to storage loc): assuming \"\n",
    "      f\"{transport_lifetime} year lifetime for transport assets, equals upfront transport investment \"\n",
    "      f\"of ${transport_budget:.2f}.\")\n"
   ],
   "metadata": {
    "collapsed": false,
    "ExecuteTime": {
     "end_time": "2024-04-19T12:09:28.230893Z",
     "start_time": "2024-04-19T12:09:28.226701Z"
    }
   },
   "id": "165f0b18ab4a7be8",
   "outputs": [
    {
     "name": "stdout",
     "output_type": "stream",
     "text": [
      "45Q credit (storage) is $171.0/t-CO2; accounting for intractable process emissions (0.06 t-CO2 footprint/t-CO2 capture), Aerology's gross cost target is $160.07.\n",
      "Aerology maintenance opex: $23.21; labor opex: $7.04.\n",
      "Aerology gross cost excluding transport: $132.97.\n",
      "Allows for $27.11/ton transport costs (LFV to storage loc): assuming 20 year lifetime for transport assets, equals upfront transport investment of $62062.50.\n"
     ]
    }
   ],
   "execution_count": 835
  },
  {
   "cell_type": "code",
   "source": [
    "def plot_cost_breakdown(cost_type, scenario_labels, scenarios, categories, costs_dict):\n",
    "    summed_costs = {\n",
    "        year: {\n",
    "            category: costs_dict[cost_type][year].get(category, 0) \n",
    "            for category in categories\n",
    "        } \n",
    "        for year in scenarios\n",
    "    }\n",
    "\n",
    "    fig, ax = plt.subplots()\n",
    "    bottoms = [0, 0, 0]\n",
    "\n",
    "    for i, category in enumerate(categories):\n",
    "        values = [summed_costs[year][category] for year in scenarios]\n",
    "        # Determine the bottom positions for the stacked bars\n",
    "        if i == 0:\n",
    "            bottoms = [0] * len(values)\n",
    "        else:\n",
    "            previous_category = categories[i - 1]\n",
    "            bottoms = [bottoms[j] + summed_costs[year][previous_category] for j, year in enumerate(scenarios)]\n",
    "\n",
    "        bars = ax.bar(scenario_labels, values, bar_width, bottom=bottoms, label=category)\n",
    "        \n",
    "        if category == 'loitering_flight_vehicle':\n",
    "            for bar, value in zip(bars, values):\n",
    "                height = bar.get_height()\n",
    "                if height > 0:  # Only label bars with a non-zero height\n",
    "                    label_position_y = bar.get_y() + height / 2\n",
    "                    ax.text(bar.get_x() + bar.get_width() / 2, label_position_y, f'{value:.2f}', \n",
    "                    ha='center', va='center', color='white')\n",
    "\n",
    "    # After plotting all components, add the total data labels\n",
    "    for i, scenario in enumerate(scenarios):\n",
    "        total_cost = sum([summed_costs[scenario][category] for category in categories])\n",
    "        ax.text(i, total_cost, f\"${total_cost:.2f}\", ha='center', va='bottom')\n",
    "\n",
    "    ax.set_xlabel('Scenario')\n",
    "    ax.set_ylabel(f'{cost_type.upper()} ($/ton CO2/yr)')\n",
    "    ax.set_title(f'{cost_type.upper()} Breakdown by Scenario')\n",
    "    ax.set_ylim(0, 160)\n",
    "    ax.legend(loc='upper center', bbox_to_anchor=(0.5, -0.15), ncol=4, fancybox=True)\n",
    "\n",
    "    plt.show()\n",
    "    \n",
    "capex_categories = ['contactor', 'fan', 'vacuum_pump', 'heat_exchanger', 'compression', 'trucking',\n",
    "                    'loitering_flight_vehicle', 'storage', 'compression_pv', 'transport']\n",
    "\n",
    "bar_width = 0.35\n",
    "scenario_names = ['2018_base', '2030_base', 'aero']\n",
    "scenario_values = ['2018', '2030', 'aero']\n",
    "\n",
    "plot_cost_breakdown('capex', scenario_names, scenario_values, capex_categories, costs)\n"
   ],
   "metadata": {
    "collapsed": false,
    "ExecuteTime": {
     "end_time": "2024-04-19T12:09:28.449262Z",
     "start_time": "2024-04-19T12:09:28.319941Z"
    }
   },
   "id": "4dff76ca4028671d",
   "outputs": [
    {
     "data": {
      "text/plain": [
       "<Figure size 640x480 with 1 Axes>"
      ],
      "image/png": "[encoded data removed]"
     },
     "metadata": {},
     "output_type": "display_data"
    }
   ],
   "execution_count": 836
  },
  {
   "cell_type": "code",
   "source": [
    "opex_categories = ['steam', 'compression', 'fan', 'vacuum_pump', 'maintenance', 'labor', 'storage']\n",
    "\n",
    "plot_cost_breakdown('opex', scenario_names, scenario_values, opex_categories, costs)"
   ],
   "metadata": {
    "collapsed": false,
    "ExecuteTime": {
     "end_time": "2024-04-19T12:09:28.565450Z",
     "start_time": "2024-04-19T12:09:28.451385Z"
    }
   },
   "id": "78842a4259db8b97",
   "outputs": [
    {
     "data": {
      "text/plain": [
       "<Figure size 640x480 with 1 Axes>"
      ],
      "image/png": "[encoded data removed]"
     },
     "metadata": {},
     "output_type": "display_data"
    }
   ],
   "execution_count": 837
  },
  {
   "cell_type": "code",
   "source": [
    "capex_2018 = sum(costs['capex']['2018'].values())\n",
    "capex_2030 = sum(costs['capex']['2030'].values())\n",
    "capex_aero = sum(costs['capex']['aero'].values())\n",
    "\n",
    "opex_2018 = sum(costs['opex']['2018'].values())\n",
    "opex_2030 = sum(costs['opex']['2030'].values())\n",
    "opex_aero = sum(costs['opex']['aero'].values())\n",
    "\n",
    "# Process emissions cost for each scenario\n",
    "process_emissions_2018 = base_net_cost_2018 - total_base_cost_2018\n",
    "process_emissions_2030 = base_net_cost_2030 - total_base_cost_2030\n",
    "process_emissions_aero = costs[\"net\"][\"aero\"] - aero_gross_cost_target\n",
    "\n",
    "capex_values = [capex_2018, capex_2030, capex_aero]\n",
    "opex_values = [opex_2018, opex_2030, opex_aero]\n",
    "emissions_values = [process_emissions_2018, process_emissions_2030, process_emissions_aero]\n",
    "\n",
    "net_fig, net_ax = plt.subplots()\n",
    "\n",
    "net_ax.bar(scenario_names, capex_values, bar_width, label='CAPEX')\n",
    "net_ax.bar(scenario_names, opex_values, bar_width, bottom=capex_values, label='OPEX')\n",
    "emissions_bottom = [capex + opex for capex, opex in zip(capex_values, opex_values)]\n",
    "net_bars = net_ax.bar(scenario_names, emissions_values, bar_width,\n",
    "                      bottom=emissions_bottom, label='Process Emissions Cost')\n",
    "\n",
    "# Add total data labels for each scenario\n",
    "for s in range(len(scenario_names)):\n",
    "    total = capex_values[s] + opex_values[s] + emissions_values[s]\n",
    "    net_ax.text(s, total, f'{total:.2f}', ha='center', va='bottom')\n",
    "\n",
    "# Adding labels and title\n",
    "net_ax.set_xlabel('Scenario')\n",
    "net_ax.set_ylabel('Costs ($/ton CO2/yr)')\n",
    "net_ax.set_title('Cost Breakdown by Scenario')\n",
    "net_ax.legend()\n",
    "\n",
    "plt.show()"
   ],
   "metadata": {
    "collapsed": false,
    "ExecuteTime": {
     "end_time": "2024-04-19T12:09:28.674222Z",
     "start_time": "2024-04-19T12:09:28.566858Z"
    }
   },
   "id": "c1dc5f64d35631be",
   "outputs": [
    {
     "data": {
      "text/plain": [
       "<Figure size 640x480 with 1 Axes>"
      ],
      "image/png": "[encoded data removed]"
     },
     "metadata": {},
     "output_type": "display_data"
    }
   ],
   "execution_count": 838
  },
  {
   "cell_type": "markdown",
   "source": [
    "## Just scratch pad for communications"
   ],
   "metadata": {
    "collapsed": false
   },
   "id": "802650ade1802cc9"
  },
  {
   "cell_type": "code",
   "source": [
    "costs"
   ],
   "metadata": {
    "collapsed": false,
    "ExecuteTime": {
     "end_time": "2024-04-19T12:09:28.682924Z",
     "start_time": "2024-04-19T12:09:28.677637Z"
    }
   },
   "id": "e3c78149177878f2",
   "outputs": [
    {
     "data": {
      "text/plain": [
       "{'capex': {'2018': {'contactor': 111.48,\n",
       "   'fan': 6.48,\n",
       "   'vacuum_pump': 5.07,\n",
       "   'heat_exchanger': 1.97,\n",
       "   'compression': 6.0,\n",
       "   'trucking': 3.0},\n",
       "  '2030': {'contactor': 43.62985545245635,\n",
       "   'fan': 6.48,\n",
       "   'vacuum_pump': 5.07,\n",
       "   'heat_exchanger': 1.97,\n",
       "   'compression': 6.0,\n",
       "   'trucking': 3.0},\n",
       "  'aero': {'contactor': 43.62985545245635,\n",
       "   'heat_exchanger': 1.97,\n",
       "   'compression': 6.0,\n",
       "   'loitering_flight_vehicle': 32.73726942257595,\n",
       "   'storage': 17.723665247674223,\n",
       "   'compression_pv': 0.6507094637318885,\n",
       "   'transport': 27.10636689013367}},\n",
       " 'opex': {'2018': {'fan': 16.26,\n",
       "   'vacuum_pump': 12.2,\n",
       "   'compression': 6.63,\n",
       "   'maintenance': 23.96,\n",
       "   'labor': 7.27,\n",
       "   'steam': 22.68,\n",
       "   'storage': 11.0},\n",
       "  '2030': {'fan': 16.26,\n",
       "   'vacuum_pump': 12.2,\n",
       "   'compression': 6.63,\n",
       "   'maintenance': 11.827989079409356,\n",
       "   'labor': 3.5888764861146085,\n",
       "   'steam': 9.86,\n",
       "   'storage': 8.755289054652255},\n",
       "  'aero': {'maintenance': 23.21220955804975, 'labor': 7.0431036513782}},\n",
       " 'net': {'2018': 668.5714285714287, '2030': 226.59547243909452, 'aero': 171.0}}"
      ]
     },
     "execution_count": 839,
     "metadata": {},
     "output_type": "execute_result"
    }
   ],
   "execution_count": 839
  },
  {
   "cell_type": "code",
   "source": [
    "aero_electric_req_per_ton = total_electric_energy_req / daily_co2_capture_per_lfv # Wh/ton\n",
    "\n",
    "nas_best_tot_energy_req = 1.93 # GJ/ton-co2\n",
    "nas_best_thermal_energy_req = 1.85\n",
    "nas_best_electric_energy_req = nas_best_tot_energy_req - nas_best_thermal_energy_req\n",
    "\n",
    "nas_good_tot_energy_req = 3.95\n",
    "nas_good_thermal_energy_req = 3.4\n",
    "nas_good_electric_energy_req = nas_good_tot_energy_req - nas_good_thermal_energy_req\n",
    "\n",
    "# convert # Wh/ton to GJ/ton\n",
    "aero_electrical_req = aero_electric_req_per_ton * 3600 * 1e-9\n",
    "print(f\"Aerology's LFV requires {aero_electrical_req:.3f} GJ electrical energy/t-CO2: \"\n",
    "      f\"{aero_electrical_req / nas_best_electric_energy_req - 1:.2%} vs best-case NAS (\"\n",
    "      f\"{nas_best_electric_energy_req:.3f}), {aero_electrical_req / nas_good_electric_energy_req - 1:.2%} \"\n",
    "      f\"vs good-case NAS ({nas_good_electric_energy_req:.3f}).\")\n"
   ],
   "metadata": {
    "collapsed": false,
    "ExecuteTime": {
     "end_time": "2024-04-19T12:09:28.687192Z",
     "start_time": "2024-04-19T12:09:28.684064Z"
    }
   },
   "id": "3b2fe8b766c918dc",
   "outputs": [
    {
     "name": "stdout",
     "output_type": "stream",
     "text": [
      "Aerology's LFV requires 0.123 GJ electrical energy/t-CO2: 53.77% vs best-case NAS (0.080), -77.63% vs good-case NAS (0.550).\n"
     ]
    }
   ],
   "execution_count": 840
  },
  {
   "cell_type": "code",
   "source": [
    "# Mostafa et al 2022 https://www.sciencedirect.com/science/article/pii/S2772656822000318\n",
    "plant_lifetime = 25 # years\n",
    "nr_contactors = 44\n",
    "lifetime_gross_capture = 6300000 # tons\n",
    "lifetime_net_capture = 3500000\n",
    "\n",
    "ann_gross_capture_per_contactor = lifetime_gross_capture / nr_contactors / plant_lifetime\n",
    "ann_net_capture_per_contactor = lifetime_net_capture / nr_contactors / plant_lifetime\n",
    "print(f\"Per Mostafa et al 2022, each of 44 contactors captures {ann_gross_capture_per_contactor:.2f} \"\n",
    "      f\"tons CO2/yr gross, {ann_net_capture_per_contactor:.2f} tons CO2/yr net.\")"
   ],
   "metadata": {
    "collapsed": false,
    "ExecuteTime": {
     "end_time": "2024-04-19T12:09:28.691112Z",
     "start_time": "2024-04-19T12:09:28.688298Z"
    }
   },
   "id": "2d779f108bf438be",
   "outputs": [
    {
     "name": "stdout",
     "output_type": "stream",
     "text": [
      "Per Mostafa et al 2022, each of 44 contactors captures 5727.27 tons CO2/yr gross, 3181.82 tons CO2/yr net.\n"
     ]
    }
   ],
   "execution_count": 841
  },
  {
   "metadata": {
    "ExecuteTime": {
     "end_time": "2024-04-19T12:09:28.696422Z",
     "start_time": "2024-04-19T12:09:28.692730Z"
    }
   },
   "cell_type": "code",
   "source": [
    "partial_compressed_liters = ((stp_liter_co2_per_cycle_per_m2 * (slp / 1000) / (1700000 / 1000)) *\n",
    "                                (temp_at_5400m / 273.15))\n",
    "partial_compressed_liters * m2_csp # * (average_daylight / cycle_time)\n",
    "# q_learned_dni_at_sea_level / 1000 * 24"
   ],
   "id": "880e179aa0f76858",
   "outputs": [
    {
     "data": {
      "text/plain": [
       "197.60898163648113"
      ]
     },
     "execution_count": 842,
     "metadata": {},
     "output_type": "execute_result"
    }
   ],
   "execution_count": 842
  },
  {
   "metadata": {
    "ExecuteTime": {
     "end_time": "2024-04-19T12:09:28.710686Z",
     "start_time": "2024-04-19T12:09:28.705339Z"
    }
   },
   "cell_type": "code",
   "source": [
    "dimartino_2030_ir = 401.219512195 \n",
    "dimartino_2030_lr = 459.57446809\n",
    "\n",
    "dimartino_2030_ir / dimartino_2030_lr - 1"
   ],
   "id": "3a29e035414c1581",
   "outputs": [
    {
     "data": {
      "text/plain": [
       "-0.12697606143684237"
      ]
     },
     "execution_count": 843,
     "metadata": {},
     "output_type": "execute_result"
    }
   ],
   "execution_count": 843
  },
  {
   "metadata": {
    "ExecuteTime": {
     "end_time": "2024-04-19T12:09:28.715356Z",
     "start_time": "2024-04-19T12:09:28.711704Z"
    }
   },
   "cell_type": "code",
   "source": [
    "dimartino_2030_ir_contactor = 273.17073171\n",
    "dimartino_2024_contactor = forecast_improvement(dimartino_2030_ir_contactor, adsorption_ir_mean, 2024, \"increase\")\n",
    "\n",
    "donohue_2030_ir_contactor = forecast_improvement(dimartino_2024_contactor, adsorption_ir, 2024)\n",
    "donohue_2030_ir = dimartino_2030_ir + (donohue_2030_ir_contactor - dimartino_2030_ir_contactor)\n",
    "donohue_2030_ir / dimartino_2030_lr - 1"
   ],
   "id": "1c7c9653e96e2bea",
   "outputs": [
    {
     "data": {
      "text/plain": [
       "0.002038380722156674"
      ]
     },
     "execution_count": 844,
     "metadata": {},
     "output_type": "execute_result"
    }
   ],
   "execution_count": 844
  },
  {
   "metadata": {
    "ExecuteTime": {
     "end_time": "2024-04-19T12:09:28.723133Z",
     "start_time": "2024-04-19T12:09:28.718434Z"
    }
   },
   "cell_type": "code",
   "source": [
    "natick_electric_power = 240 # kW\n",
    "natick_daily_electrical_requirement = natick_electric_power * 24\n",
    "natick_servers = 864\n",
    "natick_racks = 12\n",
    "natick_electric_req_per_server = natick_daily_electrical_requirement / natick_servers\n",
    "print(natick_electric_req_per_server)\n",
    "\n",
    "raptor_panel_area = 68.25\n",
    "raptor_lift_capacity = 1875\n",
    "cloud_panel_area = raptor_panel_area * (mass_lifted / raptor_lift_capacity)\n",
    "print(cloud_panel_area)\n",
    "cloud_daily_electrical_gen = (avg_irradiance / 1000) * pv_eff_2030 * 24 * cloud_panel_area\n",
    "print(cloud_daily_electrical_gen)\n",
    "\n",
    "supported_servers = cloud_daily_electrical_gen / natick_electric_req_per_server\n",
    "supported_servers"
   ],
   "id": "9c748c4ba5cd9bb5",
   "outputs": [
    {
     "name": "stdout",
     "output_type": "stream",
     "text": [
      "6.666666666666667\n",
      "64.76786932191087\n",
      "185.97804313312017\n"
     ]
    },
    {
     "data": {
      "text/plain": [
       "27.896706469968024"
      ]
     },
     "execution_count": 845,
     "metadata": {},
     "output_type": "execute_result"
    }
   ],
   "execution_count": 845
  },
  {
   "metadata": {
    "ExecuteTime": {
     "end_time": "2024-04-19T12:09:28.728264Z",
     "start_time": "2024-04-19T12:09:28.724127Z"
    }
   },
   "cell_type": "code",
   "source": [
    "# Define the variables\n",
    "power_kW = 240  # Power in kilowatts\n",
    "cost_per_kWh = 0.081  # Cost in dollars per kWh\n",
    "hours_per_year = 8760  # Number of hours in a year\n",
    "years = 8  # Number of years\n",
    "\n",
    "# Calculate the energy consumption per year in kWh\n",
    "energy_per_server_per_year = power_kW * hours_per_year / natick_servers\n",
    "print(f\"Each server in the Natick data center consumes {energy_per_server_per_year:.2f} kWh per year.\")\n",
    "\n",
    "server_8y_energy = energy_per_server_per_year * years \n",
    "print(f\"Each server in the Natick data center consumes {server_8y_energy:.2f} kWh over 8 years.\")\n",
    "server_8y_electric_cost = server_8y_energy * cost_per_kWh\n",
    "print(f\"Each server in the Natick data center costs ${server_8y_electric_cost:.2f} in electricity over 8 years.\")\n",
    "\n",
    "server_8y_electric_cost * (natick_servers / natick_racks / 4)\n"
   ],
   "id": "8cf2164d64623cc1",
   "outputs": [
    {
     "name": "stdout",
     "output_type": "stream",
     "text": [
      "Each server in the Natick data center consumes 2433.33 kWh per year.\n",
      "Each server in the Natick data center consumes 19466.67 kWh over 8 years.\n",
      "Each server in the Natick data center costs $1576.80 in electricity over 8 years.\n"
     ]
    },
    {
     "data": {
      "text/plain": [
       "28382.4"
      ]
     },
     "execution_count": 846,
     "metadata": {},
     "output_type": "execute_result"
    }
   ],
   "execution_count": 846
  },
  {
   "metadata": {
    "ExecuteTime": {
     "end_time": "2024-04-19T13:35:23.395981Z",
     "start_time": "2024-04-19T13:35:23.383954Z"
    }
   },
   "cell_type": "code",
   "source": [
    "nr_vehicles = 70_000\n",
    "annual_fleet_capture = nr_vehicles * annual_fv_co2_capture\n",
    "annual_storage_budget = annual_fleet_capture * scus_cost_2030\n",
    "print(annual_storage_budget * 20)\n",
    "discount_rate = 0.07\n",
    "well_lifespan = 20\n",
    "\n",
    "npv = 0\n",
    "for yr in range(1, well_lifespan + 1):\n",
    "    pv = annual_storage_budget / ((1 + discount_rate) ** yr)\n",
    "    print(f\"Year {yr} Present Value: ${pv:,.2f}\")\n",
    "    npv += pv\n",
    "print(f\"NPV of 20 years' SCUS spend equal to ${npv:,.2f}\")\n",
    "\n",
    "well_and_platform_cost_2023 = 51_042_888.55\n",
    "well_and_platform_cost_2030 = forecast_improvement(well_and_platform_cost_2023, .0234 - storage_ir, 2023, \"increase\")\n",
    "print(f\"Injection well and platform forecast to cost ${well_and_platform_cost_2030:,.2f} in 2030\")\n",
    "\n",
    "print(f\"Supports investment in {npv / well_and_platform_cost_2030:.2f} wells and platforms.\")\n"
   ],
   "id": "5fd1fc344c3cde48",
   "outputs": [
    {
     "name": "stdout",
     "output_type": "stream",
     "text": [
      "2840596562.801394\n",
      "Year 1 Present Value: $132,738,157.14\n",
      "Year 2 Present Value: $124,054,352.47\n",
      "Year 3 Present Value: $115,938,647.17\n",
      "Year 4 Present Value: $108,353,875.86\n",
      "Year 5 Present Value: $101,265,304.54\n",
      "Year 6 Present Value: $94,640,471.53\n",
      "Year 7 Present Value: $88,449,038.81\n",
      "Year 8 Present Value: $82,662,653.10\n",
      "Year 9 Present Value: $77,254,815.98\n",
      "Year 10 Present Value: $72,200,762.60\n",
      "Year 11 Present Value: $67,477,348.22\n",
      "Year 12 Present Value: $63,062,942.26\n",
      "Year 13 Present Value: $58,937,329.22\n",
      "Year 14 Present Value: $55,081,616.09\n",
      "Year 15 Present Value: $51,478,145.88\n",
      "Year 16 Present Value: $48,110,416.71\n",
      "Year 17 Present Value: $44,963,006.27\n",
      "Year 18 Present Value: $42,021,501.19\n",
      "Year 19 Present Value: $39,272,431.02\n",
      "Year 20 Present Value: $36,703,206.56\n",
      "NPV of 20 years' SCUS spend equal to $1,504,666,022.60\n",
      "Injection well and platform forecast to cost $54,749,163.91 in 2030\n",
      "Supports investment in 27.48 wells and platforms.\n"
     ]
    }
   ],
   "execution_count": 870
  },
  {
   "metadata": {
    "ExecuteTime": {
     "end_time": "2024-04-19T12:09:28.819131Z",
     "start_time": "2024-04-19T12:09:28.816598Z"
    }
   },
   "cell_type": "code",
   "source": "print(f\"${annual_fv_co2_capture * 70_000 * scus_cost_2030 * 20:,.2f}\")\n",
   "id": "8ffee222e4ec58e8",
   "outputs": [
    {
     "name": "stdout",
     "output_type": "stream",
     "text": [
      "$2,840,596,562.80\n"
     ]
    }
   ],
   "execution_count": 848
  },
  {
   "metadata": {
    "ExecuteTime": {
     "end_time": "2024-04-19T12:09:28.866652Z",
     "start_time": "2024-04-19T12:09:28.863404Z"
    }
   },
   "cell_type": "code",
   "source": [
    "# Constants\n",
    "speed_m_per_s = 13  # Speed in meters per second\n",
    "time_per_day_minutes = 789  # Operational time per day in minutes\n",
    "days = 330  # Total number of operational days\n",
    "energy_consumption_J_per_m = 68.78  # Energy consumption in Joules per meter\n",
    "octo_payload = 8.1 # kg\n",
    "\n",
    "# Convert time from minutes to seconds\n",
    "time_per_day_seconds = time_per_day_minutes * 60\n",
    "\n",
    "# Calculate the total distance traveled per day in meters\n",
    "distance_per_day_m = speed_m_per_s * time_per_day_seconds\n",
    "\n",
    "# Calculate the total energy consumed per day in joules\n",
    "energy_per_day_joules = distance_per_day_m * energy_consumption_J_per_m\n",
    "\n",
    "# Calculate the total energy consumed over the period in joules\n",
    "total_energy_joules = energy_per_day_joules * days\n",
    "\n",
    "# Convert the total energy consumption from joules to gigajoules\n",
    "total_energy_gj = total_energy_joules / 1e9\n",
    "print(total_energy_gj)\n",
    "\n",
    "octo_co2_productivity = octo_payload / sorbent_efficiency_2030\n",
    "print(octo_co2_productivity)\n",
    "\n",
    "total_energy_gj / octo_co2_productivity\n"
   ],
   "id": "e8f531e91a90aa0f",
   "outputs": [
    {
     "name": "stdout",
     "output_type": "stream",
     "text": [
      "13.968433908\n",
      "2.1826477139589033\n"
     ]
    },
    {
     "data": {
      "text/plain": [
       "6.3997656693136"
      ]
     },
     "execution_count": 849,
     "metadata": {},
     "output_type": "execute_result"
    }
   ],
   "execution_count": 849
  },
  {
   "metadata": {
    "ExecuteTime": {
     "end_time": "2024-04-19T13:41:03.002312Z",
     "start_time": "2024-04-19T13:41:02.992296Z"
    }
   },
   "cell_type": "code",
   "source": [
    "inter_platform_drone_cost_per_ton = (1279 * 3 * 10) / (annual_fv_co2_capture * 20)\n",
    "sea_surface_transport_budget_per_ton = transport_budget_per_ton - inter_platform_drone_cost_per_ton\n",
    "print(inter_platform_drone_cost_per_ton, sea_surface_transport_budget_per_ton)\n",
    "\n",
    "airships_per_float = 75\n",
    "annual_float_capture = airships_per_float * annual_fv_co2_capture\n",
    "print(annual_float_capture)\n",
    "annual_float_budget = annual_float_capture * sea_surface_transport_budget_per_ton\n",
    "float_lifespan = 20\n",
    "print(annual_float_budget, annual_float_budget * float_lifespan)\n",
    "\n",
    "npv = 0\n",
    "for yr in range(1, float_lifespan + 1):\n",
    "    pv = annual_float_budget / ((1 + discount_rate) ** yr)\n",
    "    print(f\"Year {yr} Present Value: ${pv:,.2f}\")\n",
    "    npv += pv\n",
    "print(f\"NPV of 20 years' sea surface transport spend for {airships_per_float} airships equal to ${npv:,.2f}\")\n",
    "\n",
    "# https://www.ocean-energy-systems.org/oes-projects/levelised-cost-of-energy-assessment-for-wave-tidal-and-otec-at-an-international-level/\n",
    "wave_capex = 6000 # $/kW\n",
    "\n",
    "daily_compression_kwh_req_per_float = daily_compression_energy_req_per_lfv * airships_per_float / 1000\n",
    "print(daily_compression_kwh_req_per_float)\n",
    "compression_kw_req_per_float = daily_compression_kwh_req_per_float / 24\n",
    "print(compression_kw_req_per_float)\n",
    "\n",
    "float_capex = wave_capex * compression_kw_req_per_float\n",
    "print(f\"Floating platform CapEx estimated at ${float_capex:,.2f}.\")\n",
    "\n",
    "npv - float_capex\n"
   ],
   "id": "4cfac405ac38f080",
   "outputs": [
    {
     "name": "stdout",
     "output_type": "stream",
     "text": [
      "16.758448951223535 10.347917938910136\n",
      "8585.967616620916\n",
      "88846.88832293308 1776937.7664586618\n",
      "Year 1 Present Value: $83,034.48\n",
      "Year 2 Present Value: $77,602.31\n",
      "Year 3 Present Value: $72,525.53\n",
      "Year 4 Present Value: $67,780.87\n",
      "Year 5 Present Value: $63,346.60\n",
      "Year 6 Present Value: $59,202.43\n",
      "Year 7 Present Value: $55,329.38\n",
      "Year 8 Present Value: $51,709.70\n",
      "Year 9 Present Value: $48,326.82\n",
      "Year 10 Present Value: $45,165.25\n",
      "Year 11 Present Value: $42,210.52\n",
      "Year 12 Present Value: $39,449.08\n",
      "Year 13 Present Value: $36,868.30\n",
      "Year 14 Present Value: $34,456.36\n",
      "Year 15 Present Value: $32,202.20\n",
      "Year 16 Present Value: $30,095.51\n",
      "Year 17 Present Value: $28,126.65\n",
      "Year 18 Present Value: $26,286.59\n",
      "Year 19 Present Value: $24,566.90\n",
      "Year 20 Present Value: $22,959.72\n",
      "NPV of 20 years' sea surface transport spend for 75 airships equal to $941,245.20\n",
      "2874.99824738367\n",
      "119.79159364098625\n",
      "Floating platform CapEx estimated at $718,749.56.\n"
     ]
    },
    {
     "data": {
      "text/plain": [
       "222495.63871701865"
      ]
     },
     "execution_count": 877,
     "metadata": {},
     "output_type": "execute_result"
    }
   ],
   "execution_count": 877
  },
  {
   "metadata": {
    "ExecuteTime": {
     "end_time": "2024-04-19T12:54:14.097962Z",
     "start_time": "2024-04-19T12:54:14.093652Z"
    }
   },
   "cell_type": "code",
   "source": [
    "# Given values\n",
    "npv = 222495.63871701865\n",
    "discount_rate = 0.07\n",
    "years = 20\n",
    "\n",
    "# Calculate the denominator of the NPV formula for an annuity\n",
    "denominator = (1 - (1 + discount_rate) ** -years) / discount_rate\n",
    "\n",
    "# Calculate the annual cash flow\n",
    "annual_cash_flow = npv / denominator\n",
    "\n",
    "# Output the result\n",
    "print(f\"The annual gross cash flow needed to achieve an NPV of {npv} is approximately ${annual_cash_flow:.2f}\")\n",
    "\n",
    "per_ton_capex_margin = annual_cash_flow / annual_float_capture\n",
    "print(per_ton_capex_margin)\n",
    "\n",
    "per_ton_capex_margin + (per_ton_capex_margin * labor_fraction) + (per_ton_capex_margin * mtc_fraction) - per_ton_capex_margin\n"
   ],
   "id": "50ccce0b2811e690",
   "outputs": [
    {
     "name": "stdout",
     "output_type": "stream",
     "text": [
      "The annual gross cash flow needed to achieve an NPV of 222495.63871701865 is approximately $21002.01\n",
      "2.4460858975239548\n"
     ]
    },
    {
     "data": {
      "text/plain": [
       "0.570084049102038"
      ]
     },
     "execution_count": 862,
     "metadata": {},
     "output_type": "execute_result"
    }
   ],
   "execution_count": 862
  },
  {
   "metadata": {
    "ExecuteTime": {
     "end_time": "2024-04-19T14:00:49.074910Z",
     "start_time": "2024-04-19T14:00:49.044791Z"
    }
   },
   "cell_type": "code",
   "source": [
    "print(temp_at_5400m)\n",
    "co2 = Chemical('CO2', T=243.15, P=1.7e+6)  # Temperature in Kelvin, Pressure in Pa\n",
    "density = co2.rho\n",
    "print(f\"Density of liquid CO2 at 1.7 MPa and -30°C: {density:.2f} kg/m³\")"
   ],
   "id": "125970cb132fede3",
   "outputs": [
    {
     "name": "stdout",
     "output_type": "stream",
     "text": [
      "253.04999999999998\n",
      "Density of liquid CO2 at 1.7 MPa and -30°C: 1076.63 kg/m³\n"
     ]
    }
   ],
   "execution_count": 879
  },
  {
   "metadata": {
    "ExecuteTime": {
     "end_time": "2024-04-19T14:00:59.838444Z",
     "start_time": "2024-04-19T14:00:59.829933Z"
    }
   },
   "cell_type": "code",
   "source": [
    "# Calculate the density of CO2 at 1.7 MPa and -30°C\n",
    "density = PropsSI('D', 'P', 1.7e6, 'T', 243.15, 'CO2')  # Pressure (Pa), Temperature (K)\n",
    "print(f\"Density of liquid CO2 at 1.7 MPa and -30°C: {density:.2f} kg/m³\")"
   ],
   "id": "fd488867c59b2dce",
   "outputs": [
    {
     "name": "stdout",
     "output_type": "stream",
     "text": [
      "Density of liquid CO2 at 1.7 MPa and -30°C: 1076.70 kg/m³\n"
     ]
    }
   ],
   "execution_count": 880
  },
  {
   "metadata": {
    "ExecuteTime": {
     "end_time": "2024-04-19T12:09:29.057694Z",
     "start_time": "2024-04-19T12:09:29.055312Z"
    }
   },
   "cell_type": "code",
   "source": "50 / (g_co2_capture_per_min_per_m2_csp * m2_csp / 1000)",
   "id": "682201b19c0eb5f6",
   "outputs": [
    {
     "data": {
      "text/plain": [
       "113.77655624410262"
      ]
     },
     "execution_count": 854,
     "metadata": {},
     "output_type": "execute_result"
    }
   ],
   "execution_count": 854
  },
  {
   "metadata": {
    "ExecuteTime": {
     "end_time": "2024-04-19T13:15:39.223165Z",
     "start_time": "2024-04-19T13:15:39.215423Z"
    }
   },
   "cell_type": "code",
   "source": [
    "g_co2_capture_per_min_per_m2_csp * cycle_time\n",
    "# stp_liter_co2_per_cycle_per_m2"
   ],
   "id": "4ed046163d2e5ffa",
   "outputs": [
    {
     "data": {
      "text/plain": [
       "187.3232227033021"
      ]
     },
     "execution_count": 864,
     "metadata": {},
     "output_type": "execute_result"
    }
   ],
   "execution_count": 864
  },
  {
   "metadata": {
    "ExecuteTime": {
     "end_time": "2024-04-19T14:02:45.070176Z",
     "start_time": "2024-04-19T14:02:45.064851Z"
    }
   },
   "cell_type": "code",
   "source": "annual_fv_co2_capture * 1000 / 365 * 75 / density",
   "id": "535726529f74ff0a",
   "outputs": [
    {
     "data": {
      "text/plain": [
       "21.84741142971131"
      ]
     },
     "execution_count": 882,
     "metadata": {},
     "output_type": "execute_result"
    }
   ],
   "execution_count": 882
  }
 ],
 "metadata": {
  "kernelspec": {
   "display_name": "Python 3",
   "language": "python",
   "name": "python3"
  },
  "language_info": {
   "codemirror_mode": {
    "name": "ipython",
    "version": 2
   },
   "file_extension": ".py",
   "mimetype": "text/x-python",
   "name": "python",
   "nbconvert_exporter": "python",
   "pygments_lexer": "ipython2",
   "version": "2.7.6"
  }
 },
 "nbformat": 4,
 "nbformat_minor": 5
}
