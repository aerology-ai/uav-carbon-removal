{
 "cells": [
  {
   "cell_type": "code",
   "outputs": [],
   "source": [
    "import pandas as pd\n",
    "import numpy as np\n",
    "import matplotlib.pyplot as plt\n",
    "from sklearn.linear_model import LinearRegression"
   ],
   "metadata": {
    "collapsed": false,
    "ExecuteTime": {
     "end_time": "2024-03-23T02:07:21.187089Z",
     "start_time": "2024-03-23T02:07:21.177632Z"
    }
   },
   "id": "370d1f806b21af7d",
   "execution_count": 71
  },
  {
   "cell_type": "code",
   "execution_count": 52,
   "id": "initial_id",
   "metadata": {
    "collapsed": true,
    "ExecuteTime": {
     "end_time": "2024-03-22T01:42:38.667740Z",
     "start_time": "2024-03-22T01:42:38.662618Z"
    }
   },
   "outputs": [],
   "source": [
    "costs = {\n",
    "    \"capex\": {\n",
    "        \"2018\": {\n",
    "            \"contactor\": 111.48,\n",
    "            \"fan\": 6.48,\n",
    "            \"vacuum_pump\": 5.08,\n",
    "            \"heat_exchanger\": 1.97\n",
    "        }\n",
    "    },\n",
    "    \"opex\": {\n",
    "        \"2018\": {\n",
    "            \"fan\": 16.26,\n",
    "            \"vacuum_pump\": 12.19,\n",
    "            \"compression\": 6.63,\n",
    "            \"maintenance\": 23.96,\n",
    "            \"labor\": 7.27,\n",
    "            \"steam\": 22.68,\n",
    "            \"storage\": 11.0\n",
    "        }\n",
    "    }\n",
    "}\n",
    "\n",
    "compression_capex = 6.00\n",
    "trucking_capex = 9.01 - compression_capex\n",
    "\n",
    "costs[\"capex\"][\"2018\"][\"compression\"] = compression_capex\n",
    "costs[\"capex\"][\"2018\"][\"trucking\"] = trucking_capex"
   ]
  },
  {
   "cell_type": "code",
   "outputs": [
    {
     "name": "stdout",
     "output_type": "stream",
     "text": [
      "74.43751264849749\n"
     ]
    }
   ],
   "source": [
    "contactor_improvement_rate = 0.033097\n",
    "\n",
    "contactor_capex_2030 = costs[\"capex\"][\"2018\"][\"contactor\"] * (1 - contactor_improvement_rate) ** (2030 - 2018)\n",
    "print(contactor_capex_2030)\n",
    "\n",
    "costs[\"capex\"][\"2030\"] = {\n",
    "    \"contactor\": contactor_capex_2030,\n",
    "    \"fan\": costs[\"capex\"][\"2018\"][\"fan\"],\n",
    "    \"vacuum_pump\": costs[\"capex\"][\"2018\"][\"vacuum_pump\"],\n",
    "    \"heat_exchanger\": costs[\"capex\"][\"2018\"][\"heat_exchanger\"],\n",
    "    \"compression\": costs[\"capex\"][\"2018\"][\"compression\"],\n",
    "    \"trucking\": costs[\"capex\"][\"2018\"][\"trucking\"]\n",
    "}"
   ],
   "metadata": {
    "collapsed": false,
    "ExecuteTime": {
     "end_time": "2024-03-22T01:42:38.683790Z",
     "start_time": "2024-03-22T01:42:38.679718Z"
    }
   },
   "id": "9e66da397fbcc7b7",
   "execution_count": 53
  },
  {
   "cell_type": "code",
   "outputs": [
    {
     "name": "stdout",
     "output_type": "stream",
     "text": [
      "7.873499999999999\n",
      "134.01999999999998\n"
     ]
    },
    {
     "data": {
      "text/plain": "{'capex': {'2018': {'contactor': 111.48,\n   'fan': 6.48,\n   'vacuum_pump': 5.08,\n   'heat_exchanger': 1.97,\n   'compression': 6.0,\n   'trucking': 3.01},\n  '2030': {'contactor': 74.43751264849749,\n   'fan': 6.48,\n   'vacuum_pump': 5.08,\n   'heat_exchanger': 1.97,\n   'compression': 6.0,\n   'trucking': 3.01}},\n 'opex': {'2018': {'fan': 16.26,\n   'vacuum_pump': 12.19,\n   'compression': 6.63,\n   'maintenance': 23.96,\n   'labor': 7.27,\n   'steam': 22.68,\n   'storage': 11.0},\n  '2030': {'fan': 16.26,\n   'vacuum_pump': 12.19,\n   'compression': 6.63,\n   'maintenance': 17.337570534681394,\n   'labor': 5.260606752384546,\n   'steam': 7.873499999999999,\n   'storage': 9.36319516796092}}}"
     },
     "execution_count": 54,
     "metadata": {},
     "output_type": "execute_result"
    }
   ],
   "source": [
    "thermal_requirement_2030 = (2.03 + 3.4) / 2\n",
    "steam_price = 2.9\n",
    "\n",
    "steam_opex_2030 = thermal_requirement_2030 * steam_price\n",
    "print(steam_opex_2030)\n",
    "\n",
    "# sum 2018 capex\n",
    "capex_2018 = sum(costs[\"capex\"][\"2018\"].values())\n",
    "print(capex_2018)\n",
    "mtc_fraction = costs[\"opex\"][\"2018\"][\"maintenance\"] / capex_2018\n",
    "mtc_opex_2030 = mtc_fraction * sum(costs[\"capex\"][\"2030\"].values())\n",
    "labor_fraction = costs[\"opex\"][\"2018\"][\"labor\"] / capex_2018\n",
    "labor_opex_2030 = labor_fraction * sum(costs[\"capex\"][\"2030\"].values())\n",
    "\n",
    "storage_improvement_rate = 0.013336\n",
    "storage_opex_2030 = costs[\"opex\"][\"2018\"][\"storage\"] * (1 - storage_improvement_rate) ** (2030 - 2018)\n",
    "\n",
    "costs[\"opex\"][\"2030\"] = {\n",
    "    \"fan\": costs[\"opex\"][\"2018\"][\"fan\"],\n",
    "    \"vacuum_pump\": costs[\"opex\"][\"2018\"][\"vacuum_pump\"],\n",
    "    \"compression\": costs[\"opex\"][\"2018\"][\"compression\"],\n",
    "    \"maintenance\": mtc_opex_2030,\n",
    "    \"labor\": labor_opex_2030,\n",
    "    \"steam\": steam_opex_2030,\n",
    "    \"storage\": storage_opex_2030\n",
    "}\n",
    "\n",
    "costs\n"
   ],
   "metadata": {
    "collapsed": false,
    "ExecuteTime": {
     "end_time": "2024-03-22T01:42:38.708535Z",
     "start_time": "2024-03-22T01:42:38.701671Z"
    }
   },
   "id": "d0ba6f8d7a30d111",
   "execution_count": 54
  },
  {
   "cell_type": "code",
   "outputs": [
    {
     "name": "stdout",
     "output_type": "stream",
     "text": [
      "234.01\n"
     ]
    },
    {
     "data": {
      "text/plain": "171.89238510352436"
     },
     "execution_count": 55,
     "metadata": {},
     "output_type": "execute_result"
    }
   ],
   "source": [
    "total_cost_2018 = sum(costs[\"capex\"][\"2018\"].values()) + sum(costs[\"opex\"][\"2018\"].values())\n",
    "print(total_cost_2018)\n",
    "total_cost_2030 = sum(costs[\"capex\"][\"2030\"].values()) + sum(costs[\"opex\"][\"2030\"].values())\n",
    "total_cost_2030"
   ],
   "metadata": {
    "collapsed": false,
    "ExecuteTime": {
     "end_time": "2024-03-22T01:42:38.715066Z",
     "start_time": "2024-03-22T01:42:38.710350Z"
    }
   },
   "id": "bf350961c0fe128d",
   "execution_count": 55
  },
  {
   "cell_type": "code",
   "outputs": [
    {
     "data": {
      "text/plain": "   year  grid_intensity_lb_per_MWh\n0  2014                    1232.35\n1  2015                    1136.53\n2  2018                     998.40\n3  2020                     947.20\n4  2021                     884.20\n5  2022                     818.30\n6  2023                     852.30\n7  2024                     823.10",
      "text/html": "<div>\n<style scoped>\n    .dataframe tbody tr th:only-of-type {\n        vertical-align: middle;\n    }\n\n    .dataframe tbody tr th {\n        vertical-align: top;\n    }\n\n    .dataframe thead th {\n        text-align: right;\n    }\n</style>\n<table border=\"1\" class=\"dataframe\">\n  <thead>\n    <tr style=\"text-align: right;\">\n      <th></th>\n      <th>year</th>\n      <th>grid_intensity_lb_per_MWh</th>\n    </tr>\n  </thead>\n  <tbody>\n    <tr>\n      <th>0</th>\n      <td>2014</td>\n      <td>1232.35</td>\n    </tr>\n    <tr>\n      <th>1</th>\n      <td>2015</td>\n      <td>1136.53</td>\n    </tr>\n    <tr>\n      <th>2</th>\n      <td>2018</td>\n      <td>998.40</td>\n    </tr>\n    <tr>\n      <th>3</th>\n      <td>2020</td>\n      <td>947.20</td>\n    </tr>\n    <tr>\n      <th>4</th>\n      <td>2021</td>\n      <td>884.20</td>\n    </tr>\n    <tr>\n      <th>5</th>\n      <td>2022</td>\n      <td>818.30</td>\n    </tr>\n    <tr>\n      <th>6</th>\n      <td>2023</td>\n      <td>852.30</td>\n    </tr>\n    <tr>\n      <th>7</th>\n      <td>2024</td>\n      <td>823.10</td>\n    </tr>\n  </tbody>\n</table>\n</div>"
     },
     "execution_count": 56,
     "metadata": {},
     "output_type": "execute_result"
    }
   ],
   "source": [
    "grid_intensities = {\n",
    "    2014: 1232.35,\n",
    "    2015: 1136.53,\n",
    "    2018: 998.4,\n",
    "    2020: 947.2,\n",
    "    2021: 884.2,\n",
    "    2022: 818.3,\n",
    "    2023: 852.3,\n",
    "    2024: 823.1\n",
    "}\n",
    "\n",
    "grid_intensities_df = pd.DataFrame(list(grid_intensities.items()), columns=[\"year\", \"grid_intensity_lb_per_MWh\"])\n",
    "grid_intensities_df"
   ],
   "metadata": {
    "collapsed": false,
    "ExecuteTime": {
     "end_time": "2024-03-22T01:42:38.722699Z",
     "start_time": "2024-03-22T01:42:38.717209Z"
    }
   },
   "id": "6a4cabecdbb8f0d5",
   "execution_count": 56
  },
  {
   "cell_type": "code",
   "outputs": [
    {
     "data": {
      "text/plain": "   year  grid_intensity_lb_per_MWh  grid_intensity_g_per_kWh\n0  2014                    1232.35                558.984101\n1  2015                    1136.53                515.520916\n2  2018                     998.40                452.866253\n3  2020                     947.20                429.642342\n4  2021                     884.20                401.066046\n5  2022                     818.30                371.174334\n6  2023                     852.30                386.596462\n7  2024                     823.10                373.351575",
      "text/html": "<div>\n<style scoped>\n    .dataframe tbody tr th:only-of-type {\n        vertical-align: middle;\n    }\n\n    .dataframe tbody tr th {\n        vertical-align: top;\n    }\n\n    .dataframe thead th {\n        text-align: right;\n    }\n</style>\n<table border=\"1\" class=\"dataframe\">\n  <thead>\n    <tr style=\"text-align: right;\">\n      <th></th>\n      <th>year</th>\n      <th>grid_intensity_lb_per_MWh</th>\n      <th>grid_intensity_g_per_kWh</th>\n    </tr>\n  </thead>\n  <tbody>\n    <tr>\n      <th>0</th>\n      <td>2014</td>\n      <td>1232.35</td>\n      <td>558.984101</td>\n    </tr>\n    <tr>\n      <th>1</th>\n      <td>2015</td>\n      <td>1136.53</td>\n      <td>515.520916</td>\n    </tr>\n    <tr>\n      <th>2</th>\n      <td>2018</td>\n      <td>998.40</td>\n      <td>452.866253</td>\n    </tr>\n    <tr>\n      <th>3</th>\n      <td>2020</td>\n      <td>947.20</td>\n      <td>429.642342</td>\n    </tr>\n    <tr>\n      <th>4</th>\n      <td>2021</td>\n      <td>884.20</td>\n      <td>401.066046</td>\n    </tr>\n    <tr>\n      <th>5</th>\n      <td>2022</td>\n      <td>818.30</td>\n      <td>371.174334</td>\n    </tr>\n    <tr>\n      <th>6</th>\n      <td>2023</td>\n      <td>852.30</td>\n      <td>386.596462</td>\n    </tr>\n    <tr>\n      <th>7</th>\n      <td>2024</td>\n      <td>823.10</td>\n      <td>373.351575</td>\n    </tr>\n  </tbody>\n</table>\n</div>"
     },
     "execution_count": 57,
     "metadata": {},
     "output_type": "execute_result"
    }
   ],
   "source": [
    "grid_intensities_df[\"grid_intensity_g_per_kWh\"] = grid_intensities_df[\"grid_intensity_lb_per_MWh\"] * 453.592 / 1000\n",
    "grid_intensities_df"
   ],
   "metadata": {
    "collapsed": false,
    "ExecuteTime": {
     "end_time": "2024-03-22T01:42:38.729607Z",
     "start_time": "2024-03-22T01:42:38.723900Z"
    }
   },
   "id": "cffd1250b327eae1",
   "execution_count": 57
  },
  {
   "cell_type": "code",
   "outputs": [
    {
     "data": {
      "text/plain": "<Figure size 1000x600 with 1 Axes>",
      "image/png": "[encoded data removed]"
     },
     "metadata": {},
     "output_type": "display_data"
    }
   ],
   "source": [
    "X_log = np.log(grid_intensities_df['year'])\n",
    "y_log = np.log(grid_intensities_df['grid_intensity_g_per_kWh'])\n",
    "\n",
    "# Fit a linear regression model\n",
    "model = LinearRegression()\n",
    "model.fit(X_log.values.reshape(-1, 1), y_log.values)\n",
    "\n",
    "# Predict for future years\n",
    "future_years = np.array([2025, 2026, 2027, 2028, 2029, 2030])\n",
    "log_predictions = model.predict(np.log(future_years).reshape(-1, 1))\n",
    "\n",
    "# Transform predictions back to the original scale\n",
    "predictions = np.exp(log_predictions)\n",
    "\n",
    "# Plotting the results\n",
    "plt.figure(figsize=(10, 6))\n",
    "plt.scatter(grid_intensities_df['year'], grid_intensities_df['grid_intensity_g_per_kWh'], color='blue')\n",
    "plt.plot(future_years, predictions, color='red')\n",
    "plt.title('Grid Intensity Over Years (with Power Law Prediction)')\n",
    "plt.xlabel('Year')\n",
    "plt.ylabel('Grid Intensity (g/kWh)')\n",
    "plt.grid(True)\n",
    "plt.show()"
   ],
   "metadata": {
    "collapsed": false,
    "ExecuteTime": {
     "end_time": "2024-03-22T01:42:38.857987Z",
     "start_time": "2024-03-22T01:42:38.730381Z"
    }
   },
   "id": "b96f4ff54dd22a27",
   "execution_count": 58
  },
  {
   "cell_type": "code",
   "outputs": [
    {
     "data": {
      "text/plain": "290.7252564800001"
     },
     "execution_count": 59,
     "metadata": {},
     "output_type": "execute_result"
    }
   ],
   "source": [
    "recent_grid_intensities_df = grid_intensities_df[grid_intensities_df['year'] >= 2020]\n",
    "\n",
    "X = recent_grid_intensities_df['year'].values.reshape(-1, 1)\n",
    "y = recent_grid_intensities_df['grid_intensity_g_per_kWh'].values\n",
    "\n",
    "# Fit the linear regression model\n",
    "model = LinearRegression()\n",
    "model.fit(X, y)\n",
    "\n",
    "# Predict the value for 2030\n",
    "pred_2030_grid_intensity = model.predict(np.array([[2030]]))[0]\n",
    "pred_2030_grid_intensity # g/kWh"
   ],
   "metadata": {
    "collapsed": false,
    "ExecuteTime": {
     "end_time": "2024-03-22T01:42:38.867683Z",
     "start_time": "2024-03-22T01:42:38.861404Z"
    }
   },
   "id": "d00e987bad77310c",
   "execution_count": 59
  },
  {
   "cell_type": "code",
   "outputs": [
    {
     "data": {
      "text/plain": "283.2464359801988"
     },
     "execution_count": 60,
     "metadata": {},
     "output_type": "execute_result"
    }
   ],
   "source": [
    "power_2030_grid_intensity = predictions[-1]\n",
    "power_2030_grid_intensity"
   ],
   "metadata": {
    "collapsed": false,
    "ExecuteTime": {
     "end_time": "2024-03-22T01:42:38.873723Z",
     "start_time": "2024-03-22T01:42:38.869570Z"
    }
   },
   "id": "b157f3676a539bd7",
   "execution_count": 60
  },
  {
   "cell_type": "code",
   "outputs": [
    {
     "data": {
      "text/plain": "0.1211356204417522"
     },
     "execution_count": 61,
     "metadata": {},
     "output_type": "execute_result"
    }
   ],
   "source": [
    "electrical_requirement = 1.5 # GJ/ton\n",
    "gj_to_kwh = 277.778\n",
    "electrical_requirement_kwh = electrical_requirement * gj_to_kwh\n",
    "\n",
    "electric_co2_footprint_g = pred_2030_grid_intensity * electrical_requirement_kwh\n",
    "electric_co2_footprint = electric_co2_footprint_g / 1000000\n",
    "electric_co2_footprint # ton/ton\n"
   ],
   "metadata": {
    "collapsed": false,
    "ExecuteTime": {
     "end_time": "2024-03-22T01:42:38.881306Z",
     "start_time": "2024-03-22T01:42:38.875980Z"
    }
   },
   "id": "c4092c30938ecd61",
   "execution_count": 61
  },
  {
   "cell_type": "code",
   "outputs": [
    {
     "data": {
      "text/plain": "0.17119597029"
     },
     "execution_count": 62,
     "metadata": {},
     "output_type": "execute_result"
    }
   ],
   "source": [
    "heat_intensity = 227 # g/kWh\n",
    "heat_requirement_kwh = thermal_requirement_2030 * gj_to_kwh\n",
    "\n",
    "heat_co2_footprint_g = heat_intensity * heat_requirement_kwh\n",
    "heat_co2_footprint = heat_co2_footprint_g / 1000000\n",
    "heat_co2_footprint # ton/ton"
   ],
   "metadata": {
    "collapsed": false,
    "ExecuteTime": {
     "end_time": "2024-03-22T01:42:38.887256Z",
     "start_time": "2024-03-22T01:42:38.883018Z"
    }
   },
   "id": "5da5e1aabf55721d",
   "execution_count": 62
  },
  {
   "cell_type": "code",
   "outputs": [
    {
     "data": {
      "text/plain": "0.0036119999999999998"
     },
     "execution_count": 63,
     "metadata": {},
     "output_type": "execute_result"
    }
   ],
   "source": [
    "trucking_intensity = 0.168 # kg/ton-mile\n",
    "trucking_unit_costs = 0.14 # $/ton-mile\n",
    "trucking_units = trucking_capex / trucking_unit_costs\n",
    "\n",
    "trucking_footprint_kg = trucking_intensity * trucking_units\n",
    "trucking_footprint = trucking_footprint_kg / 1000\n",
    "trucking_footprint # ton"
   ],
   "metadata": {
    "collapsed": false,
    "ExecuteTime": {
     "end_time": "2024-03-22T01:42:38.894259Z",
     "start_time": "2024-03-22T01:42:38.889960Z"
    }
   },
   "id": "fb61086fa0814fe2",
   "execution_count": 63
  },
  {
   "cell_type": "code",
   "outputs": [
    {
     "data": {
      "text/plain": "244.14575713070855"
     },
     "execution_count": 64,
     "metadata": {},
     "output_type": "execute_result"
    }
   ],
   "source": [
    "total_co2_footprint = electric_co2_footprint + heat_co2_footprint + trucking_footprint\n",
    "net_cost_2030 = total_cost_2030 / (1 - total_co2_footprint)\n",
    "net_cost_2030"
   ],
   "metadata": {
    "collapsed": false,
    "ExecuteTime": {
     "end_time": "2024-03-22T01:42:38.901760Z",
     "start_time": "2024-03-22T01:42:38.896489Z"
    }
   },
   "id": "34c633b39f24d888",
   "execution_count": 64
  },
  {
   "cell_type": "code",
   "outputs": [
    {
     "data": {
      "text/plain": "{'capex': {'2018': {'contactor': 111.48,\n   'fan': 6.48,\n   'vacuum_pump': 5.08,\n   'heat_exchanger': 1.97,\n   'compression': 6.0,\n   'trucking': 3.01},\n  '2030': {'contactor': 74.43751264849749,\n   'fan': 6.48,\n   'vacuum_pump': 5.08,\n   'heat_exchanger': 1.97,\n   'compression': 6.0,\n   'trucking': 3.01},\n  'aero': {'contactor': 74.43751264849749,\n   'fan': 6.48,\n   'vacuum_pump': 5.08,\n   'heat_exchanger': 1.97,\n   'compression': 6.0,\n   'trucking': 3.01}},\n 'opex': {'2018': {'fan': 16.26,\n   'vacuum_pump': 12.19,\n   'compression': 6.63,\n   'maintenance': 23.96,\n   'labor': 7.27,\n   'steam': 22.68,\n   'storage': 11.0},\n  '2030': {'fan': 16.26,\n   'vacuum_pump': 12.19,\n   'compression': 6.63,\n   'maintenance': 17.337570534681394,\n   'labor': 5.260606752384546,\n   'steam': 7.873499999999999,\n   'storage': 9.36319516796092},\n  'aero': {'fan': 16.26,\n   'vacuum_pump': 12.19,\n   'compression': 6.63,\n   'maintenance': 17.337570534681394,\n   'labor': 5.260606752384546,\n   'steam': 7.873499999999999,\n   'storage': 9.36319516796092}}}"
     },
     "execution_count": 69,
     "metadata": {},
     "output_type": "execute_result"
    }
   ],
   "source": [
    "costs[\"opex\"][\"aero\"] = {\n",
    "    \"fan\": costs[\"opex\"][\"2030\"][\"fan\"],\n",
    "    \"vacuum_pump\": costs[\"opex\"][\"2030\"][\"vacuum_pump\"],\n",
    "    \"compression\": costs[\"opex\"][\"2030\"][\"compression\"],\n",
    "    \"maintenance\": costs[\"opex\"][\"2030\"][\"maintenance\"],\n",
    "    \"labor\": costs[\"opex\"][\"2030\"][\"labor\"],\n",
    "    \"steam\": costs[\"opex\"][\"2030\"][\"steam\"],\n",
    "    \"storage\": costs[\"opex\"][\"2030\"][\"storage\"]\n",
    "}\n",
    "costs[\"capex\"][\"aero\"] = {\n",
    "    \"contactor\": costs[\"capex\"][\"2030\"][\"contactor\"],\n",
    "    \"fan\": costs[\"capex\"][\"2030\"][\"fan\"],\n",
    "    \"vacuum_pump\": costs[\"capex\"][\"2030\"][\"vacuum_pump\"],\n",
    "    \"heat_exchanger\": costs[\"capex\"][\"2030\"][\"heat_exchanger\"],\n",
    "    \"compression\": costs[\"capex\"][\"2030\"][\"compression\"],\n",
    "    \"trucking\": costs[\"capex\"][\"2030\"][\"trucking\"]\n",
    "}\n",
    "costs"
   ],
   "metadata": {
    "collapsed": false,
    "ExecuteTime": {
     "end_time": "2024-03-22T01:59:22.739766Z",
     "start_time": "2024-03-22T01:59:22.730929Z"
    }
   },
   "id": "43d513de424de2ed",
   "execution_count": 69
  },
  {
   "cell_type": "code",
   "outputs": [
    {
     "name": "stdout",
     "output_type": "stream",
     "text": [
      "105.00568993556342\n"
     ]
    },
    {
     "data": {
      "text/plain": "{'capex': {'2018': {'contactor': 111.48,\n   'fan': 6.48,\n   'vacuum_pump': 5.08,\n   'heat_exchanger': 1.97,\n   'compression': 6.0,\n   'trucking': 3.01},\n  '2030': {'contactor': 74.43751264849749,\n   'fan': 6.48,\n   'vacuum_pump': 5.08,\n   'heat_exchanger': 1.97,\n   'compression': 6.0,\n   'trucking': 3.01},\n  'aero': {'contactor': 74.43751264849749,\n   'heat_exchanger': 1.97,\n   'compression': 6.0}},\n 'opex': {'2018': {'fan': 16.26,\n   'vacuum_pump': 12.19,\n   'compression': 6.63,\n   'maintenance': 23.96,\n   'labor': 7.27,\n   'steam': 22.68,\n   'storage': 11.0},\n  '2030': {'fan': 16.26,\n   'vacuum_pump': 12.19,\n   'compression': 6.63,\n   'maintenance': 17.337570534681394,\n   'labor': 5.260606752384546,\n   'steam': 7.873499999999999,\n   'storage': 9.36319516796092},\n  'aero': {'maintenance': 17.337570534681394, 'labor': 5.260606752384546}}}"
     },
     "execution_count": 70,
     "metadata": {},
     "output_type": "execute_result"
    }
   ],
   "source": [
    "# sorbent propelled through air, rather than using fan to push air through sorbent\n",
    "del costs[\"capex\"][\"aero\"][\"fan\"]\n",
    "del costs[\"opex\"][\"aero\"][\"fan\"]\n",
    "\n",
    "# already operating in mild vacuum\n",
    "del costs[\"capex\"][\"aero\"][\"vacuum_pump\"]\n",
    "del costs[\"opex\"][\"aero\"][\"vacuum_pump\"]\n",
    "\n",
    "# energy cost shifted to capex/plant mod (i.e. solar power) \n",
    "del costs[\"opex\"][\"aero\"][\"steam\"]\n",
    "del costs[\"opex\"][\"aero\"][\"compression\"]\n",
    "\n",
    "\n",
    "del costs[\"opex\"][\"aero\"][\"storage\"]\n",
    "del costs[\"capex\"][\"aero\"][\"trucking\"]\n",
    "\n",
    "\n",
    "total_aero_cost = sum(costs[\"capex\"][\"aero\"].values()) + sum(costs[\"opex\"][\"aero\"].values())\n",
    "print(total_aero_cost)\n",
    "costs"
   ],
   "metadata": {
    "collapsed": false,
    "ExecuteTime": {
     "end_time": "2024-03-22T01:59:41.373954Z",
     "start_time": "2024-03-22T01:59:41.365950Z"
    }
   },
   "id": "316662ebfd93b69d",
   "execution_count": 70
  }
 ],
 "metadata": {
  "kernelspec": {
   "display_name": "Python 3",
   "language": "python",
   "name": "python3"
  },
  "language_info": {
   "codemirror_mode": {
    "name": "ipython",
    "version": 2
   },
   "file_extension": ".py",
   "mimetype": "text/x-python",
   "name": "python",
   "nbconvert_exporter": "python",
   "pygments_lexer": "ipython2",
   "version": "2.7.6"
  }
 },
 "nbformat": 4,
 "nbformat_minor": 5
}
