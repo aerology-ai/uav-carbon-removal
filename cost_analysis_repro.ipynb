{
 "cells": [
  {
   "cell_type": "code",
   "outputs": [],
   "source": [
    "import math\n",
    "\n",
    "import pandas as pd\n",
    "import numpy as np\n",
    "\n",
    "import matplotlib.pyplot as plt\n",
    "import scipy.constants as const\n",
    "\n",
    "from sklearn.linear_model import LinearRegression\n",
    "from numpy.polynomial.polynomial import Polynomial\n",
    "from scipy.interpolate import interp1d\n"
   ],
   "metadata": {
    "collapsed": false,
    "ExecuteTime": {
     "end_time": "2024-03-25T23:59:33.679771Z",
     "start_time": "2024-03-25T23:59:33.672201Z"
    }
   },
   "id": "370d1f806b21af7d",
   "execution_count": 203
  },
  {
   "cell_type": "markdown",
   "source": [
    "## Establish baseline costs\n",
    "Largely dervied from [this paper](https://www.researchgate.net/publication/341420273_Cost_Analysis_of_Direct_Air_Capture_and_Sequestration_Coupled_to_Low-Carbon_Thermal_Energy_in_the_US)"
   ],
   "metadata": {
    "collapsed": false
   },
   "id": "31d428e6eae09ccc"
  },
  {
   "cell_type": "code",
   "execution_count": 303,
   "id": "initial_id",
   "metadata": {
    "collapsed": true,
    "ExecuteTime": {
     "end_time": "2024-03-27T00:50:01.806787Z",
     "start_time": "2024-03-27T00:50:01.801360Z"
    }
   },
   "outputs": [
    {
     "name": "stdout",
     "output_type": "stream",
     "text": [
      "Verified: $134.02 capex, $88.99 opex (to gate) matches McQueen et al 2020\n",
      "To grave opex is $98.99\n"
     ]
    }
   ],
   "source": [
    "costs = {\n",
    "    \"capex\": {\n",
    "        \"2018\": {\n",
    "            \"contactor\": 111.48,\n",
    "            \"fan\": 6.48,\n",
    "            \"vacuum_pump\": 5.08,\n",
    "            \"heat_exchanger\": 1.97\n",
    "        }\n",
    "    },\n",
    "    \"opex\": {\n",
    "        \"2018\": {\n",
    "            \"fan\": 16.26,\n",
    "            \"vacuum_pump\": 12.19,\n",
    "            \"compression\": 6.63,\n",
    "            \"maintenance\": 23.96,\n",
    "            \"labor\": 7.27,\n",
    "            \"steam\": 22.68\n",
    "        }\n",
    "    }\n",
    "}\n",
    "\n",
    "compression_capex = 6.00 # McQueen et al 2020 supplement pg 21\n",
    "trucking_capex = 9.01 - compression_capex\n",
    "\n",
    "costs[\"capex\"][\"2018\"][\"compression\"] = compression_capex\n",
    "costs[\"capex\"][\"2018\"][\"trucking\"] = trucking_capex\n",
    "\n",
    "base_capex_2018 = sum(costs[\"capex\"][\"2018\"].values())\n",
    "base_opex_2018 = sum(costs[\"opex\"][\"2018\"].values())\n",
    "\n",
    "print(f\"Verified: ${base_capex_2018:.2f} capex, ${base_opex_2018:.2f} opex (to gate) matches McQueen et al 2020\")\n",
    "\n",
    "# McQueen et al 2020 doesn't include storage costs; midpoint of DOE, 2014 estimate ($7-13) used (see ch.7 http://nap.nationalacademies.org/25259)\n",
    "costs[\"opex\"][\"2018\"][\"storage\"] = 10.00\n",
    "\n",
    "base_opex_2018_to_grave = sum(costs[\"opex\"][\"2018\"].values())\n",
    "print(f\"To grave opex is ${base_opex_2018_to_grave:.2f}\")"
   ]
  },
  {
   "cell_type": "markdown",
   "source": [
    "#### Forecast baseline to 2030"
   ],
   "metadata": {
    "collapsed": false
   },
   "id": "afd27c726484b832"
  },
  {
   "cell_type": "code",
   "outputs": [
    {
     "name": "stdout",
     "output_type": "stream",
     "text": [
      "Contactor capex forecast to decrease to $43.63 in 2030, given improvement rate of 7.52%.\n",
      "No improvement assumed for other capex categories; baseline 2030 capex estimated at $66.17.\n"
     ]
    }
   ],
   "source": [
    "def forecast_improvement(start_value, rate, start_year, direction=\"decrease\", end_year=2030):\n",
    "    if direction == \"decrease\":\n",
    "        end_value = start_value * (1 - rate) ** (end_year - start_year)\n",
    "    else:\n",
    "        end_value = start_value * (1 + rate) ** (end_year - start_year)\n",
    "    return end_value\n",
    "\n",
    "# Unless otherwise specified, all improvement rates are from supplement to https://pubs.rsc.org/en/content/articlelanding/2019/ee/c9ee01526d \n",
    "adsorption_ir_lower = 0.033097\n",
    "adsorption_ir_mean = 0.1172984\n",
    "adsorption_ir = (adsorption_ir_lower + adsorption_ir_mean) / 2\n",
    "\n",
    "contactor_capex_2030 = forecast_improvement(costs[\"capex\"][\"2018\"][\"contactor\"], adsorption_ir, 2018)\n",
    "\n",
    "costs[\"capex\"][\"2030\"] = {\n",
    "    \"contactor\": contactor_capex_2030,\n",
    "    \"fan\": costs[\"capex\"][\"2018\"][\"fan\"],\n",
    "    \"vacuum_pump\": costs[\"capex\"][\"2018\"][\"vacuum_pump\"],\n",
    "    \"heat_exchanger\": costs[\"capex\"][\"2018\"][\"heat_exchanger\"],\n",
    "    \"compression\": costs[\"capex\"][\"2018\"][\"compression\"],\n",
    "    \"trucking\": costs[\"capex\"][\"2018\"][\"trucking\"]\n",
    "}\n",
    "\n",
    "print(f\"Contactor capex forecast to decrease to ${contactor_capex_2030:.2f} in 2030, given improvement rate of {adsorption_ir:.2%}.\")\n",
    "print(f\"No improvement assumed for other capex categories; baseline 2030 capex estimated at ${sum(costs['capex']['2030'].values()):.2f}.\")"
   ],
   "metadata": {
    "collapsed": false,
    "ExecuteTime": {
     "end_time": "2024-03-27T01:09:28.352076Z",
     "start_time": "2024-03-27T01:09:28.346442Z"
    }
   },
   "id": "9e66da397fbcc7b7",
   "execution_count": 314
  },
  {
   "cell_type": "code",
   "outputs": [
    {
     "name": "stdout",
     "output_type": "stream",
     "text": [
      "2030 baseline steam opex forecast to be $7.87, given thermal requirement of 2.71 GJ/ton.\n",
      "2030 baseline maintenance opex forecast to be $11.83, labor opex forecast to be $3.59 (uses 2018 fractions).\n",
      "2030 baseline storage opex forecast to be $7.96, given improvement rate of 1.33%.\n",
      "2030 baseline opex forecast to be $66.33.\n"
     ]
    }
   ],
   "source": [
    "nas_thermal_requirement_low = 3.4 # GJ/ton ch. 5 http://nap.nationalacademies.org/25259\n",
    "an_et_al_thermal_requirement_high = 2.03 # https://www.osti.gov/pages/servlets/purl/2203824\n",
    "thermal_requirement_2030 = (nas_thermal_requirement_low + an_et_al_thermal_requirement_high) / 2\n",
    "steam_price = 2.9\n",
    "base_steam_opex_2030 = thermal_requirement_2030 * steam_price\n",
    "print(f\"2030 baseline steam opex forecast to be ${base_steam_opex_2030:.2f}, given thermal requirement of {thermal_requirement_2030:.2f} GJ/ton.\")\n",
    "\n",
    "capex_2018 = sum(costs[\"capex\"][\"2018\"].values())\n",
    "\n",
    "mtc_fraction = costs[\"opex\"][\"2018\"][\"maintenance\"] / capex_2018\n",
    "base_mtc_opex_2030 = mtc_fraction * sum(costs[\"capex\"][\"2030\"].values())\n",
    "\n",
    "labor_fraction = costs[\"opex\"][\"2018\"][\"labor\"] / capex_2018\n",
    "base_labor_opex_2030 = labor_fraction * sum(costs[\"capex\"][\"2030\"].values())\n",
    "print(f\"2030 baseline maintenance opex forecast to be ${base_mtc_opex_2030:.2f}, labor opex forecast to be ${base_labor_opex_2030:.2f} (uses 2018 \"\n",
    "      f\"fractions).\")\n",
    "\n",
    "storage_ir = 0.013336\n",
    "base_storage_opex_2030 = forecast_improvement(costs[\"opex\"][\"2018\"][\"storage\"], storage_ir, 2013)\n",
    "print(f\"2030 baseline storage opex forecast to be ${base_storage_opex_2030:.2f}, given improvement rate of {storage_ir:.2%}.\")\n",
    "\n",
    "costs[\"opex\"][\"2030\"] = {\n",
    "    \"fan\": costs[\"opex\"][\"2018\"][\"fan\"],\n",
    "    \"vacuum_pump\": costs[\"opex\"][\"2018\"][\"vacuum_pump\"],\n",
    "    \"compression\": costs[\"opex\"][\"2018\"][\"compression\"],\n",
    "    \"maintenance\": base_mtc_opex_2030,\n",
    "    \"labor\": base_labor_opex_2030,\n",
    "    \"steam\": base_steam_opex_2030,\n",
    "    \"storage\": base_storage_opex_2030\n",
    "}\n",
    "\n",
    "print(f\"2030 baseline opex forecast to be ${sum(costs['opex']['2030'].values()):.2f}.\")\n"
   ],
   "metadata": {
    "collapsed": false,
    "ExecuteTime": {
     "end_time": "2024-03-27T01:35:31.891363Z",
     "start_time": "2024-03-27T01:35:31.885618Z"
    }
   },
   "id": "d0ba6f8d7a30d111",
   "execution_count": 321
  },
  {
   "cell_type": "code",
   "outputs": [
    {
     "name": "stdout",
     "output_type": "stream",
     "text": [
      "Baseline 2018 total gross cost: $233.01, 2030 total gross cost: $132.50\n"
     ]
    }
   ],
   "source": [
    "total_base_cost_2018 = sum(costs[\"capex\"][\"2018\"].values()) + sum(costs[\"opex\"][\"2018\"].values())\n",
    "total_base_cost_2030 = sum(costs[\"capex\"][\"2030\"].values()) + sum(costs[\"opex\"][\"2030\"].values())\n",
    "print(f\"Baseline 2018 total gross cost: ${total_base_cost_2018:.2f}, 2030 total gross cost: ${total_base_cost_2030:.2f}\")"
   ],
   "metadata": {
    "collapsed": false,
    "ExecuteTime": {
     "end_time": "2024-03-27T01:37:48.798077Z",
     "start_time": "2024-03-27T01:37:48.793946Z"
    }
   },
   "id": "bf350961c0fe128d",
   "execution_count": 324
  },
  {
   "cell_type": "markdown",
   "source": [
    "## Estimate baseline cost net of CO2 emissions from capture process"
   ],
   "metadata": {
    "collapsed": false
   },
   "id": "d91430202e1a4136"
  },
  {
   "cell_type": "code",
   "outputs": [
    {
     "data": {
      "text/plain": "   year  grid_intensity_lb_per_MWh  grid_intensity_g_per_kWh\n0  2014                    1232.35                558.984101\n1  2015                    1136.53                515.520916\n2  2018                     998.40                452.866253\n3  2020                     947.20                429.642342\n4  2021                     884.20                401.066046\n5  2022                     818.30                371.174334\n6  2023                     852.30                386.596462\n7  2024                     823.10                373.351575",
      "text/html": "<div>\n<style scoped>\n    .dataframe tbody tr th:only-of-type {\n        vertical-align: middle;\n    }\n\n    .dataframe tbody tr th {\n        vertical-align: top;\n    }\n\n    .dataframe thead th {\n        text-align: right;\n    }\n</style>\n<table border=\"1\" class=\"dataframe\">\n  <thead>\n    <tr style=\"text-align: right;\">\n      <th></th>\n      <th>year</th>\n      <th>grid_intensity_lb_per_MWh</th>\n      <th>grid_intensity_g_per_kWh</th>\n    </tr>\n  </thead>\n  <tbody>\n    <tr>\n      <th>0</th>\n      <td>2014</td>\n      <td>1232.35</td>\n      <td>558.984101</td>\n    </tr>\n    <tr>\n      <th>1</th>\n      <td>2015</td>\n      <td>1136.53</td>\n      <td>515.520916</td>\n    </tr>\n    <tr>\n      <th>2</th>\n      <td>2018</td>\n      <td>998.40</td>\n      <td>452.866253</td>\n    </tr>\n    <tr>\n      <th>3</th>\n      <td>2020</td>\n      <td>947.20</td>\n      <td>429.642342</td>\n    </tr>\n    <tr>\n      <th>4</th>\n      <td>2021</td>\n      <td>884.20</td>\n      <td>401.066046</td>\n    </tr>\n    <tr>\n      <th>5</th>\n      <td>2022</td>\n      <td>818.30</td>\n      <td>371.174334</td>\n    </tr>\n    <tr>\n      <th>6</th>\n      <td>2023</td>\n      <td>852.30</td>\n      <td>386.596462</td>\n    </tr>\n    <tr>\n      <th>7</th>\n      <td>2024</td>\n      <td>823.10</td>\n      <td>373.351575</td>\n    </tr>\n  </tbody>\n</table>\n</div>"
     },
     "execution_count": 325,
     "metadata": {},
     "output_type": "execute_result"
    }
   ],
   "source": [
    "# US average electricity emissions from https://www.epa.gov/climateleadership/ghg-emission-factors-hub \n",
    "grid_intensities = {\n",
    "    2014: 1232.35,\n",
    "    2015: 1136.53,\n",
    "    2018: 998.4,\n",
    "    2020: 947.2,\n",
    "    2021: 884.2,\n",
    "    2022: 818.3,\n",
    "    2023: 852.3,\n",
    "    2024: 823.1\n",
    "}\n",
    "\n",
    "grid_intensities_df = pd.DataFrame(list(grid_intensities.items()), columns=[\"year\", \"grid_intensity_lb_per_MWh\"])\n",
    "grid_intensities_df[\"grid_intensity_g_per_kWh\"] = grid_intensities_df[\"grid_intensity_lb_per_MWh\"] * 453.592 / 1000\n",
    "grid_intensities_df\n"
   ],
   "metadata": {
    "collapsed": false,
    "ExecuteTime": {
     "end_time": "2024-03-27T01:41:16.906166Z",
     "start_time": "2024-03-27T01:41:16.885709Z"
    }
   },
   "id": "6a4cabecdbb8f0d5",
   "execution_count": 325
  },
  {
   "cell_type": "markdown",
   "source": [
    "#### Forecast 2030 grid intensities\n",
    "Opted for linear regression over power law"
   ],
   "metadata": {
    "collapsed": false
   },
   "id": "9eb90e364e230fd"
  },
  {
   "cell_type": "code",
   "outputs": [
    {
     "name": "stdout",
     "output_type": "stream",
     "text": [
      "Discarded: 2030 grid intensity forecasted to be 283.25 g/kWh using power law across 8 observations.\n"
     ]
    },
    {
     "data": {
      "text/plain": "<Figure size 1000x600 with 1 Axes>",
      "image/png": "[encoded data removed]"
     },
     "metadata": {},
     "output_type": "display_data"
    }
   ],
   "source": [
    "factors_X_log = np.log(grid_intensities_df['year'])\n",
    "factors_y_log = np.log(grid_intensities_df['grid_intensity_g_per_kWh'])\n",
    "\n",
    "model = LinearRegression()\n",
    "model.fit(factors_X_log.values.reshape(-1, 1), factors_y_log.values)\n",
    "\n",
    "future_years = np.array([2025, 2026, 2027, 2028, 2029, 2030])\n",
    "log_predictions = model.predict(np.log(future_years).reshape(-1, 1))\n",
    "\n",
    "transformed_predictions = np.exp(log_predictions)\n",
    "unused_2030_grid_intensity = transformed_predictions[-1]\n",
    "print(f\"Discarded: 2030 grid intensity forecasted to be {unused_2030_grid_intensity:.2f} g/kWh using power law across 8 interrupted observations.\")\n",
    "\n",
    "# Plotting the results\n",
    "plt.figure(figsize=(10, 6))\n",
    "plt.scatter(grid_intensities_df['year'], grid_intensities_df['grid_intensity_g_per_kWh'], color='blue')\n",
    "plt.plot(future_years, predictions, color='red')\n",
    "plt.title('Grid Intensity Over Years (with Power Law Prediction)')\n",
    "plt.xlabel('Year')\n",
    "plt.ylabel('Grid Intensity (g/kWh)')\n",
    "plt.grid(True)\n",
    "plt.show()"
   ],
   "metadata": {
    "collapsed": false,
    "ExecuteTime": {
     "end_time": "2024-03-27T01:54:32.819663Z",
     "start_time": "2024-03-27T01:54:32.662162Z"
    }
   },
   "id": "b96f4ff54dd22a27",
   "execution_count": 328
  },
  {
   "cell_type": "code",
   "outputs": [
    {
     "name": "stdout",
     "output_type": "stream",
     "text": [
      "2030 grid intensity forecasted to be 290.73 g/kWh using linear regression on 5 most recent, uninterrupted observations.\n"
     ]
    }
   ],
   "source": [
    "recent_grid_intensities_df = grid_intensities_df[grid_intensities_df['year'] >= 2020]\n",
    "\n",
    "factors_X = recent_grid_intensities_df['year'].values.reshape(-1, 1)\n",
    "factors_y = recent_grid_intensities_df['grid_intensity_g_per_kWh'].values\n",
    "\n",
    "model = LinearRegression()\n",
    "model.fit(factors_X, factors_y)\n",
    "\n",
    "# Predict the value for 2030\n",
    "pred_2030_grid_intensity = model.predict(np.array([[2030]]))[0]\n",
    "print(f\"2030 grid intensity forecasted to be {pred_2030_grid_intensity:.2f} g/kWh using linear regression on 5 most recent, uninterrupted observations.\")"
   ],
   "metadata": {
    "collapsed": false,
    "ExecuteTime": {
     "end_time": "2024-03-27T01:56:13.611289Z",
     "start_time": "2024-03-27T01:56:13.605608Z"
    }
   },
   "id": "d00e987bad77310c",
   "execution_count": 330
  },
  {
   "cell_type": "markdown",
   "source": [
    "#### Apply forecasted 2030 emissions factors"
   ],
   "metadata": {
    "collapsed": false
   },
   "id": "e42acdcf047cd8a5"
  },
  {
   "cell_type": "code",
   "outputs": [
    {
     "name": "stdout",
     "output_type": "stream",
     "text": [
      "Electricity CO2 footprint forecasted to be 121135.62 g/ton in 2030.\n"
     ]
    },
    {
     "data": {
      "text/plain": "0.1211356204417522"
     },
     "execution_count": 331,
     "metadata": {},
     "output_type": "execute_result"
    }
   ],
   "source": [
    "electrical_requirement = 1.5 # GJ/ton\n",
    "gj_to_kwh = 277.778\n",
    "electrical_requirement_kwh = electrical_requirement * gj_to_kwh\n",
    "\n",
    "electric_co2_footprint_g = pred_2030_grid_intensity * electrical_requirement_kwh\n",
    "print(f\"Electricity CO2 footprint forecasted to be {electric_co2_footprint_g:.2f} g/ton in 2030.\")\n",
    "electric_co2_footprint = electric_co2_footprint_g / 1000000\n",
    "electric_co2_footprint # ton/ton\n"
   ],
   "metadata": {
    "collapsed": false,
    "ExecuteTime": {
     "end_time": "2024-03-27T02:05:20.880282Z",
     "start_time": "2024-03-27T02:05:20.872638Z"
    }
   },
   "id": "c4092c30938ecd61",
   "execution_count": 331
  },
  {
   "cell_type": "code",
   "outputs": [
    {
     "data": {
      "text/plain": "0.20416683000000002"
     },
     "execution_count": 249,
     "metadata": {},
     "output_type": "execute_result"
    }
   ],
   "source": [
    "paper_electric_co2_footprint_g = 490 * electrical_requirement_kwh\n",
    "paper_electric_co2_footprint = paper_electric_co2_footprint_g / 1000000\n",
    "paper_electric_co2_footprint # ton/ton"
   ],
   "metadata": {
    "collapsed": false,
    "ExecuteTime": {
     "end_time": "2024-03-26T15:26:28.458696Z",
     "start_time": "2024-03-26T15:26:28.455352Z"
    }
   },
   "id": "10a5e05c628a2f16",
   "execution_count": 249
  },
  {
   "cell_type": "code",
   "outputs": [
    {
     "data": {
      "text/plain": "0.17119597029"
     },
     "execution_count": 250,
     "metadata": {},
     "output_type": "execute_result"
    }
   ],
   "source": [
    "heat_intensity = 227 # g/kWh\n",
    "heat_requirement_kwh = thermal_requirement_2030 * gj_to_kwh\n",
    "\n",
    "heat_co2_footprint_g = heat_intensity * heat_requirement_kwh\n",
    "heat_co2_footprint = heat_co2_footprint_g / 1000000\n",
    "heat_co2_footprint # ton/ton"
   ],
   "metadata": {
    "collapsed": false,
    "ExecuteTime": {
     "end_time": "2024-03-26T15:26:28.476680Z",
     "start_time": "2024-03-26T15:26:28.472734Z"
    }
   },
   "id": "5da5e1aabf55721d",
   "execution_count": 250
  },
  {
   "cell_type": "code",
   "outputs": [
    {
     "data": {
      "text/plain": "0.0036119999999999998"
     },
     "execution_count": 251,
     "metadata": {},
     "output_type": "execute_result"
    }
   ],
   "source": [
    "trucking_intensity = 0.168 # kg/ton-mile\n",
    "trucking_unit_costs = 0.14 # $/ton-mile\n",
    "trucking_units = trucking_capex / trucking_unit_costs\n",
    "\n",
    "trucking_footprint_kg = trucking_intensity * trucking_units\n",
    "trucking_footprint = trucking_footprint_kg / 1000\n",
    "trucking_footprint # ton"
   ],
   "metadata": {
    "collapsed": false,
    "ExecuteTime": {
     "end_time": "2024-03-26T15:26:28.483517Z",
     "start_time": "2024-03-26T15:26:28.479189Z"
    }
   },
   "id": "fb61086fa0814fe2",
   "execution_count": 251
  },
  {
   "cell_type": "code",
   "outputs": [
    {
     "data": {
      "text/plain": "0.08217816999999995"
     },
     "execution_count": 252,
     "metadata": {},
     "output_type": "execute_result"
    }
   ],
   "source": [
    "trucking_intensity_2018 = 0.17\n",
    "trucking_unit_costs_2018 = 0.14\n",
    "trucking_units_2018 = trucking_capex / trucking_unit_costs_2018\n",
    "\n",
    "trucking_footprint_kg_2018 = trucking_intensity_2018 * trucking_units_2018\n",
    "trucking_footprint_2018 = trucking_footprint_kg_2018 / 1000\n",
    "\n",
    "paper_mod_total_co2_footprint = .29\n",
    "embodied_material_emissions = 0.29 - paper_electric_co2_footprint - trucking_footprint_2018\n",
    "embodied_material_emissions"
   ],
   "metadata": {
    "collapsed": false,
    "ExecuteTime": {
     "end_time": "2024-03-26T15:26:28.506124Z",
     "start_time": "2024-03-26T15:26:28.493661Z"
    }
   },
   "id": "8adca47197c979e4",
   "execution_count": 252
  },
  {
   "cell_type": "code",
   "outputs": [
    {
     "name": "stdout",
     "output_type": "stream",
     "text": [
      "0.37812176073175213\n"
     ]
    },
    {
     "data": {
      "text/plain": "215.324749360281"
     },
     "execution_count": 253,
     "metadata": {},
     "output_type": "execute_result"
    }
   ],
   "source": [
    "total_co2_footprint = electric_co2_footprint + heat_co2_footprint + trucking_footprint + embodied_material_emissions\n",
    "print(total_co2_footprint)\n",
    "net_cost_2030 = total_cost_2030 / (1 - total_co2_footprint)\n",
    "net_cost_2030"
   ],
   "metadata": {
    "collapsed": false,
    "ExecuteTime": {
     "end_time": "2024-03-26T15:26:28.616730Z",
     "start_time": "2024-03-26T15:26:28.612473Z"
    }
   },
   "id": "34c633b39f24d888",
   "execution_count": 253
  },
  {
   "cell_type": "code",
   "outputs": [
    {
     "data": {
      "text/plain": "{'capex': {'2018': {'contactor': 111.48,\n   'fan': 6.48,\n   'vacuum_pump': 5.08,\n   'heat_exchanger': 1.97,\n   'compression': 6.0,\n   'trucking': 3.01},\n  '2030': {'contactor': 43.62985545245635,\n   'fan': 6.48,\n   'vacuum_pump': 5.08,\n   'heat_exchanger': 1.97,\n   'compression': 6.0,\n   'trucking': 3.01},\n  'aero': {'contactor': 43.62985545245635,\n   'fan': 6.48,\n   'vacuum_pump': 5.08,\n   'heat_exchanger': 1.97,\n   'compression': 6.0,\n   'trucking': 3.01}},\n 'opex': {'2018': {'fan': 16.26,\n   'vacuum_pump': 12.19,\n   'compression': 6.63,\n   'maintenance': 23.96,\n   'labor': 7.27,\n   'steam': 22.68,\n   'storage': 11.0},\n  '2030': {'fan': 16.26,\n   'vacuum_pump': 12.19,\n   'compression': 6.63,\n   'maintenance': 11.829799557087407,\n   'labor': 3.589425825543633,\n   'steam': 7.873499999999999,\n   'storage': 9.36319516796092},\n  'aero': {'fan': 16.26,\n   'vacuum_pump': 12.19,\n   'compression': 6.63,\n   'maintenance': 11.829799557087407,\n   'labor': 3.589425825543633,\n   'steam': 7.873499999999999,\n   'storage': 9.36319516796092}}}"
     },
     "execution_count": 258,
     "metadata": {},
     "output_type": "execute_result"
    }
   ],
   "source": [
    "costs[\"opex\"][\"aero\"] = {\n",
    "    \"fan\": costs[\"opex\"][\"2030\"][\"fan\"],\n",
    "    \"vacuum_pump\": costs[\"opex\"][\"2030\"][\"vacuum_pump\"],\n",
    "    \"compression\": costs[\"opex\"][\"2030\"][\"compression\"],\n",
    "    \"maintenance\": costs[\"opex\"][\"2030\"][\"maintenance\"],\n",
    "    \"labor\": costs[\"opex\"][\"2030\"][\"labor\"],\n",
    "    \"steam\": costs[\"opex\"][\"2030\"][\"steam\"],\n",
    "    \"storage\": costs[\"opex\"][\"2030\"][\"storage\"]\n",
    "}\n",
    "costs[\"capex\"][\"aero\"] = {\n",
    "    \"contactor\": costs[\"capex\"][\"2030\"][\"contactor\"],\n",
    "    \"fan\": costs[\"capex\"][\"2030\"][\"fan\"],\n",
    "    \"vacuum_pump\": costs[\"capex\"][\"2030\"][\"vacuum_pump\"],\n",
    "    \"heat_exchanger\": costs[\"capex\"][\"2030\"][\"heat_exchanger\"],\n",
    "    \"compression\": costs[\"capex\"][\"2030\"][\"compression\"],\n",
    "    \"trucking\": costs[\"capex\"][\"2030\"][\"trucking\"]\n",
    "}\n",
    "costs"
   ],
   "metadata": {
    "collapsed": false,
    "ExecuteTime": {
     "end_time": "2024-03-26T15:52:11.032721Z",
     "start_time": "2024-03-26T15:52:11.026606Z"
    }
   },
   "id": "43d513de424de2ed",
   "execution_count": 258
  },
  {
   "cell_type": "code",
   "outputs": [
    {
     "name": "stdout",
     "output_type": "stream",
     "text": [
      "67.01908083508738\n"
     ]
    },
    {
     "data": {
      "text/plain": "{'capex': {'2018': {'contactor': 111.48,\n   'fan': 6.48,\n   'vacuum_pump': 5.08,\n   'heat_exchanger': 1.97,\n   'compression': 6.0,\n   'trucking': 3.01},\n  '2030': {'contactor': 43.62985545245635,\n   'fan': 6.48,\n   'vacuum_pump': 5.08,\n   'heat_exchanger': 1.97,\n   'compression': 6.0,\n   'trucking': 3.01},\n  'aero': {'contactor': 43.62985545245635,\n   'heat_exchanger': 1.97,\n   'compression': 6.0}},\n 'opex': {'2018': {'fan': 16.26,\n   'vacuum_pump': 12.19,\n   'compression': 6.63,\n   'maintenance': 23.96,\n   'labor': 7.27,\n   'steam': 22.68,\n   'storage': 11.0},\n  '2030': {'fan': 16.26,\n   'vacuum_pump': 12.19,\n   'compression': 6.63,\n   'maintenance': 11.829799557087407,\n   'labor': 3.589425825543633,\n   'steam': 7.873499999999999,\n   'storage': 9.36319516796092},\n  'aero': {'maintenance': 11.829799557087407, 'labor': 3.589425825543633}}}"
     },
     "execution_count": 259,
     "metadata": {},
     "output_type": "execute_result"
    }
   ],
   "source": [
    "# sorbent propelled through air, rather than using fan to push air through sorbent\n",
    "del costs[\"capex\"][\"aero\"][\"fan\"]\n",
    "del costs[\"opex\"][\"aero\"][\"fan\"]\n",
    "\n",
    "# already operating in mild vacuum\n",
    "del costs[\"capex\"][\"aero\"][\"vacuum_pump\"]\n",
    "del costs[\"opex\"][\"aero\"][\"vacuum_pump\"]\n",
    "\n",
    "# energy cost shifted to capex/plant mod (i.e. solar power) \n",
    "del costs[\"opex\"][\"aero\"][\"steam\"]\n",
    "del costs[\"opex\"][\"aero\"][\"compression\"]\n",
    "\n",
    "\n",
    "del costs[\"opex\"][\"aero\"][\"storage\"]\n",
    "del costs[\"capex\"][\"aero\"][\"trucking\"]\n",
    "\n",
    "\n",
    "total_aero_cost = sum(costs[\"capex\"][\"aero\"].values()) + sum(costs[\"opex\"][\"aero\"].values())\n",
    "print(total_aero_cost)\n",
    "costs"
   ],
   "metadata": {
    "collapsed": false,
    "ExecuteTime": {
     "end_time": "2024-03-26T15:52:11.039259Z",
     "start_time": "2024-03-26T15:52:11.034023Z"
    }
   },
   "id": "316662ebfd93b69d",
   "execution_count": 259
  },
  {
   "cell_type": "code",
   "outputs": [],
   "source": [
    "daily_irradiance = 484.073401"
   ],
   "metadata": {
    "collapsed": false,
    "ExecuteTime": {
     "end_time": "2024-03-25T13:26:43.523840Z",
     "start_time": "2024-03-25T13:26:43.516033Z"
    }
   },
   "id": "813c0c4a704a5b32",
   "execution_count": 128
  },
  {
   "cell_type": "code",
   "outputs": [],
   "source": [
    "# https://www.sciencedirect.com/science/article/pii/S1876610214015604\n",
    "\n",
    "unscaled_irrad_eff = {\n",
    "    0: 0,\n",
    "    18: 65,\n",
    "    34: 117,\n",
    "    50: 134,\n",
    "    68: 143,\n",
    "    85: 148,\n",
    "    102: 152,\n",
    "    119: 154,\n",
    "    136: 156,\n",
    "    152: 158,\n",
    "    169: 159,\n",
    "    186: 160,\n",
    "    203: 161,\n",
    "    253: 162    \n",
    "}\n"
   ],
   "metadata": {
    "collapsed": false,
    "ExecuteTime": {
     "end_time": "2024-03-24T15:12:47.052587Z",
     "start_time": "2024-03-24T15:12:47.007692Z"
    }
   },
   "id": "b0ac51f17d457608",
   "execution_count": 72
  },
  {
   "cell_type": "code",
   "outputs": [
    {
     "data": {
      "text/plain": "<Figure size 800x500 with 1 Axes>",
      "image/png": "[encoded data removed]"
     },
     "metadata": {},
     "output_type": "display_data"
    },
    {
     "name": "stdout",
     "output_type": "stream",
     "text": [
      "Estimated efficiency at 484.073401 W/m²: 0.6765613856938038\n"
     ]
    }
   ],
   "source": [
    "def scale_values(value, old_min, old_max, new_min, new_max):\n",
    "    return (value - old_min) / (old_max - old_min) * (new_max - new_min) + new_min\n",
    "\n",
    "# Scale the data\n",
    "x_vals = np.array(list(unscaled_irrad_eff.keys()))\n",
    "y_vals = np.array(list(unscaled_irrad_eff.values()))\n",
    "x_vals_scaled = scale_values(x_vals, 0, 253, 0, 1500)\n",
    "y_vals_scaled = scale_values(y_vals, 0, 174, 0.0, 0.8)\n",
    "\n",
    "# Create cubic spline interpolator\n",
    "spline_interpolator = interp1d(x_vals_scaled, y_vals_scaled, kind='cubic', fill_value=\"extrapolate\")\n",
    "\n",
    "# Function to estimate efficiency given irradiance\n",
    "def estimate_efficiency(irradiance):\n",
    "    return spline_interpolator(irradiance)\n",
    "\n",
    "# Plot the scaled data and the spline\n",
    "x_line = np.linspace(min(x_vals_scaled), max(x_vals_scaled), 500)\n",
    "y_line = spline_interpolator(x_line)\n",
    "\n",
    "plt.figure(figsize=(8, 5))\n",
    "plt.scatter(x_vals_scaled, y_vals_scaled, color='blue', label='Scaled data points')\n",
    "plt.plot(x_line, y_line, color='green', label='Cubic spline interpolation')\n",
    "plt.title('Scaled Data with Spline Interpolation')\n",
    "plt.xlabel('Irradiance (W/m²)')\n",
    "plt.ylabel('Efficiency')\n",
    "plt.legend()\n",
    "plt.grid(True)\n",
    "plt.show()\n",
    "\n",
    "\n",
    "estimated_thermal_efficiency = estimate_efficiency(daily_irradiance)\n",
    "print(f\"Estimated efficiency at {daily_irradiance} W/m²: {estimated_efficiency}\")"
   ],
   "metadata": {
    "collapsed": false,
    "ExecuteTime": {
     "end_time": "2024-03-25T13:27:16.733263Z",
     "start_time": "2024-03-25T13:27:16.604002Z"
    }
   },
   "id": "2876bbf92776fe01",
   "execution_count": 130
  },
  {
   "cell_type": "code",
   "outputs": [
    {
     "data": {
      "text/plain": "<Figure size 640x480 with 1 Axes>",
      "image/png": "[encoded data removed]"
     },
     "metadata": {},
     "output_type": "display_data"
    }
   ],
   "source": [
    "# https://ieeexplore.ieee.org/abstract/document/6861716\n",
    "unscaled_pv_irrad_eff = {\n",
    "    221: 245,\n",
    "    248: 252,\n",
    "    280: 257,\n",
    "    307: 260,\n",
    "    332: 263\n",
    "}\n",
    "\n",
    "# Function to scale values from one range to another\n",
    "def scale_values(value, old_min, old_max, new_min, new_max):\n",
    "    # Scaling a value from an old range to a new range\n",
    "    return (value - old_min) / (old_max - old_min) * (new_max - new_min) + new_min\n",
    "\n",
    "# Converting keys and values to numpy arrays for efficient computation\n",
    "x_pv_px_vals = np.array(list(unscaled_pv_irrad_eff.keys()))\n",
    "y_pv_px_vals = np.array(list(unscaled_pv_irrad_eff.values()))\n",
    "\n",
    "# Scaling the x and y values to the desired ranges\n",
    "x_pv_vals = [item[0] for item in scale_values(x_pv_px_vals, 0, 332, 0, 600).reshape(-1, 1)]\n",
    "y_pv_vals = scale_values(y_pv_px_vals, 0, 349, 0.0, 0.18)\n",
    "\n",
    "# Using the previously defined variables\n",
    "x_vals_reshaped = np.array(x_pv_vals).reshape(-1, 1)\n",
    "model = LinearRegression()\n",
    "model.fit(x_vals_reshaped, y_pv_vals)\n",
    "\n",
    "# Predict y values for the regression line\n",
    "y_pred = model.predict(x_vals_reshaped)\n",
    "\n",
    "eff_at_1000 = model.predict(np.array([[1000]]))[0]\n",
    "x_pv_vals = np.append(x_pv_vals, 1000)\n",
    "y_pv_vals = np.append(y_pv_vals, eff_at_1000)\n",
    "y_ext_pred = model.predict(np.array(x_pv_vals).reshape(-1, 1))\n",
    "\n",
    "shift = .228 - eff_at_1000 # https://maxeon.com/us/sites/default/files/2024-03/sp_max6_66c_res_440_435_425_dc_ds_en_ltr_552142.pdf\n",
    "maxeon_curve = y_ext_pred + shift\n",
    "\n",
    "# Plotting the data points\n",
    "plt.scatter(x_pv_vals, y_pv_vals, color='blue', label='Data points')\n",
    "\n",
    "# Plotting the regression line\n",
    "plt.plot(x_pv_vals, y_ext_pred, color='red', label='Linear regression line')\n",
    "plt.plot(x_pv_vals, maxeon_curve, color='green', label='Maxeon curve')\n",
    "\n",
    "# Adding labels and legend\n",
    "plt.xlabel('Irradiance (W/m²)')\n",
    "plt.ylabel('Efficency')\n",
    "plt.title('Linear Regression')\n",
    "plt.legend()\n",
    "\n",
    "# Display the plot\n",
    "plt.show()"
   ],
   "metadata": {
    "collapsed": false,
    "ExecuteTime": {
     "end_time": "2024-03-25T00:44:21.746711Z",
     "start_time": "2024-03-25T00:44:21.626696Z"
    }
   },
   "id": "e974bc89f0bea3b1",
   "execution_count": 123
  },
  {
   "cell_type": "code",
   "outputs": [
    {
     "data": {
      "text/plain": "0.20488249670886174"
     },
     "execution_count": 131,
     "metadata": {},
     "output_type": "execute_result"
    }
   ],
   "source": [
    "maxeon_at_482 = model.predict(np.array([[daily_irradiance]]))[0] + shift\n",
    "maxeon_at_482"
   ],
   "metadata": {
    "collapsed": false,
    "ExecuteTime": {
     "end_time": "2024-03-25T13:27:42.910534Z",
     "start_time": "2024-03-25T13:27:42.905613Z"
    }
   },
   "id": "9981cedfab81c0e3",
   "execution_count": 131
  },
  {
   "cell_type": "code",
   "outputs": [
    {
     "data": {
      "text/plain": "117.68990105477448"
     },
     "execution_count": 271,
     "metadata": {},
     "output_type": "execute_result"
    }
   ],
   "source": [
    "# Given values\n",
    "raptor_daily_harvest = 129000  # in Wh\n",
    "raptor_speed = 5.25  # in m/s\n",
    "target_speed = 3.0  # in m/s\n",
    "\n",
    "# Calculate power used at the original speed (in Watts)\n",
    "power_original_w = raptor_daily_harvest / 24  # Convert Wh to W by dividing by hours in a day\n",
    "\n",
    "# Calculate the power required at the desired speed using the cubic relationship (search: v3)\n",
    "power_required_w = power_original_w * (target_speed / raptor_speed) ** 3\n",
    "\n",
    "daily_energy_output_m2 = daily_irradiance * maxeon_at_482 * 24\n",
    "propulsion_energy_req = power_required_w * 24\n",
    "\n",
    "propulsion_panel_area = propulsion_energy_req / daily_energy_output_m2\n",
    "\n",
    "panel_h = 1.872 # m\n",
    "panel_w = 1.032\n",
    "panel_area = panel_h * panel_w\n",
    "panel_weight = 20.9 # kg\n",
    "panel_kg_per_m2 = panel_weight / panel_area\n",
    "propulsion_energy_weight = panel_kg_per_m2 * propulsion_panel_area\n",
    "\n",
    "battery_density = 500 # Wh/kg\n",
    "storage_capacity = 4146 # Wh, ~v1.6\n",
    "battery_weight = storage_capacity / battery_density\n",
    "\n",
    "electric_weight = battery_weight + propulsion_energy_weight\n",
    "electric_weight\n"
   ],
   "metadata": {
    "collapsed": false,
    "ExecuteTime": {
     "end_time": "2024-03-26T18:53:18.109777Z",
     "start_time": "2024-03-26T18:53:18.101545Z"
    }
   },
   "id": "f92d5b01e43a9866",
   "execution_count": 271
  },
  {
   "cell_type": "code",
   "outputs": [
    {
     "name": "stdout",
     "output_type": "stream",
     "text": [
      "[0.6718445850038959, 0.6868305141541698, 0.701123497001831, 0.7147166653791474, 0.7276091862946793, 0.7398056827923782, 0.7513156168284468]\n"
     ]
    },
    {
     "data": {
      "text/plain": "<Figure size 800x500 with 1 Axes>",
      "image/png": "[encoded data removed]"
     },
     "metadata": {},
     "output_type": "display_data"
    }
   ],
   "source": [
    "# Parameters (0.6765613856938038)\n",
    "L = .90  # https://www.osti.gov/biblio/1090218\n",
    "k = 0.09  # https://www.sciencedirect.com/science/article/abs/pii/S0960148114001451\n",
    "t_0 = 2012\n",
    "start_year = 2024\n",
    "end_year = 2030\n",
    "\n",
    "# Years\n",
    "years = np.arange(start_year, end_year + 1)\n",
    "\n",
    "# Logistic growth model function\n",
    "def logistic_growth(t, L, k, t_0):\n",
    "    return L / (1 + np.exp(-k * (t - t_0)))\n",
    "\n",
    "# Calculate efficiencies for each year\n",
    "efficiencies = [logistic_growth(t, L, k, t_0) for t in years]\n",
    "print(efficiencies)\n",
    "\n",
    "# Plotting the results\n",
    "plt.figure(figsize=(8, 5))\n",
    "plt.plot(years, efficiencies, marker='o')\n",
    "plt.title('Thermal Efficiency Projection Using Logistic Growth Model')\n",
    "plt.xlabel('Year')\n",
    "plt.ylabel('Efficiency (%)')\n",
    "plt.grid(True)\n",
    "plt.show()"
   ],
   "metadata": {
    "collapsed": false,
    "ExecuteTime": {
     "end_time": "2024-03-25T14:03:16.844188Z",
     "start_time": "2024-03-25T14:03:16.728109Z"
    }
   },
   "id": "7fc0bab6590aaddc",
   "execution_count": 147
  },
  {
   "cell_type": "code",
   "outputs": [
    {
     "name": "stdout",
     "output_type": "stream",
     "text": [
      "0.7513156168284468\n"
     ]
    },
    {
     "data": {
      "text/plain": "4.224452281135052"
     },
     "execution_count": 152,
     "metadata": {},
     "output_type": "execute_result"
    }
   ],
   "source": [
    "thermal_eff_2030 = efficiencies[-1]\n",
    "print(thermal_eff_2030)\n",
    "csp_wh_per_m2 = daily_irradiance * thermal_eff_2030 * 24\n",
    "csp_ann_gj_per_m2 = csp_wh_per_m2 * 3.6e-6 * 365\n",
    "csp_ann_t_co2_per_m2 = csp_ann_gj_per_m2 / thermal_requirement_2030\n",
    "csp_ann_t_co2_per_m2"
   ],
   "metadata": {
    "collapsed": false,
    "ExecuteTime": {
     "end_time": "2024-03-25T14:32:26.615948Z",
     "start_time": "2024-03-25T14:32:26.608319Z"
    }
   },
   "id": "b28e2c3ecb4e9087",
   "execution_count": 152
  },
  {
   "cell_type": "code",
   "outputs": [
    {
     "data": {
      "text/plain": "18.812782250670548"
     },
     "execution_count": 254,
     "metadata": {},
     "output_type": "execute_result"
    }
   ],
   "source": [
    "adsorption_ir_midpt = 0.1172984\n",
    "kg_sorbent_per_ton_co2 = 7.5 # (g adsorbent / kg co2 captured) * (1000 / 1000); from https://iopscience.iop.org/article/10.1088/2516-1083/abf1ce/pdf\n",
    "kg_sorbent_2030 = kg_sorbent_per_ton_co2 * (1 - contactor_improvement_rate) ** (2030 - 2021)\n",
    "monolith_ratio = 0.2\n",
    "kg_monolith_per_ton_co2 = kg_sorbent_2030 * monolith_ratio\n",
    "kg_contactor_per_ton_co2 = kg_sorbent_2030 + kg_monolith_per_ton_co2\n",
    "\n",
    "contactor_kg_per_m2_csp = kg_contactor_per_ton_co2 * csp_ann_t_co2_per_m2\n",
    "contactor_kg_per_m2_csp"
   ],
   "metadata": {
    "collapsed": false,
    "ExecuteTime": {
     "end_time": "2024-03-26T15:33:37.206305Z",
     "start_time": "2024-03-26T15:33:37.198748Z"
    }
   },
   "id": "90316f3841b0069c",
   "execution_count": 254
  },
  {
   "cell_type": "code",
   "outputs": [
    {
     "data": {
      "text/plain": "22.5"
     },
     "execution_count": 189,
     "metadata": {},
     "output_type": "execute_result"
    }
   ],
   "source": [
    "csp_frame_kg_per_m2 = 15.0 # https://www.osti.gov/biblio/1888029\n",
    "csp_mirror_kg_per_m2 = 7.5\n",
    "csp_weight_kg = csp_frame_kg_per_m2 + csp_mirror_kg_per_m2\n",
    "csp_weight_kg"
   ],
   "metadata": {
    "collapsed": false,
    "ExecuteTime": {
     "end_time": "2024-03-25T22:12:47.874551Z",
     "start_time": "2024-03-25T22:12:47.870275Z"
    }
   },
   "id": "c6841ff98a67292d",
   "execution_count": 189
  },
  {
   "cell_type": "code",
   "outputs": [
    {
     "data": {
      "text/plain": "9.742685416030508"
     },
     "execution_count": 286,
     "metadata": {},
     "output_type": "execute_result"
    }
   ],
   "source": [
    "# Constants and conversions\n",
    "g_co2_capture_per_min_per_m2_csp = csp_ann_t_co2_per_m2 * 1000 * 1000 / (365 * 24 * 60)\n",
    "molar_mass_co2 = 44.01  \n",
    "molar_volume_at_stp = 22.4\n",
    "cycle_time = 16 # minutes\n",
    "\n",
    "moles_co2_per_minute = g_co2_capture_per_min_per_m2_csp / molar_mass_co2\n",
    "stp_liter_per_cycle = moles_co2_per_minute * molar_volume_at_stp * cycle_time\n",
    "\n",
    "slp_kpa = 101.325\n",
    "press_at_5400m = slp_kpa * (1 - 0.12) ** (5400/1000)\n",
    "liter_per_cycle_at_5400m = stp_liter_per_cycle * slp_kpa / press_at_5400m\n",
    "\n",
    "hdpe_density = 0.95  # density in g/cm^3\n",
    "wall_thickness_cm = 0.5  # wall thickness in cm (5 mm)\n",
    "ratio_diameter_height = 3.5 / 27.5  # inner diameter to height ratio\n",
    "\n",
    "# Convert volume from liters to cubic centimeters\n",
    "volume_cm3 = liter_per_cycle_at_5400m * 1000  # 1 liter = 1000 cm^3\n",
    "\n",
    "# Calculate the inner height (H) of the cylinder using the cubic root\n",
    "# Rearranged formula: H = [(4 * V) / (π * ratio^2)]^(1/3)\n",
    "inner_height_cm = ((4 * volume_cm3) / (math.pi * (ratio_diameter_height ** 2))) ** (1/3)\n",
    "inner_diameter_cm = inner_height_cm * ratio_diameter_height\n",
    "\n",
    "# Calculate the outer dimensions\n",
    "outer_diameter_cm = inner_diameter_cm + 2 * wall_thickness_cm\n",
    "outer_height_cm = inner_height_cm + 2 * wall_thickness_cm\n",
    "\n",
    "# Calculate the volume of the material used\n",
    "# Volume of HDPE = Volume of outer cylinder - Volume of inner cylinder\n",
    "volume_hdpe_cm3 = (math.pi * (outer_diameter_cm/2)**2 * outer_height_cm) - volume_cm3\n",
    "\n",
    "# Calculate the mass of HDPE needed\n",
    "tank_kg_per_m2_csp = (hdpe_density * volume_hdpe_cm3) / 1000  # converting grams to kilograms\n",
    "tank_kg_per_m2_csp\n"
   ],
   "metadata": {
    "collapsed": false,
    "ExecuteTime": {
     "end_time": "2024-03-26T22:21:27.530458Z",
     "start_time": "2024-03-26T22:21:27.523497Z"
    }
   },
   "id": "b59e9469e5152cdb",
   "execution_count": 286
  },
  {
   "cell_type": "code",
   "outputs": [
    {
     "name": "stdout",
     "output_type": "stream",
     "text": [
      "49.764377526005426\n",
      "66.34837752600542\n"
     ]
    },
    {
     "data": {
      "text/plain": "194.85162247399455"
     },
     "execution_count": 266,
     "metadata": {},
     "output_type": "execute_result"
    }
   ],
   "source": [
    "battery_density_2019 = 250 # https://vimeo.com/389506892?utm_campaign=2470763&utm_source=affiliate&utm_channel=affiliate&cjevent=c37b9631eb7411ee82ea00660a82b839&clickid=c37b9631eb7411ee82ea00660a82b839\n",
    "quail_storage_capacity = 4146 # Wh\n",
    "quail_battery_weight = quail_storage_capacity / battery_density_2019\n",
    "\n",
    "quail_panel_area = 4.6\n",
    "quail_panel_weight = quail_panel_area * panel_kg_per_m2\n",
    "print(quail_panel_weight)\n",
    "quail_electric_weight = quail_battery_weight + quail_panel_weight\n",
    "print(quail_electric_weight)\n",
    "\n",
    "quail_max_lifting_weight = 261.2\n",
    "quail_unpowered_weight = quail_max_lifting_weight - quail_electric_weight\n",
    "quail_unpowered_weight\n"
   ],
   "metadata": {
    "collapsed": false,
    "ExecuteTime": {
     "end_time": "2024-03-26T18:34:56.177610Z",
     "start_time": "2024-03-26T18:34:56.174206Z"
    }
   },
   "id": "3a21bc0339d6d404",
   "execution_count": 266
  },
  {
   "cell_type": "code",
   "outputs": [
    {
     "data": {
      "text/plain": "51194.78641956336"
     },
     "execution_count": 204,
     "metadata": {},
     "output_type": "execute_result"
    }
   ],
   "source": [
    "T0 = 288.15  # Sea level standard temperature in Kelvin\n",
    "P0 = 101325  # Sea level standard pressure in Pascals\n",
    "g = 9.80665  # Acceleration due to gravity in m/s^2\n",
    "L = 0.0065  # Temperature lapse rate in K/m\n",
    "R = 287.058  # Specific gas constant for dry air in J/(kg*K)\n",
    "\n",
    "# Calculate the temperature at the given altitude\n",
    "T = T0 - L * 5400\n",
    "\n",
    "# Apply the barometric formula\n",
    "P = P0 * (T / T0) ** (g / (L * R))\n",
    "P"
   ],
   "metadata": {
    "collapsed": false,
    "ExecuteTime": {
     "end_time": "2024-03-26T00:06:56.441351Z",
     "start_time": "2024-03-26T00:06:56.433867Z"
    }
   },
   "id": "4f912daed713dab2",
   "execution_count": 204
  },
  {
   "cell_type": "code",
   "outputs": [
    {
     "data": {
      "text/plain": "253.04999999999998"
     },
     "execution_count": 205,
     "metadata": {},
     "output_type": "execute_result"
    }
   ],
   "source": [
    "T = T0 - L * 5400\n",
    "T"
   ],
   "metadata": {
    "collapsed": false,
    "ExecuteTime": {
     "end_time": "2024-03-26T00:08:54.432254Z",
     "start_time": "2024-03-26T00:08:54.425582Z"
    }
   },
   "id": "bb549f66cb360078",
   "execution_count": 205
  },
  {
   "cell_type": "code",
   "outputs": [
    {
     "data": {
      "text/plain": "1779.3370692832655"
     },
     "execution_count": 219,
     "metadata": {},
     "output_type": "execute_result"
    }
   ],
   "source": [
    "# Constants\n",
    "g = const.g  # Acceleration due to gravity (m/s^2)\n",
    "M_air = 28.97e-3  # Molar mass of air (kg/mol)\n",
    "M_hydrogen = 2.016e-3  # Molar mass of hydrogen (kg/mol)\n",
    "\n",
    "density_air = (P * M_air) / (const.R * T)\n",
    "\n",
    "# Calculate the density of hydrogen at the given altitude\n",
    "density_hydrogen = (P * M_hydrogen) / (const.R * T)\n",
    "density_diff = density_air - density_hydrogen\n",
    "\n",
    "quail_envelope_vol = 2713\n",
    "mass_lifted = quail_envelope_vol * density_diff\n",
    "mass_lifted"
   ],
   "metadata": {
    "collapsed": false,
    "ExecuteTime": {
     "end_time": "2024-03-26T14:46:54.661852Z",
     "start_time": "2024-03-26T14:46:54.654059Z"
    }
   },
   "id": "4fe445b70e0b00cc",
   "execution_count": 219
  },
  {
   "cell_type": "code",
   "outputs": [
    {
     "name": "stdout",
     "output_type": "stream",
     "text": [
      "28.729450787327846\n"
     ]
    },
    {
     "data": {
      "text/plain": "121.36619391428432"
     },
     "execution_count": 284,
     "metadata": {},
     "output_type": "execute_result"
    }
   ],
   "source": [
    "kg_per_m2_csp = csp_weight_kg + mass_hdpe_kg + contactor_kg_per_m2_csp\n",
    "\n",
    "available_lifted_mass = mass_lifted - quail_unpowered_weight \n",
    "non_electric_payload = available_lifted_mass - electric_weight\n",
    "\n",
    "m2_csp = non_electric_payload / kg_per_m2_csp\n",
    "print(m2_csp)\n",
    "\n",
    "total_co2_capture = m2_csp * csp_ann_t_co2_per_m2\n",
    "total_co2_capture\n"
   ],
   "metadata": {
    "collapsed": false,
    "ExecuteTime": {
     "end_time": "2024-03-26T22:15:12.058576Z",
     "start_time": "2024-03-26T22:15:12.054140Z"
    }
   },
   "id": "a39f743d776a0f9e",
   "execution_count": 284
  },
  {
   "cell_type": "code",
   "outputs": [
    {
     "name": "stdout",
     "output_type": "stream",
     "text": [
      "165.2079294\n",
      "90.6563765745413\n"
     ]
    },
    {
     "data": {
      "text/plain": "74.55155282545871"
     },
     "execution_count": 262,
     "metadata": {},
     "output_type": "execute_result"
    }
   ],
   "source": [
    "federal_45q_credit = 180 # $/ton\n",
    "net_credit = federal_45q_credit * (1 - embodied_material_emissions)\n",
    "print(net_credit)\n",
    "storage_ir = 0.0497563\n",
    "scus_cost_2021 = 16.0 # ocean (ship) https://www.sciencedirect.com/science/article/pii/S2772970223000032\n",
    "scus_cost_2030 = scus_cost_2021 * (1 - storage_ir) ** (2030 - 2021)\n",
    "costs[\"opex\"][\"aero\"][\"scus\"] = scus_cost_2030\n",
    "costs[\"capex\"][\"aero\"][\"storage\"] = 13.53\n",
    "total_aero_cost = sum(costs[\"capex\"][\"aero\"].values()) + sum(costs[\"opex\"][\"aero\"].values())\n",
    "print(total_aero_cost)\n",
    "airship_budget = net_credit - total_aero_cost\n",
    "airship_budget"
   ],
   "metadata": {
    "collapsed": false,
    "ExecuteTime": {
     "end_time": "2024-03-26T15:52:36.700571Z",
     "start_time": "2024-03-26T15:52:36.695391Z"
    }
   },
   "id": "274ee1b34122cd63",
   "execution_count": 262
  },
  {
   "cell_type": "code",
   "outputs": [
    {
     "data": {
      "text/plain": "9246.943280521906"
     },
     "execution_count": 272,
     "metadata": {},
     "output_type": "execute_result"
    }
   ],
   "source": [
    "q_cells_m2 = 1722 * 1134 / 1000000 # https://ressupply.com/q-cells?sort=p.price&order=DESC\n",
    "q_cells_price_2024 = 315.0\n",
    "solar_pv_ir = .09\n",
    "q_cells_price_2030 = q_cells_price_2024 * (1 - solar_pv_ir) ** (2030 - 2024)\n",
    "q_cells_price_per_m2_2030 = q_cells_price_2030 / q_cells_m2\n",
    "q_cells_price_per_m2_2030\n",
    "\n",
    "battery_price_2030 = 80.0 # $/kWh https://about.bnef.com/blog/lithium-ion-battery-pack-prices-hit-record-low-of-139-kwh/#:~:text=Technological%20innovation%20and%20manufacturing%20improvement,and%20%2480%2FkWh%20in%202030.\n",
    "battery_cost_2030 = quail_storage_capacity / 1000 * battery_price_2030\n",
    "quail_power_cost = (quail_panel_area * q_cells_price_per_m2_2030) + battery_cost_2030\n",
    "quail_power_cost\n",
    "\n",
    "flight_vehicle_cost = 10000 # https://www.pcworld.com/article/428013/two-years-on-googles-project-loon-drifts-into-focus.html\n",
    "balloon_and_flight_cost = flight_vehicle_cost - quail_power_cost\n",
    "balloon_and_flight_cost"
   ],
   "metadata": {
    "collapsed": false,
    "ExecuteTime": {
     "end_time": "2024-03-26T18:54:15.297335Z",
     "start_time": "2024-03-26T18:54:15.292471Z"
    }
   },
   "id": "cc46a7e38ce7f97c",
   "execution_count": 272
  },
  {
   "cell_type": "code",
   "outputs": [
    {
     "name": "stdout",
     "output_type": "stream",
     "text": [
      "PV panel cost in 2030: $926.32 (10.11 m² of PV panels, 91.60 $/m²)\n",
      "Battery cost in 2030: $331.68 (4146.00 Wh battery, 80.00 $/kWh)\n",
      "CSP cost in 2030: $4366.88 (28.73 m² of CSP panels, 152.00 $/m²)\n",
      "Tank cost in 2030: $468.98 (279.90 kg of HDPE to store 3.75 m³ of CO2)\n"
     ]
    }
   ],
   "source": [
    "aero_pv_cost = propulsion_panel_area * q_cells_price_per_m2_2030\n",
    "print(f\"PV panel cost in 2030: ${aero_pv_cost:.2f} ({propulsion_panel_area:.2f} m² of PV panels, {q_cells_price_per_m2_2030:.2f} $/m²)\")\n",
    "aero_battery_cost = battery_cost_2030\n",
    "print(f\"Battery cost in 2030: ${aero_battery_cost:.2f} ({quail_storage_capacity:.2f} Wh battery, {battery_price_2030:.2f} $/kWh)\")\n",
    "\n",
    "csp_panel_cost_per_m2 = 152.0 # https://www.nrel.gov/docs/fy21osti/77829.pdf\n",
    "csp_panel_cost = csp_panel_cost_per_m2 * m2_csp\n",
    "print(f\"CSP cost in 2030: ${csp_panel_cost:.2f} ({m2_csp:.2f} m² of CSP panels, {csp_panel_cost_per_m2:.2f} $/m²)\")\n",
    "\n",
    "rhdpe_price_lb = .76 # $/lb https://www.spglobal.com/commodityinsights/en/our-methodology/price-assessments/chemicals/us-recycled-hdpe\n",
    "rhdpe_price_kg = rhdpe_price_lb * 2.20462\n",
    "tank_weight_kg = tank_kg_per_m2_csp * m2_csp\n",
    "unpressurized_store_m3 = liter_per_cycle_at_5400m * m2_csp / 1000\n",
    "tank_cost = tank_weight_kg * rhdpe_price_kg\n",
    "print(f\"Tank cost in 2030: ${tank_cost:.2f} ({tank_weight_kg:.2f} kg of HDPE to store {unpressurized_store_m3:.2f} m³ of CO2)\")\n",
    "\n"
   ],
   "metadata": {
    "collapsed": false,
    "ExecuteTime": {
     "end_time": "2024-03-27T00:10:13.550922Z",
     "start_time": "2024-03-27T00:10:13.546492Z"
    }
   },
   "id": "e6163d193b817270",
   "execution_count": 298
  }
 ],
 "metadata": {
  "kernelspec": {
   "display_name": "Python 3",
   "language": "python",
   "name": "python3"
  },
  "language_info": {
   "codemirror_mode": {
    "name": "ipython",
    "version": 2
   },
   "file_extension": ".py",
   "mimetype": "text/x-python",
   "name": "python",
   "nbconvert_exporter": "python",
   "pygments_lexer": "ipython2",
   "version": "2.7.6"
  }
 },
 "nbformat": 4,
 "nbformat_minor": 5
}
